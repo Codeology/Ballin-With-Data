{
 "cells": [
  {
   "cell_type": "markdown",
   "metadata": {},
   "source": [
    "# Week 6: Decision Trees"
   ]
  },
  {
   "cell_type": "code",
   "execution_count": 3,
   "metadata": {},
   "outputs": [],
   "source": [
    "# Standard imports\n",
    "# If any of these don't work, try doing `pip install _____`, or try looking up the error message.\n",
    "import numpy as np\n",
    "import pandas as pd\n",
    "import json\n",
    "import time\n",
    "import os.path\n",
    "from os import path\n",
    "import math\n",
    "import datetime\n",
    "import unidecode\n",
    "import requests\n",
    "from bs4 import BeautifulSoup\n",
    "import matplotlib.pyplot as plt\n",
    "import seaborn as sns\n",
    "import sklearn\n",
    "from sklearn.model_selection import train_test_split\n",
    "import time"
   ]
  },
  {
   "cell_type": "markdown",
   "metadata": {},
   "source": [
    "# Intro"
   ]
  },
  {
   "cell_type": "code",
   "execution_count": 4,
   "metadata": {},
   "outputs": [],
   "source": [
    "temp = pd.read_csv('data/player_data_final.csv')\n",
    "data = temp.set_index('name')"
   ]
  },
  {
   "cell_type": "markdown",
   "metadata": {},
   "source": [
    "<a id='decision_trees'></a>\n",
    "# Decision Trees"
   ]
  },
  {
   "cell_type": "markdown",
   "metadata": {},
   "source": [
    "Decision trees rely on the idea of **splitting up your data points with linear decision boundaries into different sections**. In order words, it's asking a series of yes or no questions to make our decision/estimation on which class an input point falls under."
   ]
  },
  {
   "cell_type": "markdown",
   "metadata": {},
   "source": [
    "Here's a couple examples of what a decision trees look like:\n",
    "\n",
    "<img src='pictures/XKCD.png' width=35%>"
   ]
  },
  {
   "cell_type": "markdown",
   "metadata": {},
   "source": [
    "As we can see from the tree above, we are able to answer a yes or no question at every step, and depending on our answer, we either went one way or another through the three. They are very synonymous to flowcharts, but we'll go into more intricacies with decision trees later on. In practice, with decision tree models, they won't have cycles, but they'll have the same logic structure. Here's another example of a decision tree made by Rosa!"
   ]
  },
  {
   "cell_type": "markdown",
   "metadata": {},
   "source": [
    "<img src='pictures/meme.png' width=40%>"
   ]
  },
  {
   "cell_type": "markdown",
   "metadata": {},
   "source": [
    "Meme credit to $\\text{Rosa Choe}^{\\text{TM}}$."
   ]
  },
  {
   "cell_type": "markdown",
   "metadata": {},
   "source": [
    "Now that we've seen a couple examples of decision trees, we can see how they can be used to help us classify a given input data point with a series of question to determine which class the data point lies within.\n",
    "\n",
    "**Question:** How might you go about making the different components of a decision tree?"
   ]
  },
  {
   "cell_type": "markdown",
   "metadata": {},
   "source": [
    "The intuition behind making a good decision tree is optimizing our questions (or different steps in the decision tree) to be able *to split up the data into as different categories as possible*. For example in the iris case, we would like to find a split where we may separate the various irises as much as possible. Now the question that arises, what is a good method through which we can determine these different bounds to split upon? We introduce the idea of **entropy**, where we minimize the entropy, or randomness in each split section of the data."
   ]
  },
  {
   "cell_type": "markdown",
   "metadata": {},
   "source": [
    "<a id='entropy'></a>\n",
    "## Entropy"
   ]
  },
  {
   "cell_type": "markdown",
   "metadata": {},
   "source": [
    "To begin, let's first define what entropy is. In the context of machine learning, entropy is **the measure of disorder  within a set** or the **amount of surprise**."
   ]
  },
  {
   "cell_type": "markdown",
   "metadata": {},
   "source": [
    "A great visualization for different entropies is as follows:\n",
    "<img src='pictures/Entropy.png' width='50%'>"
   ]
  },
  {
   "cell_type": "markdown",
   "metadata": {},
   "source": [
    "Let's say $Pr(X = 1)$ is the probability that you flips a heads, where heads is represented by $1$ and tails is represented by $0$. From this, we can see that the y-value, $H(X)$ (or calculated entropy), is at a minimum when the chance of flipping a heads is $0$ or $1$, but is at a maximum when the chance of flipping a heads is $0.5$. In other words, the data subset is the most random when there is an equal probability of all classes, and minimized when there are probabilites of classes that are equal to $0$."
   ]
  },
  {
   "cell_type": "markdown",
   "metadata": {},
   "source": [
    "Mathematical equation for Entropy:\n",
    "\n",
    "$$H(\\textbf{p}) = -\\sum_i p_i \\cdot \\log(p_i)$$\n",
    "\n",
    "where $H(\\textbf{p})$ is equal to the total entropy of the data set, and $p_i$ is equal to the probability of something occurring.\n",
    "\n",
    "**Something to note:** When you calculate the entropy on a subset with data points that are all the same class, you run into a mathematical error, which is because $\\log_{2}(0)$ cannot be calculated. So, as an alternative to calculating $\\log_{2}(0)$, we can bring in the following limit instead:\n",
    "\n",
    "$$\\lim _{p\\to 0+}p\\log(p)=0$$"
   ]
  },
  {
   "cell_type": "markdown",
   "metadata": {},
   "source": [
    "Now what does this mean in the context of decision trees? Well, let's take a look at a random scatter of different points that are classified blue and orange."
   ]
  },
  {
   "cell_type": "code",
   "execution_count": 5,
   "metadata": {},
   "outputs": [
    {
     "data": {
      "image/png": "[encoded data removed]",
      "text/plain": [
       "<Figure size 432x288 with 1 Axes>"
      ]
     },
     "metadata": {
      "needs_background": "light"
     },
     "output_type": "display_data"
    }
   ],
   "source": [
    "import numpy as np\n",
    "import matplotlib.pyplot as plt\n",
    "\n",
    "rng0 = np.random.RandomState(0)\n",
    "rng1 = np.random.RandomState(1)\n",
    "\n",
    "blueX = rng0.randn(50)\n",
    "blueY = rng0.randn(50)\n",
    "orangeX = rng1.randn(100)\n",
    "orangeY = rng1.randn(100) - 2\n",
    "plt.scatter(blueX, blueY);\n",
    "plt.scatter(orangeX, orangeY);"
   ]
  },
  {
   "cell_type": "markdown",
   "metadata": {},
   "source": [
    "In this example, we have $50$ blue points centered around `y=0` and $100$ orange points centered around `y=-2`.\n",
    "\n",
    "From above, we can see that a good decision boundary to split our data might be at the line `y = -1`. But in order to back our visual findings with numerical proof, let's calculate the entropy of the set of data we have (which is basically just the entire data set as of now), and the entropy of each split data set weighted by the proportion of data points in each section. Now that might seem like a lot, but we'll break it down into different steps."
   ]
  },
  {
   "cell_type": "markdown",
   "metadata": {},
   "source": [
    "To begin, we've provided the following helper function to calculate entropy given a list of probabilities!"
   ]
  },
  {
   "cell_type": "code",
   "execution_count": 6,
   "metadata": {},
   "outputs": [],
   "source": [
    "def entropy(probabilities):\n",
    "    \"\"\"\n",
    "    Takes in probabilities as an array or list, and calculates the \n",
    "    Shannon's entropy of the set of data (defined above)\n",
    "    \"\"\"\n",
    "    total = 0\n",
    "    for prob in probabilities:\n",
    "        total -= prob * np.log2(prob)\n",
    "    return total"
   ]
  },
  {
   "cell_type": "markdown",
   "metadata": {},
   "source": [
    "So, let's take a look at the entropy calculated from entire dataset itself."
   ]
  },
  {
   "cell_type": "code",
   "execution_count": 7,
   "metadata": {},
   "outputs": [],
   "source": [
    "# Input the probabilities of each class\n",
    "# Hint: 2/3 of the points are orange, 1/3 of the points are blue\n",
    "probabilities = ..."
   ]
  },
  {
   "cell_type": "markdown",
   "metadata": {},
   "source": [
    "We can see that it's about $0.92$! But what does this metric mean? Well, to see its significance, let's take a look at the different entropies of the two data subsets we get after we split the data with the line `y = -1`."
   ]
  },
  {
   "cell_type": "markdown",
   "metadata": {},
   "source": [
    "Here's a plot of the data with a horizontal line drawn at `y = -1`!."
   ]
  },
  {
   "cell_type": "code",
   "execution_count": 8,
   "metadata": {},
   "outputs": [
    {
     "data": {
      "image/png": "[encoded data removed]",
      "text/plain": [
       "<Figure size 432x288 with 1 Axes>"
      ]
     },
     "metadata": {
      "needs_background": "light"
     },
     "output_type": "display_data"
    }
   ],
   "source": [
    "plt.scatter(blueX, blueY);\n",
    "plt.scatter(orangeX, orangeY);\n",
    "plt.axhline(y=-1, color='red');"
   ]
  },
  {
   "cell_type": "markdown",
   "metadata": {},
   "source": [
    "Now, let's calculate the entropies of each of the two data subsets!"
   ]
  },
  {
   "cell_type": "code",
   "execution_count": 9,
   "metadata": {},
   "outputs": [
    {
     "data": {
      "text/plain": [
       "0.23735442860174844"
      ]
     },
     "execution_count": 9,
     "metadata": {},
     "output_type": "execute_result"
    }
   ],
   "source": [
    "# Counting the number of orange and blue data points below the line y = -1.\n",
    "orange_below_neg1= sum(orangeY < -1)\n",
    "blue_below_neg1= sum(blueY < -1)\n",
    "\n",
    "total_below = orange_below_neg1 + blue_below_neg1\n",
    "\n",
    "# Calculating the entropy of the subset with data points with y-values less than -1.\n",
    "bottom_entropy = entropy([orange_below_neg1 / total_below, blue_below_neg1 / total_below])\n",
    "\n",
    "# Calculating the entropy of the subset with respective to its proportion size\n",
    "bottom_entropy *= (total_below / 150) # 150 total data points\n",
    "bottom_entropy"
   ]
  },
  {
   "cell_type": "markdown",
   "metadata": {},
   "source": [
    "Now, just from calculating the entropy in the subset of data points with y-values less than 1, and multiplying it by the proportion of data points in the lower subset, we see that it's already significantly lower than the entropy calculated from the entire dataset itself! However, we still need to calculate the entropy for the upper subset of data as well, and add those entropies up. Only if the summed entropies is less than the initial entropy level will we be able to conclude that this boundary we've created is useful."
   ]
  },
  {
   "cell_type": "markdown",
   "metadata": {},
   "source": [
    "DIY! Calculate the entropy of the subset of data points with y-values > -1 multiplied by the proportion of data points in that subset."
   ]
  },
  {
   "cell_type": "code",
   "execution_count": 10,
   "metadata": {},
   "outputs": [],
   "source": [
    "# Hint: Copy over what we did to calculate the bottom entropy, and change some things to get a value for the top entropy!\n",
    "orange_above_neg1= sum(orangeY >= -1)\n",
    "blue_above_neg1= sum(blueY >= -1)\n",
    "\n",
    "top_entropy = ..."
   ]
  },
  {
   "cell_type": "code",
   "execution_count": 11,
   "metadata": {},
   "outputs": [
    {
     "ename": "AssertionError",
     "evalue": "",
     "output_type": "error",
     "traceback": [
      "\u001b[0;31m-----------------------------------------------------------------------\u001b[0m",
      "\u001b[0;31mAssertionError\u001b[0m                        Traceback (most recent call last)",
      "\u001b[0;32m<ipython-input-11-472d79b5ae5d>\u001b[0m in \u001b[0;36m<module>\u001b[0;34m\u001b[0m\n\u001b[0;32m----> 1\u001b[0;31m \u001b[0;32massert\u001b[0m \u001b[0mtop_entropy\u001b[0m \u001b[0;34m==\u001b[0m \u001b[0;36m0.33164370306772284\u001b[0m\u001b[0;34m\u001b[0m\u001b[0m\n\u001b[0m",
      "\u001b[0;31mAssertionError\u001b[0m: "
     ]
    }
   ],
   "source": [
    "assert top_entropy == 0.33164370306772284"
   ]
  },
  {
   "cell_type": "markdown",
   "metadata": {},
   "source": [
    "Now, let's calculate the total entropy of both subsets!"
   ]
  },
  {
   "cell_type": "code",
   "execution_count": null,
   "metadata": {},
   "outputs": [],
   "source": [
    "total_entropy = bottom_entropy + top_entropy\n",
    "total_entropy"
   ]
  },
  {
   "cell_type": "markdown",
   "metadata": {},
   "source": [
    "Nice! From this process, we can clearly see that $0.57$ is less than $0.92$, so the decision boundary we introduced made the overall entropy of the data points lower! We've now got two subsets of the data that have lower entropy, meaning there is less disorder in terms of proportion between the two classes within each subset. We've officially made our first branch our decision tree!\n"
   ]
  },
  {
   "cell_type": "markdown",
   "metadata": {},
   "source": [
    "Now, we're able to see from a numerical approach on which decision boundaries would be effective in terms of classifying our data, but we it is not obvious how we chose the line `y = -1`! From the above example, we derived the line `y = -1` from looking at the data, but sometimes it's not so clear to determine where decision boundaries should lie. In practice, we just try many decision boundaries and use the one that minimizes overall entropy."
   ]
  },
  {
   "cell_type": "markdown",
   "metadata": {},
   "source": [
    "## When Dealing with Quantitative Predictions..."
   ]
  },
  {
   "cell_type": "markdown",
   "metadata": {},
   "source": [
    "As you might've noticed from above, we can't necessarily use these decision tree predictions on our data, **since our predictions are quantitative instead of qualitative** (i.e. can't use orange and blue dots to represent predictions of number of NBA pts). So, **how might we be able to change some parts of the decision tree above to work for our data?**"
   ]
  },
  {
   "cell_type": "markdown",
   "metadata": {},
   "source": [
    "## Regression Loss Functions"
   ]
  },
  {
   "cell_type": "code",
   "execution_count": null,
   "metadata": {},
   "outputs": [],
   "source": [
    "def MSE(y_pred, y_actual):\n",
    "    \"\"\"\n",
    "    Finds the mean squared error.\n",
    "    \"\"\"\n",
    "    return sum((y_pred - y_actual)**2)"
   ]
  },
  {
   "cell_type": "markdown",
   "metadata": {},
   "source": [
    "Now, we are able to use the **Mean Squared Error** method above to calculate entropy instead (the mean squared error of all the same predictions will equal 0). This way, we can still result in a **concave** loss function (which is important to find only one maximally effective threshold for a given feature, and begin applying the same theory and techniques from above to here."
   ]
  },
  {
   "cell_type": "markdown",
   "metadata": {},
   "source": [
    "<a id='back_to_decision_trees'></a>\n",
    "## Back to Decision Trees"
   ]
  },
  {
   "cell_type": "markdown",
   "metadata": {},
   "source": [
    "Now that we've seen how entropy and regression loss functions can help us determine which decision boundaries are good for our decision tree, let's get to constructing a decision tree of our own!"
   ]
  },
  {
   "cell_type": "code",
   "execution_count": null,
   "metadata": {},
   "outputs": [],
   "source": [
    "!pip install graphviz"
   ]
  },
  {
   "cell_type": "code",
   "execution_count": null,
   "metadata": {},
   "outputs": [],
   "source": [
    "from sklearn import datasets"
   ]
  },
  {
   "cell_type": "code",
   "execution_count": null,
   "metadata": {},
   "outputs": [],
   "source": [
    "from sklearn.tree import DecisionTreeClassifier\n",
    "from helpers import plot_tree\n",
    "from helpers import plotPairwiseDecisionTrees"
   ]
  },
  {
   "cell_type": "code",
   "execution_count": null,
   "metadata": {},
   "outputs": [],
   "source": [
    "#importing the data\n",
    "iris = datasets.load_iris()\n",
    "iris = pd.DataFrame(data= np.c_[iris['data'], iris['target']],\n",
    "                     columns= ['Sepal Length', 'Sepal Width','Petal Length','Petal Width'] + ['species'])\n",
    "\n",
    "#y contains the correct classifications (0, 1, 2 for each type of Iris)\n",
    "Y = iris[\"species\"]\n"
   ]
  },
  {
   "cell_type": "code",
   "execution_count": null,
   "metadata": {},
   "outputs": [],
   "source": [
    "feature_columns = ['Sepal Length', 'Sepal Width','Petal Length','Petal Width']\n",
    "X = iris[feature_columns].values\n",
    "Y = iris['species'].values\n",
    "\n",
    "# Alternative way of selecting features and labels arrays:\n",
    "# X = dataset.iloc[:, 1:5].values\n",
    "# y = dataset.iloc[:, 5].values"
   ]
  },
  {
   "cell_type": "markdown",
   "metadata": {},
   "source": [
    "#### Splitting the Data into Train and Test Sets"
   ]
  },
  {
   "cell_type": "code",
   "execution_count": null,
   "metadata": {},
   "outputs": [],
   "source": [
    "#Splitting dataset into training and test\n",
    "from sklearn.model_selection import train_test_split\n",
    "X_train, X_test, Y_train, Y_test = train_test_split(X, Y, test_size = 0.2, random_state = 0)"
   ]
  },
  {
   "cell_type": "code",
   "execution_count": null,
   "metadata": {},
   "outputs": [],
   "source": [
    "decision_tree = DecisionTreeClassifier('entropy')\n",
    "decision_tree"
   ]
  },
  {
   "cell_type": "markdown",
   "metadata": {},
   "source": [
    "Take a look at some of the different parameters that were printed! We have things ranging from `min_samples_leaf` to `max_features`; all different parameters that can construct our desired decision tree differently. Now, like any machine learning model, let's FIT it against some training data!"
   ]
  },
  {
   "cell_type": "code",
   "execution_count": null,
   "metadata": {},
   "outputs": [],
   "source": [
    "# Hint: Take a look a the documentation to see how we can fit our model against our iris using shift tab\n",
    "# Hint: Keep in mind we have X_train and Y_train\n",
    "\n",
    "decision_tree.fit(X_train, Y_train)"
   ]
  },
  {
   "cell_type": "markdown",
   "metadata": {},
   "source": [
    "Nice! Now that we've constructed a decision tree off of the Iris data set, let's see what it looks like!"
   ]
  },
  {
   "cell_type": "code",
   "execution_count": null,
   "metadata": {
    "scrolled": false
   },
   "outputs": [],
   "source": [
    "# plot_tree('entropy', 'best', datasets.load_iris())\n",
    "plot_tree(datasets.load_iris())"
   ]
  },
  {
   "cell_type": "markdown",
   "metadata": {},
   "source": [
    "You might be able to tell that you can play around with the drop-down boxes and select which depth of tree you'd like to see, as well as input different kinds of datasets into the third argument of the `plot_tree` function. Try plugging in different kinds of data sets into the third argument of the function and see the different decision trees that pop up as a result! (Some data sets you can try out are `datasets.load_breast_cancer()` and `datasets.load_wine()`, but feel free to try other data sets that require classification!)"
   ]
  },
  {
   "cell_type": "markdown",
   "metadata": {},
   "source": [
    "One thing that we want to highlight is that these decision trees stopped making decision boundaries (or branches) when the subsets were completely pure (entropy = 0)! That means that all the data points within that subset were all of the same class, and that we were able to classify every data point perfectly. Now, we can begin to classify future data points!"
   ]
  },
  {
   "cell_type": "markdown",
   "metadata": {},
   "source": [
    "**Questions for understanding:**\n",
    "> 1. Why don't we keep making deeper and deeper trees to get fully \"pure\" leaves?\n",
    "> 2. How does bias and variance change with tree depth?"
   ]
  },
  {
   "cell_type": "markdown",
   "metadata": {},
   "source": [
    "One thing we might notice with this strategy of splitting data points until they reach \"pure\" data subsets is that the decision trees will be liable to **overfitting**! Let's take a look at a great example:"
   ]
  },
  {
   "cell_type": "markdown",
   "metadata": {},
   "source": [
    "<img src=\"pictures/DecisionTreeError.png\" width=\"60%\">\n",
    "Image from http://www.cs.cornell.edu/courses/cs4780/2017sp/lectures/lecturenote17.html"
   ]
  },
  {
   "cell_type": "markdown",
   "metadata": {},
   "source": [
    "**Question:** What are some methods to avoid overfitting (consider depth and number of samples in the leaves)?"
   ]
  },
  {
   "cell_type": "markdown",
   "metadata": {},
   "source": [
    "Our solution to this problem of overfitting is limiting the number of splits your decision tree takes! By setting a certain quota for the number of splits your decision tree takes, we can ensure we don't end up with scenarios with the graph on the left, where we are too precisely creating decision boundaries."
   ]
  },
  {
   "cell_type": "markdown",
   "metadata": {},
   "source": [
    "Here's another good example!"
   ]
  },
  {
   "cell_type": "code",
   "execution_count": null,
   "metadata": {},
   "outputs": [],
   "source": [
    "# From http://scikit-learn.org/stable/auto_examples/tree/plot_iris.html\n",
    "# Max Depth 2\n",
    "plotPairwiseDecisionTrees(2)\n",
    "# Max Depth 4\n",
    "plotPairwiseDecisionTrees(4)\n",
    "# No Max Depth\n",
    "plotPairwiseDecisionTrees()"
   ]
  },
  {
   "cell_type": "markdown",
   "metadata": {},
   "source": [
    "**Questions for understanding:**\n",
    "> 1. What do the colored points and regions represent?\n",
    "> 2. What are some trends as the trees get deeper?\n",
    "> 3. How do the decision boundaries change with depth?"
   ]
  },
  {
   "cell_type": "markdown",
   "metadata": {},
   "source": [
    "As we can see, the deeper our tree goes, the higher the variance is within the tree, as the decision tree is tailored towards our training data, and could be completely different had we just added/removed a couple data points. However, it also has low bias, as it won't consistently classify certain data points incorrectly (it's too precise!)"
   ]
  },
  {
   "cell_type": "markdown",
   "metadata": {},
   "source": [
    "# Your Turn"
   ]
  },
  {
   "cell_type": "markdown",
   "metadata": {},
   "source": [
    "Now, let's try to apply the same techniques, while keeping in mind under/over-fitting and the bias-variance tradeoff, to construct a Regression Tree (a decision tree that does regression) of our own!"
   ]
  },
  {
   "cell_type": "markdown",
   "metadata": {},
   "source": [
    "Take a look at `sklearn`'s **DecisionTreeRegressor** framework to get started!"
   ]
  },
  {
   "cell_type": "markdown",
   "metadata": {},
   "source": [
    "## Sandbox"
   ]
  },
  {
   "cell_type": "code",
   "execution_count": null,
   "metadata": {},
   "outputs": [],
   "source": [
    "# DO ANY WORK YOU NEED HERE!\n",
    "\n",
    "# Clean and standardize data\n",
    "\n",
    "# Conduct train-test split\n",
    "\n",
    "# Create model and fit on data\n",
    "\n",
    "# Make predictions\n",
    "\n",
    "# Calculate accuracy!\n",
    "\n",
    "predictions = ..."
   ]
  },
  {
   "cell_type": "markdown",
   "metadata": {},
   "source": [
    "## For those up for a challenge..."
   ]
  },
  {
   "cell_type": "markdown",
   "metadata": {},
   "source": [
    "This is actually a problem from our latest CS 189 homework. If you're up for implementing a Regression Tree from scratch, take a look at the helper methods we've provided below!"
   ]
  },
  {
   "cell_type": "code",
   "execution_count": null,
   "metadata": {},
   "outputs": [],
   "source": [
    "class RegressionTree:\n",
    "    def __init__(self, max_depth=20, feature_labels=None):\n",
    "        \"\"\"\n",
    "        Initialize DecisionTree.\n",
    "        \"\"\"\n",
    "        self.max_depth = max_depth \n",
    "        self.features = feature_labels\n",
    "        self.left, self.right = None, None  # for non-leaf nodes\n",
    "        self.split_idx, self.thresh = None, None  # for non-leaf nodes, split feature index and threshold\n",
    "        self.data, self.pred = None, None  # for leaf nodes, the data in this leaf node and the prediction associated with this leaf.\n",
    "        self.eps = 1e-05\n",
    "\n",
    "    @staticmethod\n",
    "    def information_gain(X, y, thresh):\n",
    "        \"\"\"\n",
    "        X -> n x 1 array, where array is a column of a single feature\n",
    "        y -> n x 1 array, array is all labels\n",
    "        thresh -> threshold to split X column on.\n",
    "        \n",
    "        Return information gained from before MSE - after MSE.\n",
    "        \"\"\"\n",
    "        # Calculate the different sets\n",
    "    \n",
    "        # Calculate current, left, and right MSE's\n",
    "        \n",
    "        # Weight post MSE\n",
    "        \n",
    "        # Return former MSE - weighted post MSE\n",
    "        \n",
    "        return\n",
    "\n",
    "    @staticmethod\n",
    "    def MSE(X, y, thresh):\n",
    "        \"\"\"\n",
    "        Calculates the MSE of the different predictions.\n",
    "        \"\"\"\n",
    "        # TODO\n",
    "        return\n",
    "        \n",
    "    def split(self, X, y, idx, thresh):\n",
    "        \"\"\"\n",
    "        Splits the data at the given feature (idx) for a certain threshold (thresh).\n",
    "        \"\"\"\n",
    "        # TODO\n",
    "        return\n",
    "\n",
    "    def split_test(self, X, idx, thresh):\n",
    "        \"\"\"\n",
    "        Splits the data and returns both data sets and indices for rows of both data sets.\n",
    "        \"\"\"\n",
    "        idx0 = np.where(X[:, idx] < thresh)[0]\n",
    "        idx1 = np.where(X[:, idx] >= thresh)[0]\n",
    "        X0, X1 = X[idx0, :], X[idx1, :]\n",
    "        return X0, idx0, X1, idx1\n",
    "\n",
    "    def fit(self, X, y):\n",
    "        \"\"\"\n",
    "        Fits a decision tree to the given X and y data.\n",
    "        \"\"\"\n",
    "        if self.max_depth > 0:\n",
    "            # compute entropy gain for all single-dimension splits,\n",
    "            # thresholding with a linear interpolation of 10 values\n",
    "            gains = []\n",
    "            # The following logic prevents thresholding on exactly the minimum\n",
    "            # or maximum values, which may not lead to any meaningful node\n",
    "            # splits.\n",
    "            thresh = np.array([\n",
    "                np.linspace(np.min(X[:, i]) + self.eps, np.max(X[:, i]) - self.eps, num=10)\n",
    "                for i in range(X.shape[1])\n",
    "            ])\n",
    "            for i in range(X.shape[1]):\n",
    "                gains.append([self.information_gain(X[:, i], y, t) for t in thresh[i, :]])\n",
    "\n",
    "            gains = np.nan_to_num(np.array(gains))\n",
    "            self.split_idx, thresh_idx = np.unravel_index(np.argmax(gains), gains.shape)\n",
    "            self.thresh = thresh[self.split_idx, thresh_idx]\n",
    "            X0, y0, X1, y1 = self.split(X, y, idx=self.split_idx, thresh=self.thresh)\n",
    "            if X0.size > 0 and X1.size > 0:\n",
    "                self.left = RegressionTree(\n",
    "                    max_depth=self.max_depth - 1, feature_labels=self.features)\n",
    "                self.left.fit(X0, y0)\n",
    "                self.right = RegressionTree(\n",
    "                    max_depth=self.max_depth - 1, feature_labels=self.features)\n",
    "                self.right.fit(X1, y1)\n",
    "            else:\n",
    "                self.max_depth = 0\n",
    "                self.data, self.labels = X, y\n",
    "                self.pred = np.mean(y) # Changed for quantitative\n",
    "        else:\n",
    "            self.data, self.labels = X, y\n",
    "            self.pred = np.mean(y) # Changed for quantitative\n",
    "        return self\n",
    "\n",
    "    def predict(self, X):\n",
    "        \"\"\"\n",
    "        Predicts the different points in the X dataset.\n",
    "        Recursively calls on left and right RegressionTree nodes in the overall RegressionTree until leaves are reached.\n",
    "        \"\"\"\n",
    "        if self.max_depth == 0:\n",
    "            self\n",
    "            return self.pred * np.ones(X.shape[0])\n",
    "        else:\n",
    "            X0, idx0, X1, idx1 = self.split_test(X, idx=self.split_idx, thresh=self.thresh)\n",
    "            yhat = np.zeros(X.shape[0])\n",
    "            yhat[idx0] = self.left.predict(X0)\n",
    "            yhat[idx1] = self.right.predict(X1)\n",
    "            return yhat\n",
    "    \n",
    "    def cross_val_score(self, X, y):\n",
    "        \"\"\"\n",
    "        Measures the accuracy for the model for the given X and y data sets.\n",
    "        \"\"\"\n",
    "        kf = sklearn.model_selection.KFold(shuffle=True)\n",
    "        accuracies = []\n",
    "        for train_idx, val_idx in kf.split(X):\n",
    "            X_train, y_train, X_val, y_val = X[train_idx], y[train_idx], X[val_idx], y[val_idx]\n",
    "            DT = DecisionTree()\n",
    "            DT.fit(X_train, y_train)\n",
    "            y_pred = DT.predict(X_val)\n",
    "            accuracies.append(self.MSE(y_pred, y))\n",
    "        return accuracies\n",
    "    \n",
    "    def accuracy(self, y_pred, y):\n",
    "        \"\"\"\n",
    "        Measures accuracy of y_pred predictions.\n",
    "        \"\"\"\n",
    "        return self.MSE(y_pred, y)"
   ]
  },
  {
   "cell_type": "markdown",
   "metadata": {},
   "source": [
    "Once you've gotten this complete, then just call the **predict** method on your validation data, and see what you get as your predictions for your different players!"
   ]
  },
  {
   "cell_type": "markdown",
   "metadata": {},
   "source": [
    "As always, ask us any/all questions-- we're here to help!"
   ]
  },
  {
   "cell_type": "markdown",
   "metadata": {},
   "source": [
    "## Additional Sandbox"
   ]
  },
  {
   "cell_type": "code",
   "execution_count": null,
   "metadata": {},
   "outputs": [],
   "source": [
    "# Make predictions\n",
    "\n",
    "# Find MSE for accuracy\n",
    "\n",
    "# Do some cross-validation (if you want)\n",
    "\n",
    "# Hooray!"
   ]
  },
  {
   "cell_type": "markdown",
   "metadata": {},
   "source": [
    "# Sklearn Model"
   ]
  },
  {
   "cell_type": "markdown",
   "metadata": {},
   "source": [
    "## Cleaning"
   ]
  },
  {
   "cell_type": "code",
   "execution_count": 12,
   "metadata": {},
   "outputs": [],
   "source": [
    "NBA_cols = ['NBA_points', 'NBA_total_rebounds', 'NBA_assists', 'NBA_steals', 'NBA_blocks']"
   ]
  },
  {
   "cell_type": "code",
   "execution_count": 13,
   "metadata": {},
   "outputs": [],
   "source": [
    "X = data.drop(columns=NBA_cols)\n",
    "y = data[NBA_cols]"
   ]
  },
  {
   "cell_type": "code",
   "execution_count": 14,
   "metadata": {},
   "outputs": [],
   "source": [
    "means = X.mean()\n",
    "stds = X.std()"
   ]
  },
  {
   "cell_type": "code",
   "execution_count": 15,
   "metadata": {},
   "outputs": [],
   "source": [
    "x_standard = (X - means) / stds"
   ]
  },
  {
   "cell_type": "code",
   "execution_count": 16,
   "metadata": {},
   "outputs": [],
   "source": [
    "x_train, x_val, y_train, y_val = train_test_split(x_standard, y, test_size=0.2)"
   ]
  },
  {
   "cell_type": "markdown",
   "metadata": {},
   "source": [
    "# Testing"
   ]
  },
  {
   "cell_type": "code",
   "execution_count": 17,
   "metadata": {},
   "outputs": [],
   "source": [
    "# Testing on NBA points\n",
    "y_train_pts = y_train['NBA_points']\n",
    "y_val_pts = y_val['NBA_points']"
   ]
  },
  {
   "cell_type": "code",
   "execution_count": 18,
   "metadata": {},
   "outputs": [],
   "source": [
    "from sklearn.tree import DecisionTreeRegressor"
   ]
  },
  {
   "cell_type": "code",
   "execution_count": 19,
   "metadata": {},
   "outputs": [],
   "source": [
    "DTR = DecisionTreeRegressor()"
   ]
  },
  {
   "cell_type": "code",
   "execution_count": 20,
   "metadata": {},
   "outputs": [
    {
     "data": {
      "text/plain": [
       "DecisionTreeRegressor(ccp_alpha=0.0, criterion='mse', max_depth=None,\n",
       "                      max_features=None, max_leaf_nodes=None,\n",
       "                      min_impurity_decrease=0.0, min_impurity_split=None,\n",
       "                      min_samples_leaf=1, min_samples_split=2,\n",
       "                      min_weight_fraction_leaf=0.0, presort='deprecated',\n",
       "                      random_state=None, splitter='best')"
      ]
     },
     "execution_count": 20,
     "metadata": {},
     "output_type": "execute_result"
    }
   ],
   "source": [
    "DTR.fit(x_train, y_train_pts)"
   ]
  },
  {
   "cell_type": "markdown",
   "metadata": {},
   "source": [
    "### Training Predictions"
   ]
  },
  {
   "cell_type": "code",
   "execution_count": 21,
   "metadata": {},
   "outputs": [],
   "source": [
    "train_preds = DTR.predict(x_train)"
   ]
  },
  {
   "cell_type": "code",
   "execution_count": 22,
   "metadata": {},
   "outputs": [],
   "source": [
    "import warnings\n",
    "warnings.filterwarnings('ignore')"
   ]
  },
  {
   "cell_type": "code",
   "execution_count": 23,
   "metadata": {},
   "outputs": [
    {
     "data": {
      "text/html": [
       "<div>\n",
       "<style scoped>\n",
       "    .dataframe tbody tr th:only-of-type {\n",
       "        vertical-align: middle;\n",
       "    }\n",
       "\n",
       "    .dataframe tbody tr th {\n",
       "        vertical-align: top;\n",
       "    }\n",
       "\n",
       "    .dataframe thead th {\n",
       "        text-align: right;\n",
       "    }\n",
       "</style>\n",
       "<table border=\"1\" class=\"dataframe\">\n",
       "  <thead>\n",
       "    <tr style=\"text-align: right;\">\n",
       "      <th></th>\n",
       "      <th>NBA_points</th>\n",
       "      <th>NBA_pred_pts</th>\n",
       "    </tr>\n",
       "    <tr>\n",
       "      <th>name</th>\n",
       "      <th></th>\n",
       "      <th></th>\n",
       "    </tr>\n",
       "  </thead>\n",
       "  <tbody>\n",
       "    <tr>\n",
       "      <th>Cory Joseph</th>\n",
       "      <td>58.0</td>\n",
       "      <td>58.0</td>\n",
       "    </tr>\n",
       "    <tr>\n",
       "      <th>Andre Drummond</th>\n",
       "      <td>476.0</td>\n",
       "      <td>476.0</td>\n",
       "    </tr>\n",
       "    <tr>\n",
       "      <th>Cameron Bairstow</th>\n",
       "      <td>10.0</td>\n",
       "      <td>10.0</td>\n",
       "    </tr>\n",
       "    <tr>\n",
       "      <th>Ben Uzoh</th>\n",
       "      <td>158.0</td>\n",
       "      <td>158.0</td>\n",
       "    </tr>\n",
       "    <tr>\n",
       "      <th>Iman Shumpert</th>\n",
       "      <td>563.0</td>\n",
       "      <td>563.0</td>\n",
       "    </tr>\n",
       "    <tr>\n",
       "      <th>...</th>\n",
       "      <td>...</td>\n",
       "      <td>...</td>\n",
       "    </tr>\n",
       "    <tr>\n",
       "      <th>Donte Grantham</th>\n",
       "      <td>0.0</td>\n",
       "      <td>0.0</td>\n",
       "    </tr>\n",
       "    <tr>\n",
       "      <th>Ryan Reid</th>\n",
       "      <td>8.0</td>\n",
       "      <td>8.0</td>\n",
       "    </tr>\n",
       "    <tr>\n",
       "      <th>Evan Turner</th>\n",
       "      <td>565.0</td>\n",
       "      <td>565.0</td>\n",
       "    </tr>\n",
       "    <tr>\n",
       "      <th>Drew Gordon</th>\n",
       "      <td>17.0</td>\n",
       "      <td>17.0</td>\n",
       "    </tr>\n",
       "    <tr>\n",
       "      <th>Jordan Loyd</th>\n",
       "      <td>29.0</td>\n",
       "      <td>29.0</td>\n",
       "    </tr>\n",
       "  </tbody>\n",
       "</table>\n",
       "<p>420 rows × 2 columns</p>\n",
       "</div>"
      ],
      "text/plain": [
       "                  NBA_points  NBA_pred_pts\n",
       "name                                      \n",
       "Cory Joseph             58.0          58.0\n",
       "Andre Drummond         476.0         476.0\n",
       "Cameron Bairstow        10.0          10.0\n",
       "Ben Uzoh               158.0         158.0\n",
       "Iman Shumpert          563.0         563.0\n",
       "...                      ...           ...\n",
       "Donte Grantham           0.0           0.0\n",
       "Ryan Reid                8.0           8.0\n",
       "Evan Turner            565.0         565.0\n",
       "Drew Gordon             17.0          17.0\n",
       "Jordan Loyd             29.0          29.0\n",
       "\n",
       "[420 rows x 2 columns]"
      ]
     },
     "execution_count": 23,
     "metadata": {},
     "output_type": "execute_result"
    }
   ],
   "source": [
    "pts_train = y_train[['NBA_points']]\n",
    "pts_train['NBA_pred_pts'] = train_preds\n",
    "pts_train"
   ]
  },
  {
   "cell_type": "markdown",
   "metadata": {},
   "source": [
    "### Training Error"
   ]
  },
  {
   "cell_type": "code",
   "execution_count": 24,
   "metadata": {},
   "outputs": [
    {
     "data": {
      "text/plain": [
       "0.0"
      ]
     },
     "execution_count": 24,
     "metadata": {},
     "output_type": "execute_result"
    }
   ],
   "source": [
    "sum(((pts_train.iloc[:, 0] - pts_train.iloc[:, 1]).values)**2)"
   ]
  },
  {
   "cell_type": "markdown",
   "metadata": {},
   "source": [
    "### Validation Predictions"
   ]
  },
  {
   "cell_type": "code",
   "execution_count": 25,
   "metadata": {},
   "outputs": [],
   "source": [
    "val_preds = DTR.predict(x_val)"
   ]
  },
  {
   "cell_type": "code",
   "execution_count": 26,
   "metadata": {},
   "outputs": [
    {
     "data": {
      "text/html": [
       "<div>\n",
       "<style scoped>\n",
       "    .dataframe tbody tr th:only-of-type {\n",
       "        vertical-align: middle;\n",
       "    }\n",
       "\n",
       "    .dataframe tbody tr th {\n",
       "        vertical-align: top;\n",
       "    }\n",
       "\n",
       "    .dataframe thead th {\n",
       "        text-align: right;\n",
       "    }\n",
       "</style>\n",
       "<table border=\"1\" class=\"dataframe\">\n",
       "  <thead>\n",
       "    <tr style=\"text-align: right;\">\n",
       "      <th></th>\n",
       "      <th>NBA_points</th>\n",
       "      <th>NBA_pred_pts</th>\n",
       "    </tr>\n",
       "    <tr>\n",
       "      <th>name</th>\n",
       "      <th></th>\n",
       "      <th></th>\n",
       "    </tr>\n",
       "  </thead>\n",
       "  <tbody>\n",
       "    <tr>\n",
       "      <th>MarShon Brooks</th>\n",
       "      <td>708.0</td>\n",
       "      <td>866.0</td>\n",
       "    </tr>\n",
       "    <tr>\n",
       "      <th>Zach LaVine</th>\n",
       "      <td>778.0</td>\n",
       "      <td>22.0</td>\n",
       "    </tr>\n",
       "    <tr>\n",
       "      <th>Josh Huestis</th>\n",
       "      <td>14.0</td>\n",
       "      <td>58.0</td>\n",
       "    </tr>\n",
       "    <tr>\n",
       "      <th>Jabari Brown</th>\n",
       "      <td>227.0</td>\n",
       "      <td>319.0</td>\n",
       "    </tr>\n",
       "    <tr>\n",
       "      <th>Jerami Grant</th>\n",
       "      <td>411.0</td>\n",
       "      <td>55.0</td>\n",
       "    </tr>\n",
       "    <tr>\n",
       "      <th>...</th>\n",
       "      <td>...</td>\n",
       "      <td>...</td>\n",
       "    </tr>\n",
       "    <tr>\n",
       "      <th>Dusty Hannahs</th>\n",
       "      <td>8.0</td>\n",
       "      <td>476.0</td>\n",
       "    </tr>\n",
       "    <tr>\n",
       "      <th>Tyler Dorsey</th>\n",
       "      <td>405.0</td>\n",
       "      <td>188.0</td>\n",
       "    </tr>\n",
       "    <tr>\n",
       "      <th>John Holland</th>\n",
       "      <td>54.0</td>\n",
       "      <td>137.0</td>\n",
       "    </tr>\n",
       "    <tr>\n",
       "      <th>Kawhi Leonard</th>\n",
       "      <td>507.0</td>\n",
       "      <td>243.0</td>\n",
       "    </tr>\n",
       "    <tr>\n",
       "      <th>Gani Lawal</th>\n",
       "      <td>0.0</td>\n",
       "      <td>201.0</td>\n",
       "    </tr>\n",
       "  </tbody>\n",
       "</table>\n",
       "<p>105 rows × 2 columns</p>\n",
       "</div>"
      ],
      "text/plain": [
       "                NBA_points  NBA_pred_pts\n",
       "name                                    \n",
       "MarShon Brooks       708.0         866.0\n",
       "Zach LaVine          778.0          22.0\n",
       "Josh Huestis          14.0          58.0\n",
       "Jabari Brown         227.0         319.0\n",
       "Jerami Grant         411.0          55.0\n",
       "...                    ...           ...\n",
       "Dusty Hannahs          8.0         476.0\n",
       "Tyler Dorsey         405.0         188.0\n",
       "John Holland          54.0         137.0\n",
       "Kawhi Leonard        507.0         243.0\n",
       "Gani Lawal             0.0         201.0\n",
       "\n",
       "[105 rows x 2 columns]"
      ]
     },
     "execution_count": 26,
     "metadata": {},
     "output_type": "execute_result"
    }
   ],
   "source": [
    "pts_val = y_val[['NBA_points']]\n",
    "pts_val['NBA_pred_pts'] = val_preds\n",
    "pts_val"
   ]
  },
  {
   "cell_type": "code",
   "execution_count": 27,
   "metadata": {},
   "outputs": [],
   "source": [
    "pts_val['Difference Squared'] = (pts_val.loc[:, 'NBA_pred_pts'] - pts_val.loc[:, 'NBA_points']) ** 2"
   ]
  },
  {
   "cell_type": "code",
   "execution_count": 28,
   "metadata": {},
   "outputs": [
    {
     "name": "stdout",
     "output_type": "stream",
     "text": [
      "                NBA_points  NBA_pred_pts  Difference Squared\n",
      "name                                                        \n",
      "Joe Chealey            2.0           2.0                 0.0\n",
      "Solomon Alabi          6.0           4.0                 4.0\n",
      "Jerry Smith            7.0           2.0                25.0\n",
      "Adonis Thomas         14.0           8.0                36.0\n",
      "Andre Roberson        75.0          83.0                64.0\n",
      "Julyan Stone          36.0          27.0                81.0\n",
      "Josh Gray             32.0          22.0               100.0\n",
      "Carrick Felix         19.0           8.0               121.0\n",
      "Rodney Purvis         96.0          83.0               169.0\n",
      "Will Cherry           15.0          31.0               256.0\n",
      "                  NBA_points  NBA_pred_pts  Difference Squared\n",
      "name                                                          \n",
      "Cameron Reynolds        95.0          77.0               324.0\n",
      "Dexter Pittman           2.0          21.0               361.0\n",
      "Khem Birch             178.0         197.0               361.0\n",
      "Brad Wanamaker         140.0         121.0               361.0\n",
      "Marcus Paige            12.0          32.0               400.0\n",
      "Jarell Eddie            63.0          40.0               529.0\n",
      "Daryl Macon             29.0           3.0               676.0\n",
      "Ryan Arcidiacono        48.0          79.0               961.0\n",
      "Alec Peters             82.0         114.0              1024.0\n",
      "Troy Caupain            10.0          42.0              1024.0\n",
      "               NBA_points  NBA_pred_pts  Difference Squared\n",
      "name                                                       \n",
      "Isaiah Hicks         80.0          46.0              1156.0\n",
      "Dwight Buycks        43.0           8.0              1225.0\n",
      "Rawle Alkins         37.0           2.0              1225.0\n",
      "Willie Warren        37.0           2.0              1225.0\n",
      "Jabari Bird          39.0           2.0              1369.0\n",
      "Bonzie Colson        39.0           0.0              1521.0\n",
      "Ben McLemore        720.0         678.0              1764.0\n",
      "Josh Huestis         14.0          58.0              1936.0\n",
      "Quincy Miller         9.0          55.0              2116.0\n",
      "Ron Baker           215.0         165.0              2500.0\n",
      "                 NBA_points  NBA_pred_pts  Difference Squared\n",
      "name                                                         \n",
      "Draymond Green        227.0         282.0              3025.0\n",
      "Alex Poythress         64.0           9.0              3025.0\n",
      "Treveon Graham         57.0           2.0              3025.0\n",
      "Darius Miller         118.0          62.0              3136.0\n",
      "Gorgui Dieng          286.0         346.0              3600.0\n",
      "Brandon Goodwin        23.0          85.0              3844.0\n",
      "Alex Len               86.0          18.0              4624.0\n",
      "Dejounte Murray       130.0          57.0              5329.0\n",
      "Scotty Hopson           1.0          77.0              5776.0\n",
      "Jawun Evans           231.0         150.0              6561.0\n",
      "                NBA_points  NBA_pred_pts  Difference Squared\n",
      "name                                                        \n",
      "John Holland          54.0         137.0              6889.0\n",
      "Dewayne Dedmon        97.0           9.0              7744.0\n",
      "Mason Plumlee        520.0         610.0              8100.0\n",
      "Moritz Wagner        207.0         116.0              8281.0\n",
      "Jabari Brown         227.0         319.0              8464.0\n",
      "Keith Appling          6.0          99.0              8649.0\n",
      "Willie Reed          182.0          88.0              8836.0\n",
      "David Nwaba          120.0          22.0              9604.0\n",
      "Richaun Holmes       287.0         174.0             12769.0\n",
      "Kent Bazemore        123.0           6.0             13689.0\n",
      "                   NBA_points  NBA_pred_pts  Difference Squared\n",
      "name                                                           \n",
      "Deonte Burton            82.0         203.0             14641.0\n",
      "Aaron Harrison           18.0         154.0             18496.0\n",
      "Kyle Wiltjer             13.0         151.0             19044.0\n",
      "Trevon Duval              5.0         143.0             19044.0\n",
      "Kenneth Faried          471.0         610.0             19321.0\n",
      "James Southerland        14.0         165.0             22801.0\n",
      "Elias Harris              0.0         153.0             23409.0\n",
      "MarShon Brooks          708.0         866.0             24964.0\n",
      "Norman Powell           273.0         100.0             29929.0\n",
      "Jordan Sibert             3.0         188.0             34225.0\n",
      "                        NBA_points  NBA_pred_pts  Difference Squared\n",
      "name                                                                \n",
      "Michael Kidd-Gilchrist       704.0         889.0             34225.0\n",
      "Johnathan Motley              96.0         283.0             34969.0\n",
      "Gani Lawal                     0.0         201.0             40401.0\n",
      "Jonah Bolden                 207.0           4.0             41209.0\n",
      "Thomas Bryant                 22.0         229.0             42849.0\n",
      "Jarred Vanderbilt             24.0         233.0             43681.0\n",
      "Rashad Vaughn                217.0           2.0             46225.0\n",
      "Tyler Dorsey                 405.0         188.0             47089.0\n",
      "Shelvin Mack                 230.0           2.0             51984.0\n",
      "Kawhi Leonard                507.0         243.0             69696.0\n",
      "                  NBA_points  NBA_pred_pts  Difference Squared\n",
      "name                                                          \n",
      "Lance Stephenson        37.0         335.0             88804.0\n",
      "Samardo Samuels        288.0         587.0             89401.0\n",
      "Wayne Selden            71.0         377.0             93636.0\n",
      "Malcolm Brogdon        767.0         444.0            104329.0\n",
      "Stanley Johnson        593.0         262.0            109561.0\n",
      "Jerami Grant           411.0          55.0            126736.0\n",
      "Frank Kaminsky         606.0         236.0            136900.0\n",
      "JaKarr Sampson         386.0          14.0            138384.0\n",
      "Harry Giles            408.0          13.0            156025.0\n",
      "Greg Monroe            751.0         346.0            164025.0\n",
      "                  NBA_points  NBA_pred_pts  Difference Squared\n",
      "name                                                          \n",
      "Jordan Crawford        490.0         895.0            164025.0\n",
      "Luke Harangody         193.0         607.0            171396.0\n",
      "Trey Lyles             488.0          62.0            181476.0\n",
      "Bradley Beal           780.0         350.0            184900.0\n",
      "Kim English            119.0         558.0            192721.0\n",
      "Mohamed Bamba          292.0         744.0            204304.0\n",
      "Dusty Hannahs            8.0         476.0            219024.0\n",
      "Isaiah Whitehead       543.0          67.0            226576.0\n",
      "Semi Ojeleye           195.0         695.0            250000.0\n",
      "Allen Crabbe            33.0         597.0            318096.0\n",
      "                NBA_points  NBA_pred_pts  Difference Squared\n",
      "name                                                        \n",
      "Brice Johnson          4.0         610.0            367236.0\n",
      "Joel Embiid          627.0           9.0            381924.0\n",
      "Diante Garrett        40.0         703.0            439569.0\n",
      "Ben Simmons         1279.0         610.0            447561.0\n",
      "Kevin Huerter        727.0          42.0            469225.0\n",
      "Solomon Hill          47.0         749.0            492804.0\n",
      "Kalin Lucas            0.0         703.0            494209.0\n",
      "Derrick Walton        29.0         740.0            505521.0\n",
      "Zach LaVine          778.0          22.0            571536.0\n",
      "Kevin Knox           963.0         105.0            736164.0\n",
      "                NBA_points  NBA_pred_pts  Difference Squared\n",
      "name                                                        \n",
      "Georges Niang         21.0         928.0            822649.0\n",
      "Erik Murphy            6.0        1033.0           1054729.0\n",
      "Doug McDermott       109.0        1159.0           1102500.0\n",
      "Tyler Lydon            0.0        1112.0           1236544.0\n",
      "Alec Burks           425.0        1562.0           1292769.0\n"
     ]
    }
   ],
   "source": [
    "for i in range(0, 105, 10):\n",
    "    print(pts_val.sort_values('Difference Squared', ascending=True)[i: i+10])"
   ]
  },
  {
   "cell_type": "markdown",
   "metadata": {},
   "source": [
    "### Validation Error"
   ]
  },
  {
   "cell_type": "code",
   "execution_count": 29,
   "metadata": {},
   "outputs": [
    {
     "data": {
      "text/plain": [
       "14571345.0"
      ]
     },
     "execution_count": 29,
     "metadata": {},
     "output_type": "execute_result"
    }
   ],
   "source": [
    "sum(((pts_val.iloc[:, 0] - pts_val.iloc[:, 1]).values)**2)"
   ]
  },
  {
   "cell_type": "markdown",
   "metadata": {},
   "source": [
    "## Comparing with similar models"
   ]
  },
  {
   "cell_type": "code",
   "execution_count": 30,
   "metadata": {},
   "outputs": [],
   "source": [
    "def MSE(y_preds, y):\n",
    "    return sum((y_preds - y) ** 2)"
   ]
  },
  {
   "cell_type": "code",
   "execution_count": 31,
   "metadata": {},
   "outputs": [],
   "source": [
    "from sklearn.tree import DecisionTreeRegressor\n",
    "from sklearn.ensemble import ExtraTreesRegressor\n",
    "from sklearn.ensemble import RandomForestRegressor"
   ]
  },
  {
   "cell_type": "code",
   "execution_count": 32,
   "metadata": {
    "scrolled": true
   },
   "outputs": [],
   "source": [
    "DT_errors = []\n",
    "ET_errors = []\n",
    "RF_errors = []\n",
    "for i in range(1, 25):\n",
    "    DTR = DecisionTreeRegressor(max_depth=i)\n",
    "    DTR.fit(x_train, y_train_pts)\n",
    "    val_preds = DTR.predict(x_val)\n",
    "    error = MSE(val_preds, y_val_pts)\n",
    "    DT_errors.append(error)\n",
    "    \n",
    "    ETR = ExtraTreesRegressor(max_depth=i)\n",
    "    ETR.fit(x_train, y_train_pts)\n",
    "    val_preds = ETR.predict(x_val)\n",
    "    error = MSE(val_preds, y_val_pts)\n",
    "    ET_errors.append(error)\n",
    "    \n",
    "    RFR = RandomForestRegressor(max_depth=i)\n",
    "    RFR.fit(x_train, y_train_pts)\n",
    "    val_preds = RFR.predict(x_val)\n",
    "    error = MSE(val_preds, y_val_pts)\n",
    "    RF_errors.append(error)"
   ]
  },
  {
   "cell_type": "code",
   "execution_count": 39,
   "metadata": {
    "scrolled": false
   },
   "outputs": [
    {
     "data": {
      "image/png": "[encoded data removed]",
      "text/plain": [
       "<Figure size 720x576 with 1 Axes>"
      ]
     },
     "metadata": {
      "needs_background": "light"
     },
     "output_type": "display_data"
    }
   ],
   "source": [
    "plt.figure(figsize=(10, 8))\n",
    "plt.plot(DT_errors, label='Decision Tree Error')\n",
    "plt.plot(ET_errors, label='Extra Trees Error')\n",
    "plt.plot(RF_errors, label='Random Forest Error')\n",
    "plt.legend()\n",
    "plt.show();"
   ]
  },
  {
   "cell_type": "code",
   "execution_count": 40,
   "metadata": {},
   "outputs": [],
   "source": [
    "RFR_set = y_val[['NBA_points']]"
   ]
  },
  {
   "cell_type": "code",
   "execution_count": 47,
   "metadata": {},
   "outputs": [
    {
     "data": {
      "text/html": [
       "<div>\n",
       "<style scoped>\n",
       "    .dataframe tbody tr th:only-of-type {\n",
       "        vertical-align: middle;\n",
       "    }\n",
       "\n",
       "    .dataframe tbody tr th {\n",
       "        vertical-align: top;\n",
       "    }\n",
       "\n",
       "    .dataframe thead th {\n",
       "        text-align: right;\n",
       "    }\n",
       "</style>\n",
       "<table border=\"1\" class=\"dataframe\">\n",
       "  <thead>\n",
       "    <tr style=\"text-align: right;\">\n",
       "      <th></th>\n",
       "      <th>NBA_points</th>\n",
       "      <th>NBA_pt_pred</th>\n",
       "      <th>Squared</th>\n",
       "    </tr>\n",
       "    <tr>\n",
       "      <th>name</th>\n",
       "      <th></th>\n",
       "      <th></th>\n",
       "      <th></th>\n",
       "    </tr>\n",
       "  </thead>\n",
       "  <tbody>\n",
       "    <tr>\n",
       "      <th>Jarell Eddie</th>\n",
       "      <td>63.0</td>\n",
       "      <td>59.220000</td>\n",
       "      <td>1.428840e+01</td>\n",
       "    </tr>\n",
       "    <tr>\n",
       "      <th>Shelvin Mack</th>\n",
       "      <td>230.0</td>\n",
       "      <td>225.336667</td>\n",
       "      <td>2.174668e+01</td>\n",
       "    </tr>\n",
       "    <tr>\n",
       "      <th>Mohamed Bamba</th>\n",
       "      <td>292.0</td>\n",
       "      <td>297.690000</td>\n",
       "      <td>3.237610e+01</td>\n",
       "    </tr>\n",
       "    <tr>\n",
       "      <th>Khem Birch</th>\n",
       "      <td>178.0</td>\n",
       "      <td>171.430000</td>\n",
       "      <td>4.316490e+01</td>\n",
       "    </tr>\n",
       "    <tr>\n",
       "      <th>Rodney Purvis</th>\n",
       "      <td>96.0</td>\n",
       "      <td>88.057500</td>\n",
       "      <td>6.308331e+01</td>\n",
       "    </tr>\n",
       "    <tr>\n",
       "      <th>...</th>\n",
       "      <td>...</td>\n",
       "      <td>...</td>\n",
       "      <td>...</td>\n",
       "    </tr>\n",
       "    <tr>\n",
       "      <th>Greg Monroe</th>\n",
       "      <td>751.0</td>\n",
       "      <td>191.125000</td>\n",
       "      <td>3.134600e+05</td>\n",
       "    </tr>\n",
       "    <tr>\n",
       "      <th>Kevin Huerter</th>\n",
       "      <td>727.0</td>\n",
       "      <td>161.840000</td>\n",
       "      <td>3.194058e+05</td>\n",
       "    </tr>\n",
       "    <tr>\n",
       "      <th>Kevin Knox</th>\n",
       "      <td>963.0</td>\n",
       "      <td>244.307500</td>\n",
       "      <td>5.165189e+05</td>\n",
       "    </tr>\n",
       "    <tr>\n",
       "      <th>Zach LaVine</th>\n",
       "      <td>778.0</td>\n",
       "      <td>39.190000</td>\n",
       "      <td>5.458402e+05</td>\n",
       "    </tr>\n",
       "    <tr>\n",
       "      <th>Ben Simmons</th>\n",
       "      <td>1279.0</td>\n",
       "      <td>247.230000</td>\n",
       "      <td>1.064549e+06</td>\n",
       "    </tr>\n",
       "  </tbody>\n",
       "</table>\n",
       "<p>105 rows × 3 columns</p>\n",
       "</div>"
      ],
      "text/plain": [
       "               NBA_points  NBA_pt_pred       Squared\n",
       "name                                                \n",
       "Jarell Eddie         63.0    59.220000  1.428840e+01\n",
       "Shelvin Mack        230.0   225.336667  2.174668e+01\n",
       "Mohamed Bamba       292.0   297.690000  3.237610e+01\n",
       "Khem Birch          178.0   171.430000  4.316490e+01\n",
       "Rodney Purvis        96.0    88.057500  6.308331e+01\n",
       "...                   ...          ...           ...\n",
       "Greg Monroe         751.0   191.125000  3.134600e+05\n",
       "Kevin Huerter       727.0   161.840000  3.194058e+05\n",
       "Kevin Knox          963.0   244.307500  5.165189e+05\n",
       "Zach LaVine         778.0    39.190000  5.458402e+05\n",
       "Ben Simmons        1279.0   247.230000  1.064549e+06\n",
       "\n",
       "[105 rows x 3 columns]"
      ]
     },
     "execution_count": 47,
     "metadata": {},
     "output_type": "execute_result"
    }
   ],
   "source": [
    "RFR_set['NBA_pt_pred'] = RFR.predict(x_val)\n",
    "RFR_set['Squared'] = (RFR_set.loc[:, 'NBA_points'] - RFR_set.loc[:, 'NBA_pt_pred'])**2\n",
    "RFR_set.sort_values('Squared', ascending=True)"
   ]
  },
  {
   "cell_type": "code",
   "execution_count": 48,
   "metadata": {},
   "outputs": [
    {
     "name": "stdout",
     "output_type": "stream",
     "text": [
      "                  NBA_points  NBA_pt_pred     Squared\n",
      "name                                                 \n",
      "Jarell Eddie            63.0    59.220000   14.288400\n",
      "Shelvin Mack           230.0   225.336667   21.746678\n",
      "Mohamed Bamba          292.0   297.690000   32.376100\n",
      "Khem Birch             178.0   171.430000   43.164900\n",
      "Rodney Purvis           96.0    88.057500   63.083306\n",
      "Brad Wanamaker         140.0   130.888333   83.022469\n",
      "Cameron Reynolds        95.0    85.820000   84.272400\n",
      "Jabari Bird             39.0    48.720000   94.478400\n",
      "Frank Kaminsky         606.0   595.410000  112.148100\n",
      "Willie Reed            182.0   170.480000  132.710400\n",
      "                 NBA_points  NBA_pt_pred      Squared\n",
      "name                                                 \n",
      "Darius Miller         118.0   136.280000   334.158400\n",
      "Draymond Green        227.0   254.430000   752.404900\n",
      "David Nwaba           120.0   154.710000  1204.784100\n",
      "Jawun Evans           231.0   267.645000  1342.856025\n",
      "Richaun Holmes        287.0   245.854286  1692.969804\n",
      "Rawle Alkins           37.0    79.527500  1808.588256\n",
      "Dwight Buycks          43.0    90.620000  2267.664400\n",
      "Josh Gray              32.0    80.408000  2343.334464\n",
      "Dejounte Murray       130.0   180.320000  2532.102400\n",
      "Norman Powell         273.0   218.720000  2946.318400\n",
      "                 NBA_points  NBA_pt_pred      Squared\n",
      "name                                                 \n",
      "Kenneth Faried        471.0   413.720000  3280.998400\n",
      "Jerry Smith             7.0    65.318000  3400.989124\n",
      "Dewayne Dedmon         97.0   159.220000  3871.328400\n",
      "Jordan Crawford       490.0   423.880000  4371.854400\n",
      "Jabari Brown          227.0   305.251667  6123.323336\n",
      "Quincy Miller           9.0    90.020000  6564.240400\n",
      "Ron Baker             215.0   133.685143  6612.105992\n",
      "Willie Warren          37.0   119.070000  6735.484900\n",
      "MarShon Brooks        708.0   621.450000  7490.902500\n",
      "Thomas Bryant          22.0   109.752286  7700.463648\n",
      "                   NBA_points  NBA_pt_pred       Squared\n",
      "name                                                    \n",
      "Dexter Pittman            2.0    91.392000   7990.929664\n",
      "Alex Poythress           64.0   158.300000   8892.490000\n",
      "Rashad Vaughn           217.0   120.190000   9372.176100\n",
      "Semi Ojeleye            195.0   292.855476   9575.694220\n",
      "Johnathan Motley         96.0   195.050000   9810.902500\n",
      "Kim English             119.0   219.220476  10044.143848\n",
      "Wayne Selden             71.0   185.590000  13130.868100\n",
      "Deonte Burton            82.0   198.010000  13458.320100\n",
      "Gorgui Dieng            286.0   167.937500  13938.753906\n",
      "Jarred Vanderbilt        24.0   148.880000  15595.014400\n",
      "                  NBA_points  NBA_pt_pred       Squared\n",
      "name                                                   \n",
      "Adonis Thomas           14.0   140.427143  15983.822451\n",
      "Josh Huestis            14.0   141.080000  16149.326400\n",
      "Treveon Graham          57.0   189.107143  17452.297194\n",
      "Will Cherry             15.0   148.740000  17886.387600\n",
      "Troy Caupain            10.0   144.218000  18014.471524\n",
      "Trevon Duval             5.0   139.310000  18039.176100\n",
      "Solomon Hill            47.0   184.217143  18828.544294\n",
      "Ryan Arcidiacono        48.0   187.820000  19549.632400\n",
      "Jonah Bolden           207.0    61.180000  21263.472400\n",
      "Solomon Alabi            6.0   157.226286  22869.389491\n",
      "                 NBA_points  NBA_pt_pred       Squared\n",
      "name                                                  \n",
      "Brandon Goodwin        23.0   176.701667  23624.202336\n",
      "Diante Garrett         40.0   199.710000  25507.284100\n",
      "Samardo Samuels       288.0   127.743333  25682.199211\n",
      "Alex Len               86.0   246.990000  25917.780100\n",
      "Marcus Paige           12.0   174.500000  26406.250000\n",
      "Keith Appling           6.0   169.210000  26637.504100\n",
      "Scotty Hopson           1.0   166.703333  27457.594678\n",
      "Kalin Lucas             0.0   167.110000  27925.752100\n",
      "Erik Murphy             6.0   174.830000  28503.568900\n",
      "Tyler Lydon             0.0   170.080000  28927.206400\n",
      "                  NBA_points  NBA_pt_pred       Squared\n",
      "name                                                   \n",
      "Gani Lawal               0.0      171.295  29341.977025\n",
      "Elias Harris             0.0      173.040  29942.841600\n",
      "Andre Roberson          75.0      250.100  30660.010000\n",
      "Lance Stephenson        37.0      218.080  32789.966400\n",
      "Luke Harangody         193.0      377.310  33970.176100\n",
      "Kent Bazemore          123.0      314.030  36492.460900\n",
      "Julyan Stone            36.0      233.070  38836.584900\n",
      "Daryl Macon             29.0      231.120  40852.494400\n",
      "Mason Plumlee          520.0      297.650  49439.522500\n",
      "Aaron Harrison          18.0      241.650  50019.322500\n",
      "                   NBA_points  NBA_pt_pred       Squared\n",
      "name                                                    \n",
      "Allen Crabbe             33.0   262.900000  52854.010000\n",
      "Derrick Walton           29.0   263.680000  55074.702400\n",
      "Kawhi Leonard           507.0   271.260000  55573.347600\n",
      "Jordan Sibert             3.0   242.420000  57321.936400\n",
      "Isaiah Whitehead        543.0   300.170000  58966.408900\n",
      "James Southerland        14.0   264.320000  62660.102400\n",
      "Jerami Grant            411.0   152.166667  66994.694444\n",
      "Tyler Dorsey            405.0   139.310000  70591.176100\n",
      "Alec Burks              425.0   692.500000  71556.250000\n",
      "Carrick Felix            19.0   302.660000  80462.995600\n",
      "                 NBA_points  NBA_pt_pred      Squared\n",
      "name                                                 \n",
      "JaKarr Sampson        386.0        87.03   89383.0609\n",
      "Alec Peters            82.0       388.39   93874.8321\n",
      "Harry Giles           408.0        92.16   99754.9056\n",
      "John Holland           54.0       387.90  111489.2100\n",
      "Stanley Johnson       593.0       234.20  128737.4400\n",
      "Isaiah Hicks           80.0       439.64  129340.9296\n",
      "Doug McDermott        109.0       487.59  143330.3881\n",
      "Bonzie Colson          39.0       442.65  162933.3225\n",
      "Trey Lyles            488.0        77.05  168879.9025\n",
      "Joel Embiid           627.0       212.01  172216.7001\n",
      "                        NBA_points  NBA_pt_pred      Squared\n",
      "name                                                        \n",
      "Moritz Wagner                207.0       623.02  173072.6404\n",
      "Brice Johnson                  4.0       422.45  175100.4025\n",
      "Ben McLemore                 720.0       298.19  177923.6761\n",
      "Joe Chealey                    2.0       434.33  186909.2289\n",
      "Kyle Wiltjer                  13.0       447.16  188494.9056\n",
      "Dusty Hannahs                  8.0       448.79  194295.8241\n",
      "Malcolm Brogdon              767.0       321.62  198363.3444\n",
      "Georges Niang                 21.0       495.85  225482.5225\n",
      "Michael Kidd-Gilchrist       704.0       197.31  256734.7561\n",
      "Bradley Beal                 780.0       224.27  308835.8329\n",
      "               NBA_points  NBA_pt_pred       Squared\n",
      "name                                                \n",
      "Greg Monroe         751.0     191.1250  3.134600e+05\n",
      "Kevin Huerter       727.0     161.8400  3.194058e+05\n",
      "Kevin Knox          963.0     244.3075  5.165189e+05\n",
      "Zach LaVine         778.0      39.1900  5.458402e+05\n",
      "Ben Simmons        1279.0     247.2300  1.064549e+06\n"
     ]
    }
   ],
   "source": [
    "for i in range(0, 105, 10):\n",
    "    print(RFR_set.sort_values('Squared', ascending=True)[i: i+10])"
   ]
  },
  {
   "cell_type": "code",
   "execution_count": 2,
   "metadata": {},
   "outputs": [
    {
     "ename": "NameError",
     "evalue": "name 'RFR' is not defined",
     "output_type": "error",
     "traceback": [
      "\u001b[0;31m-----------------------------------------------------------------------\u001b[0m",
      "\u001b[0;31mNameError\u001b[0m                             Traceback (most recent call last)",
      "\u001b[0;32m<ipython-input-2-0eab05cc8d28>\u001b[0m in \u001b[0;36m<module>\u001b[0;34m\u001b[0m\n\u001b[0;32m----> 1\u001b[0;31m \u001b[0mRFR\u001b[0m\u001b[0;34m.\u001b[0m\u001b[0mpredict\u001b[0m\u001b[0;34m(\u001b[0m\u001b[0mx_val\u001b[0m\u001b[0;34m)\u001b[0m\u001b[0;34m\u001b[0m\u001b[0m\n\u001b[0m",
      "\u001b[0;31mNameError\u001b[0m: name 'RFR' is not defined"
     ]
    }
   ],
   "source": [
    "RFR.predict(x_val)"
   ]
  },
  {
   "cell_type": "code",
   "execution_count": null,
   "metadata": {},
   "outputs": [],
   "source": []
  }
 ],
 "metadata": {
  "kernelspec": {
   "display_name": "Python 3",
   "language": "python",
   "name": "python3"
  },
  "language_info": {
   "codemirror_mode": {
    "name": "ipython",
    "version": 3
   },
   "file_extension": ".py",
   "mimetype": "text/x-python",
   "name": "python",
   "nbconvert_exporter": "python",
   "pygments_lexer": "ipython3",
   "version": "3.6.5"
  }
 },
 "nbformat": 4,
 "nbformat_minor": 2
}
