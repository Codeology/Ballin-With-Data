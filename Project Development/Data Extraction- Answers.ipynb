{
 "cells": [
  {
   "cell_type": "markdown",
   "metadata": {},
   "source": [
    "# Week 2: Data Extraction\n",
    "\n",
    "### By: Calvin Chen and Matt Hashimoto"
   ]
  },
  {
   "cell_type": "markdown",
   "metadata": {},
   "source": [
    "Hey everyone, and welcome to Week 2 of the `Balling with Data` project! We're excited to get started with the project, so let's get underway! First, a table of contents about what we'll be covering in this notebook today."
   ]
  },
  {
   "cell_type": "code",
   "execution_count": 2,
   "metadata": {},
   "outputs": [],
   "source": [
    "# Standard imports\n",
    "# If any of these don't work, try doing `pip install _____`, or try looking up the error message.\n",
    "import numpy as np\n",
    "import pandas as pd\n",
    "import json\n",
    "import time\n",
    "import os.path\n",
    "from os import path\n",
    "import math\n",
    "import datetime\n",
    "import unidecode\n",
    "import requests\n",
    "from bs4 import BeautifulSoup"
   ]
  },
  {
   "cell_type": "markdown",
   "metadata": {},
   "source": [
    "# Table of Contents\n",
    "* [Introduction to web-scraping](#section1)\n",
    "* [What is `sportsreference`?](#section2)\n",
    "* [Let's get our data!](#section3)\n",
    "    * [Potentially Useful Classes](#section3a)\n",
    "    * [Important Things to Know](#section3b)\n",
    "    * [Sandbox Area](#section3c)"
   ]
  },
  {
   "cell_type": "markdown",
   "metadata": {},
   "source": [
    "<a id='section1'></a>\n",
    "# Introduction to Web-Scraping!"
   ]
  },
  {
   "cell_type": "markdown",
   "metadata": {},
   "source": [
    "Now that we've discussed the different project objectives and what kind of data we plan on getting,  we can now look into different methods of extracting this data from the internet. There are a couple of different ways we could go about doing this:\n",
    "\n",
    "1. Web-scraping\n",
    "2. API endpoint/Package\n",
    "\n",
    "Between these two methods, the main difference is just how much someone has prepared the data for us beforehand. In many cases with starter data science projects, it'll be possible to find the data you need from differenrt free, online sources/APIs, making it easier for you to get started. However, what may happen on different occassions is that you won't be able to find any reliable database/data source that has all the different components of the data you're looking for. When this happens, you need to be able to find the data yourself. **How would we go about doing that? Let's try webscraping for [Stephen Curry college stats](https://www.sports-reference.com/cbb/players/stephen-curry-1.html).**"
   ]
  },
  {
   "cell_type": "code",
   "execution_count": null,
   "metadata": {},
   "outputs": [],
   "source": [
    "steph_url = 'https://www.sports-reference.com/cbb/players/stephen-curry-1.html'\n",
    "req = requests.get(steph_url) # This will make a request to steph_url for us!"
   ]
  },
  {
   "cell_type": "code",
   "execution_count": null,
   "metadata": {},
   "outputs": [],
   "source": [
    "# Now, we sift through the request's content with a html parser.\n",
    "soup = BeautifulSoup(req.content, 'html.parser')\n",
    "soup.prettify()"
   ]
  },
  {
   "cell_type": "code",
   "execution_count": null,
   "metadata": {
    "scrolled": true
   },
   "outputs": [],
   "source": [
    "# Now, we can use the .find method for BeautifulSoup objects to find the data we need from Steph Curry's stats.\n",
    "# We've done the following below for you because we won't be going too in-depth into this for the project, but\n",
    "# it's nice/important to know how to do.\n",
    "table = soup.find('table', {'id': 'players_per_game'})\n",
    "stats = table.findAll('td')\n",
    "row_stats = [stats[i:i+28] for i in range(0, len(stats), 28)]\n",
    "last_year = ['Steph Curry'] + [stat.get_text() for stat in row_stats[-2]] # Second-to-last element in row_stats should be the latest yearly averages for the player (right before career stats)\n",
    "last_year = np.reshape(np.array(last_year), (-1, 29))\n",
    "last_year\n"
   ]
  },
  {
   "cell_type": "markdown",
   "metadata": {},
   "source": [
    "Now, we've gotten Steph Curry's final year stats at Davidson, but what do the different stats mean? Let's find their headers so we put some sense to these numbers."
   ]
  },
  {
   "cell_type": "code",
   "execution_count": null,
   "metadata": {
    "scrolled": true
   },
   "outputs": [],
   "source": [
    "# Find column headers\n",
    "cols = table.findAll('th')[1:29] # Column headers\n",
    "col_headers = ['Name'] + [col.get_text() for col in cols]\n",
    "col_headers"
   ]
  },
  {
   "cell_type": "code",
   "execution_count": null,
   "metadata": {
    "scrolled": true
   },
   "outputs": [],
   "source": [
    "# Now, let's make a pandas dataframe from this data.\n",
    "curry = pd.DataFrame(data=last_year, columns=np.array(col_headers))\n",
    "curry"
   ]
  },
  {
   "cell_type": "markdown",
   "metadata": {},
   "source": [
    "Congrats! You've successfully scraped together a dataframe for us to analyze about Steph Curry's basketball stats in his final year at Davidson college. Now, we can see that we'd easily be able to apply the same logic above to a variety of different NCAA players, and may still be quite useful when we come across **international players**. Unfortunately, for the scope of this project, we won't get into analyzing international player's stats, but you can imagine it'd be a similar process to how we analyzed Steph Curry above."
   ]
  },
  {
   "cell_type": "markdown",
   "metadata": {},
   "source": [
    "Now, let's get into a free sports API that'll abstract all this scraping away for all the different types of websites we might encounter, and allow us to access all the different player data in a friendly format. **Let's get into what `sportsreference` can do for us!**"
   ]
  },
  {
   "cell_type": "markdown",
   "metadata": {},
   "source": [
    "<a id='section2'></a>\n",
    "# What is `sportsreference`?"
   ]
  },
  {
   "cell_type": "markdown",
   "metadata": {},
   "source": [
    "Now that we've seen how web-scraping works fundamentally, let's work with an API that will abstract that all away for us and give us the ability to easily query for different players' stats we're interested in!\n",
    "\n",
    "**Let's visit the [sportsreference documentation](https://sportsreference.readthedocs.io/en/stable/).**\n",
    "\n",
    "Read through the documentation and get a handle for how the API is strcutured. Afterwards, we'll get into a couple of different exercises, and then leave the rest for you guys to handle! Feel free to make as many cells as you'd like to help with your development!"
   ]
  },
  {
   "cell_type": "markdown",
   "metadata": {},
   "source": [
    "Things that might help with running Jupyter Notebooks: Go to Help -> Keyboard Shortcuts (they will help immensely in the long term with saving time!)\n",
    "\n",
    "Alternatively, check out this [link](https://towardsdatascience.com/jypyter-notebook-shortcuts-bf0101a98330) for other shortcuts!"
   ]
  },
  {
   "cell_type": "code",
   "execution_count": 3,
   "metadata": {},
   "outputs": [],
   "source": [
    "# Modules from sportsrefernece.ncaab for college basketball\n",
    "from sportsreference.ncaab.boxscore import Boxscore as NCAAB_Boxscore\n",
    "from sportsreference.ncaab.conferences import Conferences as NCAAB_Conferences\n",
    "from sportsreference.ncaab.rankings import Rankings as NCAAB_Rankings\n",
    "from sportsreference.ncaab.roster import Player as NCAAB_Player\n",
    "from sportsreference.ncaab.roster import Roster as NCAAB_Roster\n",
    "from sportsreference.ncaab.schedule import Schedule as NCAAB_Schedule\n",
    "from sportsreference.ncaab.teams import Teams as NCAAB_Teams\n",
    "\n",
    "# Modules from sportsrefernece.nba for NBA basketball\n",
    "from sportsreference.nba.boxscore import Boxscore as NBA_Boxscore\n",
    "from sportsreference.nba.roster import Player as NBA_Player\n",
    "from sportsreference.nba.roster import Roster as NBA_Roster\n",
    "from sportsreference.nba.schedule import Schedule as NBA_Schedule\n",
    "from sportsreference.nba.teams import Teams as NBA_Teams"
   ]
  },
  {
   "cell_type": "markdown",
   "metadata": {},
   "source": [
    "If you're unsure of what different attributes an object has, feel free to take a look at its `__dict__` method! This is a great way to remove an abstraction barrier and see what you can really mess with!\n",
    "\n",
    "**Example:**"
   ]
  },
  {
   "cell_type": "code",
   "execution_count": null,
   "metadata": {},
   "outputs": [],
   "source": [
    "curry = NBA_Player('curryst01')"
   ]
  },
  {
   "cell_type": "code",
   "execution_count": null,
   "metadata": {},
   "outputs": [],
   "source": [
    "curry.__dict__"
   ]
  },
  {
   "cell_type": "markdown",
   "metadata": {},
   "source": [
    "**Exercise 1:** Find all the different teams' abbreviations in the NBA in 2011. (Note `NOH` and `NJN` when you query. Look them up in a quick Google search-- do they still exist today?)"
   ]
  },
  {
   "cell_type": "code",
   "execution_count": 6,
   "metadata": {},
   "outputs": [],
   "source": [
    "abbrev = []\n",
    "for team in NBA_Teams(2011):\n",
    "    abbrev.append(team.abbreviation)"
   ]
  },
  {
   "cell_type": "code",
   "execution_count": 5,
   "metadata": {
    "scrolled": true
   },
   "outputs": [
    {
     "data": {
      "text/plain": [
       "['DEN',\n",
       " 'NYK',\n",
       " 'HOU',\n",
       " 'PHO',\n",
       " 'OKC',\n",
       " 'SAS',\n",
       " 'GSW',\n",
       " 'MIA',\n",
       " 'LAL',\n",
       " 'MIN',\n",
       " 'DAL',\n",
       " 'MEM',\n",
       " 'IND',\n",
       " 'UTA',\n",
       " 'SAC',\n",
       " 'ORL',\n",
       " 'TOR',\n",
       " 'PHI',\n",
       " 'LAC',\n",
       " 'CHI',\n",
       " 'WAS',\n",
       " 'DET',\n",
       " 'BOS',\n",
       " 'POR',\n",
       " 'CLE',\n",
       " 'ATL',\n",
       " 'NOH',\n",
       " 'NJN',\n",
       " 'CHA',\n",
       " 'MIL']"
      ]
     },
     "execution_count": 5,
     "metadata": {},
     "output_type": "execute_result"
    }
   ],
   "source": [
    "abbrev"
   ]
  },
  {
   "cell_type": "markdown",
   "metadata": {},
   "source": [
    "**Exercise 2:** Get all the unique player's names that played for the Golden State Warriors in the past 3 years."
   ]
  },
  {
   "cell_type": "code",
   "execution_count": 22,
   "metadata": {},
   "outputs": [],
   "source": [
    "years = [2018, 2019, 2020]\n",
    "player_names = set()\n",
    "for year in years:\n",
    "    players = NBA_Roster('GSW', year).players\n",
    "    [player_names.add(player.name) for player in players]"
   ]
  },
  {
   "cell_type": "code",
   "execution_count": 23,
   "metadata": {
    "scrolled": true
   },
   "outputs": [
    {
     "data": {
      "text/plain": [
       "{'Alen Smailagić',\n",
       " 'Alfonzo McKinnie',\n",
       " 'Andre Iguodala',\n",
       " 'Andrew Bogut',\n",
       " 'Andrew Wiggins',\n",
       " 'Chris Boucher',\n",
       " 'Damian Jones',\n",
       " 'Damion Lee',\n",
       " 'David West',\n",
       " 'DeMarcus Cousins',\n",
       " 'Dragan Bender',\n",
       " 'Draymond Green',\n",
       " 'Eric Paschall',\n",
       " 'JaVale McGee',\n",
       " 'Jacob Evans',\n",
       " 'Jeremy Pargo',\n",
       " 'Jonas Jerebko',\n",
       " 'Jordan Bell',\n",
       " 'Jordan Poole',\n",
       " 'Juan Toscano-Anderson',\n",
       " 'Kevin Durant',\n",
       " 'Kevon Looney',\n",
       " 'Klay Thompson',\n",
       " 'Ky Bowman',\n",
       " 'Marcus Derrickson',\n",
       " 'Marquese Chriss',\n",
       " 'Mychal Mulder',\n",
       " 'Nick Young',\n",
       " 'Omri Casspi',\n",
       " 'Patrick McCaw',\n",
       " 'Quinn Cook',\n",
       " 'Shaun Livingston',\n",
       " 'Stephen Curry',\n",
       " 'Zach Norvell',\n",
       " 'Zaza Pachulia'}"
      ]
     },
     "execution_count": 23,
     "metadata": {},
     "output_type": "execute_result"
    }
   ],
   "source": [
    "player_names"
   ]
  },
  {
   "cell_type": "markdown",
   "metadata": {},
   "source": [
    "**Exercise 3:** Return all the **unique player objects** that played for Cal Basketball and UCLA from 2014-2015 to 2017-2018."
   ]
  },
  {
   "cell_type": "code",
   "execution_count": 29,
   "metadata": {},
   "outputs": [],
   "source": [
    "years = [2015, 2016, 2017, 2018]\n",
    "players = set()\n",
    "for year in years:\n",
    "    [players.add(player) for player in NCAAB_Roster('california', year=year).players]\n",
    "    [players.add(player) for player in NCAAB_Roster('ucla', year=year).players]"
   ]
  },
  {
   "cell_type": "code",
   "execution_count": 33,
   "metadata": {},
   "outputs": [
    {
     "data": {
      "text/plain": [
       "{<sportsreference.ncaab.roster.Player at 0x1167d0fd0>,\n",
       " <sportsreference.ncaab.roster.Player at 0x1167d1fd0>,\n",
       " <sportsreference.ncaab.roster.Player at 0x1167d23c8>,\n",
       " <sportsreference.ncaab.roster.Player at 0x1167d8f28>,\n",
       " <sportsreference.ncaab.roster.Player at 0x1167e0198>,\n",
       " <sportsreference.ncaab.roster.Player at 0x1167e60b8>,\n",
       " <sportsreference.ncaab.roster.Player at 0x1167f0080>,\n",
       " <sportsreference.ncaab.roster.Player at 0x1167f1f98>,\n",
       " <sportsreference.ncaab.roster.Player at 0x1167f5f98>,\n",
       " <sportsreference.ncaab.roster.Player at 0x1167fd278>,\n",
       " <sportsreference.ncaab.roster.Player at 0x1167fe438>,\n",
       " <sportsreference.ncaab.roster.Player at 0x116801f98>,\n",
       " <sportsreference.ncaab.roster.Player at 0x116808668>,\n",
       " <sportsreference.ncaab.roster.Player at 0x11680d1d0>,\n",
       " <sportsreference.ncaab.roster.Player at 0x119fe0fd0>,\n",
       " <sportsreference.ncaab.roster.Player at 0x119fe2f98>,\n",
       " <sportsreference.ncaab.roster.Player at 0x119fe5dd8>,\n",
       " <sportsreference.ncaab.roster.Player at 0x119feefd0>,\n",
       " <sportsreference.ncaab.roster.Player at 0x119ff5fd0>,\n",
       " <sportsreference.ncaab.roster.Player at 0x119ff8a20>,\n",
       " <sportsreference.ncaab.roster.Player at 0x119ff9320>,\n",
       " <sportsreference.ncaab.roster.Player at 0x119ffdd30>,\n",
       " <sportsreference.ncaab.roster.Player at 0x11a002198>,\n",
       " <sportsreference.ncaab.roster.Player at 0x11a003048>,\n",
       " <sportsreference.ncaab.roster.Player at 0x11a0062b0>,\n",
       " <sportsreference.ncaab.roster.Player at 0x11a00bf60>,\n",
       " <sportsreference.ncaab.roster.Player at 0x11a00c128>,\n",
       " <sportsreference.ncaab.roster.Player at 0x11a018cc0>,\n",
       " <sportsreference.ncaab.roster.Player at 0x11a01bd30>,\n",
       " <sportsreference.ncaab.roster.Player at 0x11a01df98>,\n",
       " <sportsreference.ncaab.roster.Player at 0x11a01ef98>,\n",
       " <sportsreference.ncaab.roster.Player at 0x11a0a4710>,\n",
       " <sportsreference.ncaab.roster.Player at 0x11a0a8f28>,\n",
       " <sportsreference.ncaab.roster.Player at 0x11a0aaf98>,\n",
       " <sportsreference.ncaab.roster.Player at 0x11a0ac080>,\n",
       " <sportsreference.ncaab.roster.Player at 0x11a0b95f8>,\n",
       " <sportsreference.ncaab.roster.Player at 0x11a0bcf98>,\n",
       " <sportsreference.ncaab.roster.Player at 0x11a0c0fd0>,\n",
       " <sportsreference.ncaab.roster.Player at 0x11a0c5f60>,\n",
       " <sportsreference.ncaab.roster.Player at 0x11a0c7f98>,\n",
       " <sportsreference.ncaab.roster.Player at 0x11a0cff60>,\n",
       " <sportsreference.ncaab.roster.Player at 0x11a0d0278>,\n",
       " <sportsreference.ncaab.roster.Player at 0x11a0d77f0>,\n",
       " <sportsreference.ncaab.roster.Player at 0x11a0d9fd0>,\n",
       " <sportsreference.ncaab.roster.Player at 0x11a0da470>,\n",
       " <sportsreference.ncaab.roster.Player at 0x11a808668>,\n",
       " <sportsreference.ncaab.roster.Player at 0x11a810fd0>,\n",
       " <sportsreference.ncaab.roster.Player at 0x11a819f60>,\n",
       " <sportsreference.ncaab.roster.Player at 0x11a81a860>,\n",
       " <sportsreference.ncaab.roster.Player at 0x11a81ce80>,\n",
       " <sportsreference.ncaab.roster.Player at 0x11a81fe10>,\n",
       " <sportsreference.ncaab.roster.Player at 0x11a822240>,\n",
       " <sportsreference.ncaab.roster.Player at 0x11a88a2e8>,\n",
       " <sportsreference.ncaab.roster.Player at 0x11a88e400>,\n",
       " <sportsreference.ncaab.roster.Player at 0x11a891908>,\n",
       " <sportsreference.ncaab.roster.Player at 0x11a895f98>,\n",
       " <sportsreference.ncaab.roster.Player at 0x11a898fd0>,\n",
       " <sportsreference.ncaab.roster.Player at 0x11a89dcc0>,\n",
       " <sportsreference.ncaab.roster.Player at 0x11a89e160>,\n",
       " <sportsreference.ncaab.roster.Player at 0x11a8a0f98>,\n",
       " <sportsreference.ncaab.roster.Player at 0x11a8a5f98>,\n",
       " <sportsreference.ncaab.roster.Player at 0x11a8a9a20>,\n",
       " <sportsreference.ncaab.roster.Player at 0x11a8aa080>,\n",
       " <sportsreference.ncaab.roster.Player at 0x11a8b6f98>,\n",
       " <sportsreference.ncaab.roster.Player at 0x11a8c1fd0>,\n",
       " <sportsreference.ncaab.roster.Player at 0x11a8c8fd0>,\n",
       " <sportsreference.ncaab.roster.Player at 0x11a8d1f28>,\n",
       " <sportsreference.ncaab.roster.Player at 0x11a8d5f98>,\n",
       " <sportsreference.ncaab.roster.Player at 0x11a8d8cc0>,\n",
       " <sportsreference.ncaab.roster.Player at 0x11a8dbf98>,\n",
       " <sportsreference.ncaab.roster.Player at 0x11a8dff98>,\n",
       " <sportsreference.ncaab.roster.Player at 0x11a988198>,\n",
       " <sportsreference.ncaab.roster.Player at 0x11a989fd0>,\n",
       " <sportsreference.ncaab.roster.Player at 0x11a995f98>,\n",
       " <sportsreference.ncaab.roster.Player at 0x11a9a8f98>,\n",
       " <sportsreference.ncaab.roster.Player at 0x11a9a9160>,\n",
       " <sportsreference.ncaab.roster.Player at 0x11a9c51d0>,\n",
       " <sportsreference.ncaab.roster.Player at 0x11ab7cd30>,\n",
       " <sportsreference.ncaab.roster.Player at 0x11ab7d978>,\n",
       " <sportsreference.ncaab.roster.Player at 0x11ab7efd0>,\n",
       " <sportsreference.ncaab.roster.Player at 0x11ab86fd0>,\n",
       " <sportsreference.ncaab.roster.Player at 0x11ab88b38>,\n",
       " <sportsreference.ncaab.roster.Player at 0x11ab8af98>,\n",
       " <sportsreference.ncaab.roster.Player at 0x11ab95ef0>,\n",
       " <sportsreference.ncaab.roster.Player at 0x11ab9bf98>,\n",
       " <sportsreference.ncaab.roster.Player at 0x11ab9c9b0>,\n",
       " <sportsreference.ncaab.roster.Player at 0x11aba2f98>,\n",
       " <sportsreference.ncaab.roster.Player at 0x11aba3fd0>,\n",
       " <sportsreference.ncaab.roster.Player at 0x11aba7cf8>,\n",
       " <sportsreference.ncaab.roster.Player at 0x11b0004e0>,\n",
       " <sportsreference.ncaab.roster.Player at 0x11b000f60>,\n",
       " <sportsreference.ncaab.roster.Player at 0x11b009ac8>,\n",
       " <sportsreference.ncaab.roster.Player at 0x11b00ee80>,\n",
       " <sportsreference.ncaab.roster.Player at 0x11b010f98>,\n",
       " <sportsreference.ncaab.roster.Player at 0x11b016f98>,\n",
       " <sportsreference.ncaab.roster.Player at 0x11b01df28>,\n",
       " <sportsreference.ncaab.roster.Player at 0x11b020eb8>,\n",
       " <sportsreference.ncaab.roster.Player at 0x11b022f98>,\n",
       " <sportsreference.ncaab.roster.Player at 0x11b024668>,\n",
       " <sportsreference.ncaab.roster.Player at 0x11b026f98>,\n",
       " <sportsreference.ncaab.roster.Player at 0x11b02afd0>,\n",
       " <sportsreference.ncaab.roster.Player at 0x11b02cd68>,\n",
       " <sportsreference.ncaab.roster.Player at 0x11b031f98>,\n",
       " <sportsreference.ncaab.roster.Player at 0x11b0380b8>,\n",
       " <sportsreference.ncaab.roster.Player at 0x11b03af98>,\n",
       " <sportsreference.ncaab.roster.Player at 0x11b03df98>,\n",
       " <sportsreference.ncaab.roster.Player at 0x11b0ca2b0>,\n",
       " <sportsreference.ncaab.roster.Player at 0x11b0d5fd0>,\n",
       " <sportsreference.ncaab.roster.Player at 0x11b0ee390>}"
      ]
     },
     "execution_count": 33,
     "metadata": {},
     "output_type": "execute_result"
    }
   ],
   "source": [
    "players"
   ]
  },
  {
   "cell_type": "markdown",
   "metadata": {},
   "source": [
    "Nice! Now that you've been able to get a feel for how the packages work, let's get into the data problem we're dealing with at hand."
   ]
  },
  {
   "cell_type": "markdown",
   "metadata": {},
   "source": [
    "<a id='section3'></a>\n",
    "# Let's Get Our Data!"
   ]
  },
  {
   "cell_type": "markdown",
   "metadata": {},
   "source": [
    "Now that you've been able to tinker around with a little bit of the package, try and figure out how you might able to get the data we need for the project! We've provided the following classes below to try and help out what we're trying to find, but tinker around and see what kind of things you come across!"
   ]
  },
  {
   "cell_type": "markdown",
   "metadata": {},
   "source": [
    "To reiterate our project objective, and in turn, what we need from our data, we want to:\n",
    "\n",
    "**Predict the 2019-2020 NBA Rookie statlines and compare those to their current statlines, given the past 20 years worth of NBA rookie + NCAA basketball data.**"
   ]
  },
  {
   "cell_type": "markdown",
   "metadata": {},
   "source": [
    "<a id='section3b'></a>\n",
    "## Important Things To Know"
   ]
  },
  {
   "cell_type": "markdown",
   "metadata": {},
   "source": [
    "1. The last digit on the `player_id` tag relates to which number instance they are of that name. For example, `stephen-curry-2` would be the second player with the same name `Stephen Curry`. This can get incredibly annoying when trying to translate player data from the NBA to the NCAA, as there's a lot more players (and more possible name collisions) in the NCAA than in the NBA."
   ]
  },
  {
   "cell_type": "markdown",
   "metadata": {},
   "source": [
    "2. Datetime objects are comparable. Let's see how this implicates with what we know above with the new classes. (Hint: Can a player play in NCAA basketball after playing in the NBA?)"
   ]
  },
  {
   "cell_type": "code",
   "execution_count": null,
   "metadata": {},
   "outputs": [],
   "source": [
    "year_2009 = datetime.datetime.strptime('2009', '%Y').date()\n",
    "year_2009"
   ]
  },
  {
   "cell_type": "code",
   "execution_count": null,
   "metadata": {},
   "outputs": [],
   "source": [
    "year_2008 = datetime.datetime.strptime('2008', '%Y').date()\n",
    "year_2008"
   ]
  },
  {
   "cell_type": "code",
   "execution_count": null,
   "metadata": {},
   "outputs": [],
   "source": [
    "year_2009 > year_2008"
   ]
  },
  {
   "cell_type": "markdown",
   "metadata": {},
   "source": [
    "3. It may be easier for you to go from all the different NBA players and trying to find their respective NCAA stats than the other way around (there are less NBA players than NCAA players, so potentially less queries to be made to find all the data.)"
   ]
  },
  {
   "cell_type": "markdown",
   "metadata": {},
   "source": [
    "4. Take a look at what happens when you try to query into the NCAAB_Player class with an invalid `player_id` and see how you can use this to your advantage!"
   ]
  },
  {
   "cell_type": "code",
   "execution_count": null,
   "metadata": {
    "scrolled": true
   },
   "outputs": [],
   "source": [
    "NCAAB_Player('lebron-james-1') # LeBron never went to college."
   ]
  },
  {
   "cell_type": "markdown",
   "metadata": {},
   "source": [
    "5. One of the most key components of this data extraction portion is matching the player correctly (from NBA to NCAA). Since there's no 1-to-1 mapping that exists within the API itself, so it'll be important to think about what verifications we need to make for determining how NBA players can be mapped to the NCAAB."
   ]
  },
  {
   "cell_type": "markdown",
   "metadata": {},
   "source": [
    "6. Teams change over time (location or name)! Keep that in mind."
   ]
  },
  {
   "cell_type": "markdown",
   "metadata": {},
   "source": [
    "7. This method may take a long time to run (for us, it takes us ~5.5 hrs to fully extract all the data from the past 20 years)! Do start + finish this as early as you can so that you have enough time to let the function run."
   ]
  },
  {
   "cell_type": "markdown",
   "metadata": {},
   "source": [
    "8. There will be many different cases where this function won't work, and it's up to you for what you want to do about them (i.e. international players didn't play in the NCAA, players aren't necessarily guarenteed to be the first instance player with their name). Feel free to ask us about what you should do in order to deal with these cases, but we mention this to highlight how what you choose to do here can alter how your project fundamentally behaves later on. This doesn't mean any way is necessarily right (we haven't gone through all the different combinations), but this gives you more free reign to take this project into your own hands and determine **what you want your data to be like, and where to get the data from.**"
   ]
  },
  {
   "cell_type": "markdown",
   "metadata": {},
   "source": [
    "## Helper Methods"
   ]
  },
  {
   "cell_type": "markdown",
   "metadata": {},
   "source": [
    "Here's where you'll be extracting all the data you might need for the project. We've also provided some helper functions and how they're used, just to help out with development-- feel free to go in different directions if you'd like/not use these functions if you don't need to!\n",
    "\n",
    "Feel free to tinker around however you please and ask us any questions you might have about anything-- we're more than happy to help you out!"
   ]
  },
  {
   "cell_type": "code",
   "execution_count": 1,
   "metadata": {},
   "outputs": [],
   "source": [
    "# This method should hopefully reduce the number of failure cases.\n",
    "def convert_nba_ncaa_name(name):\n",
    "    \"\"\"\n",
    "    Converts the format of the NBA player_id to the NCAA player_id.\n",
    "    \n",
    "    You may want to elaborate on the logic on this function to reduce the number of failure cases later.\n",
    "    \"\"\"\n",
    "    return unidecode.unidecode(name.lower().replace(\" \", \"-\") + \"-1\")"
   ]
  },
  {
   "cell_type": "code",
   "execution_count": null,
   "metadata": {},
   "outputs": [],
   "source": [
    "# Example usage\n",
    "convert_nba_ncaa_name(\"Stephen Curry\")"
   ]
  },
  {
   "cell_type": "code",
   "execution_count": null,
   "metadata": {},
   "outputs": [],
   "source": [
    "def format_df(player_name, df, is_college):\n",
    "    \"\"\"\n",
    "    Formats a dataframe returned by calling either the `NBA_Player` or `NCAAB_Player` methods\n",
    "    into a dataframe that we want to return later.\n",
    "    \"\"\"\n",
    "    # Easier toggling into different functions for later, instead of having to remember how they work\n",
    "    is_college_types = {\n",
    "        True: lambda x: 'NBA_' + x,\n",
    "        False: lambda x: 'NCAAB_' + x,\n",
    "    }\n",
    "    \n",
    "    # Takes a function and renames the column names using that function\n",
    "    df.rename(columns=is_college_types[is_college], inplace=True)\n",
    "    col_names = ['name'] + list(df.columns)\n",
    "    df['name'] = player_name\n",
    "    df = df[col_names]\n",
    "    \n",
    "    # This is for whether or not to format the dataframe by looking at the last year college stats, or first year \n",
    "    # NBA stats. Feel free to tinker with these couple of lines outside this function as well-- they're incredibly \n",
    "    # key for this part of the project!\n",
    "    if is_college == True: \n",
    "        return df.iloc[[df.shape[0] - 2]]\n",
    "    else:\n",
    "        return df.iloc[[0]]"
   ]
  },
  {
   "cell_type": "code",
   "execution_count": null,
   "metadata": {},
   "outputs": [],
   "source": [
    "# Example usage\n",
    "format_df('Stephen Curry', NBA_Player('curryst01').dataframe, is_college=True)"
   ]
  },
  {
   "cell_type": "code",
   "execution_count": null,
   "metadata": {},
   "outputs": [],
   "source": [
    "# Example usage\n",
    "format_df('Stephen Curry', NCAAB_Player('stephen-curry-1').dataframe, is_college=False)"
   ]
  },
  {
   "cell_type": "code",
   "execution_count": null,
   "metadata": {},
   "outputs": [],
   "source": [
    "def convert_year_to_date(year: int):\n",
    "    \"\"\"\n",
    "    Converts a passed in year into a datetime object that can be compared with other datetime objects.\n",
    "    \"\"\"\n",
    "    return datetime.datetime.strptime(str(year), '%Y').date()"
   ]
  },
  {
   "cell_type": "code",
   "execution_count": null,
   "metadata": {},
   "outputs": [],
   "source": [
    "# Example usage\n",
    "convert_year_to_date(2008)"
   ]
  },
  {
   "cell_type": "markdown",
   "metadata": {},
   "source": [
    "## Sandbox Area"
   ]
  },
  {
   "cell_type": "code",
   "execution_count": 34,
   "metadata": {},
   "outputs": [],
   "source": [
    "def get_nba_ncaa_10_years(set_players, first_year, one_loop=True):\n",
    "    \"\"\"\n",
    "    Getting the college basketball data for all NBA Players in the past 10 years.\n",
    "    \"\"\"\n",
    "    # Generating columns for combined dataframe\n",
    "    nba_cols = format_df('Stephen Curry', NBA_Player('curryst01').dataframe, False, lambda x: 'NBA_' + x) \n",
    "    ncaa_cols = format_df('Stephen Curry', NCAAB_Player('stephen-curry-1').dataframe, True, lambda x: 'NCAAB_' + x)\n",
    "    all_cols = nba_cols.merge(ncaa_cols).columns\n",
    "\n",
    "    combined = pd.DataFrame(columns=all_cols)\n",
    "    seen = set() # To keep track of seen NBA players\n",
    "    failed = dict()\n",
    "\n",
    "    for year in range(first_year, 2020):\n",
    "        \n",
    "        sub_year = pd.DataFrame(columns=all_cols)\n",
    "        \n",
    "        teams = NBA_Teams(year=year)\n",
    "        for team in teams:\n",
    "            \n",
    "            start = time.time() # For time measuring purposes\n",
    "            \n",
    "            players = NBA_Roster(team.abbreviation, year).players\n",
    "            for player in players:\n",
    "                if player.name in seen:\n",
    "                    continue\n",
    "                seen.add(player.name)\n",
    "#                 unaccented_name = unidecode.unidecode(player.name) # We use this because maybe some of NBA players played in the NCAA with an accented name\n",
    "                ncaab_player_id = convert_nba_ncaa_name(player.name) \n",
    "                \n",
    "                try:\n",
    "                    college_stats = NCAAB_Player(ncaab_player_id)\n",
    "                except TypeError: # Player doesn't exist\n",
    "                    print(\"Couldn't find NCAA player data for\", player.name, \". Moving on.\")\n",
    "                    if 'lost' not in failed:\n",
    "                        failed['lost'] = [player.name]\n",
    "                    else:\n",
    "                        failed['lost'].append(player.name)\n",
    "                    continue\n",
    "                \n",
    "#                 if ncaab_player_id in set_players:\n",
    "                last_college_date = convert_year_to_date(college_stats._most_recent_season[0:4])\n",
    "                first_nba_date = convert_year_to_date(player._season[0][0:4])\n",
    "    \n",
    "                if last_college_date > convert_year_to_date(str(first_year)):\n",
    "                    \n",
    "                    # Confirming that the college player we find for the given NBA player has indeed played in college before the NBA\n",
    "                    # (verifying that they are the same person, as you can't play in the NBA and then play in the NCAA)\n",
    "#                     last_college_date = datetime.datetime.strptime(college_stats._most_recent_season[0:4], '%Y').date()\n",
    "#                     first_nba_date = datetime.datetime.strptime(player._season[0][0:4], '%Y').date()\n",
    "                   \n",
    "                    if last_college_date < first_nba_date:\n",
    "#                     if New_NBA_Player('fiewjf')._first_year > fjewifojwf:\n",
    "                        \n",
    "                        # Generating properly formatted dataframes for college and NBA stats\n",
    "                        new_college = format_df(player.name, college_stats.dataframe, True, lambda x: 'NCAAB_' + x)\n",
    "                        new_nba = format_df(player.name, player.dataframe, False, lambda x: 'NBA_' + x)\n",
    "\n",
    "                        merged = new_nba.merge(new_college)\n",
    "                        sub_year = sub_year.append(merged)\n",
    "#                         combined = combined.append(merged)\n",
    "                    else:\n",
    "                        print(\"NBA Date before college date for\", player.name, \". Moving on.\")\n",
    "                        if 'invalid-date' not in failed:\n",
    "                            failed['invalid-date'] = [player.name]\n",
    "                        else:\n",
    "                            failed['invalid-date'].append(player.name)\n",
    "                        continue\n",
    "                \n",
    "                else:\n",
    "                    print(\"College id not in set_players for\", player.name, \". Moving on.\")\n",
    "                    if 'old-player' not in failed:\n",
    "                        failed['old-player'] = [player.name]\n",
    "                    else:\n",
    "                        failed['old-player'].append(player.name)\n",
    "                    continue\n",
    "\n",
    "            print(\"\\n\")\n",
    "            print(\"Looked at\", team.name, \"on year\", year, \". Moving to the next team.\")\n",
    "            print(\"\\n\")\n",
    "\n",
    "            if one_loop:\n",
    "                end = time.time()\n",
    "                print(\"One iteration for one team and one year would take\", end - start, \"seconds to run.\")\n",
    "                print(\"Would take\", (end - start) * 600 / 60 / 60, \"hours to find all players that played in the NBA in the past 20 years and their respective college stats.\")\n",
    "                return combined.reset_index().drop(columns=['index']), failed\n",
    "        \n",
    "        cleaned_year = sub_year.reset_index().drop(columns=['index'])\n",
    "        cy = cleaned_year.to_csv(\"{}_Player_Data.csv\".format(year))\n",
    "        \n",
    "        combined = combined.append(cleaned_year)\n",
    "    \n",
    "    return combined.reset_index().drop(columns=['index']), failed"
   ]
  },
  {
   "cell_type": "markdown",
   "metadata": {},
   "source": [
    "To guide your development, here's a snippet of a dataframe that we'd like to have constructed by the end of this!"
   ]
  },
  {
   "cell_type": "code",
   "execution_count": null,
   "metadata": {},
   "outputs": [],
   "source": [
    "pd.read_csv('example_data.csv')"
   ]
  },
  {
   "cell_type": "markdown",
   "metadata": {},
   "source": [
    "**Running methods and saving CSV here**"
   ]
  },
  {
   "cell_type": "code",
   "execution_count": null,
   "metadata": {},
   "outputs": [],
   "source": [
    "data, failed = get_nba_ncaa_10_years()\n",
    "csv_data = data.to_csv('all_player_data.csv')"
   ]
  },
  {
   "cell_type": "markdown",
   "metadata": {},
   "source": [
    "**Congrats! You've gotten all your data!** This is definitely not an easy task to do, so congratulate yourself with figuring out how `sportsreference` works and getting all the data we need for the project! Next week, we'll get into analyzing the different features of the data, and doing some [data analysis](https://en.wikipedia.org/wiki/Data_analysis) and [feature engineering](https://en.wikipedia.org/wiki/Feature_engineering) to determine which features will be best to use for our project. Stay tuned for more :D"
   ]
  }
 ],
 "metadata": {
  "kernelspec": {
   "display_name": "Python 3",
   "language": "python",
   "name": "python3"
  },
  "language_info": {
   "codemirror_mode": {
    "name": "ipython",
    "version": 3
   },
   "file_extension": ".py",
   "mimetype": "text/x-python",
   "name": "python",
   "nbconvert_exporter": "python",
   "pygments_lexer": "ipython3",
   "version": "3.6.5"
  }
 },
 "nbformat": 4,
 "nbformat_minor": 4
}
