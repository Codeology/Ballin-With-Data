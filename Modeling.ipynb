{
 "cells": [
  {
   "cell_type": "markdown",
   "metadata": {},
   "source": [
    "# Testing Environment"
   ]
  },
  {
   "cell_type": "code",
   "execution_count": null,
   "metadata": {},
   "outputs": [],
   "source": [
    "# Standard imports\n",
    "# If any of these don't work, try doing `pip install _____`, or try looking up the error message.\n",
    "import numpy as np\n",
    "import pandas as pd\n",
    "import json\n",
    "import time\n",
    "import os.path\n",
    "from os import path\n",
    "import math\n",
    "import datetime\n",
    "import unidecode\n",
    "import requests\n",
    "from bs4 import BeautifulSoup\n",
    "import matplotlib.pyplot as plt\n",
    "import seaborn as sns\n",
    "import sklearn\n",
    "from sklearn.model_selection import train_test_split"
   ]
  },
  {
   "cell_type": "code",
   "execution_count": 2,
   "metadata": {},
   "outputs": [
    {
     "data": {
      "text/html": [
       "<div>\n",
       "<style scoped>\n",
       "    .dataframe tbody tr th:only-of-type {\n",
       "        vertical-align: middle;\n",
       "    }\n",
       "\n",
       "    .dataframe tbody tr th {\n",
       "        vertical-align: top;\n",
       "    }\n",
       "\n",
       "    .dataframe thead th {\n",
       "        text-align: right;\n",
       "    }\n",
       "</style>\n",
       "<table border=\"1\" class=\"dataframe\">\n",
       "  <thead>\n",
       "    <tr style=\"text-align: right;\">\n",
       "      <th></th>\n",
       "      <th>name</th>\n",
       "      <th>NCAAB_assists</th>\n",
       "      <th>NCAAB_blocks</th>\n",
       "      <th>NCAAB_field_goal_attempts</th>\n",
       "      <th>NCAAB_field_goal_percentage</th>\n",
       "      <th>NCAAB_field_goals</th>\n",
       "      <th>NCAAB_free_throw_attempt_rate</th>\n",
       "      <th>NCAAB_free_throw_attempts</th>\n",
       "      <th>NCAAB_free_throw_percentage</th>\n",
       "      <th>NCAAB_free_throws</th>\n",
       "      <th>...</th>\n",
       "      <th>NCAAB_two_point_attempts</th>\n",
       "      <th>NCAAB_win_shares</th>\n",
       "      <th>NBA_assists</th>\n",
       "      <th>NBA_blocks</th>\n",
       "      <th>NBA_points</th>\n",
       "      <th>NBA_steals</th>\n",
       "      <th>NBA_total_rebounds</th>\n",
       "      <th>Center</th>\n",
       "      <th>Forward</th>\n",
       "      <th>Guard</th>\n",
       "    </tr>\n",
       "  </thead>\n",
       "  <tbody>\n",
       "    <tr>\n",
       "      <th>0</th>\n",
       "      <td>Landry Fields</td>\n",
       "      <td>89.0</td>\n",
       "      <td>25.0</td>\n",
       "      <td>506.0</td>\n",
       "      <td>0.490</td>\n",
       "      <td>248.0</td>\n",
       "      <td>0.508</td>\n",
       "      <td>257.0</td>\n",
       "      <td>0.696</td>\n",
       "      <td>179.0</td>\n",
       "      <td>...</td>\n",
       "      <td>420.0</td>\n",
       "      <td>6.0</td>\n",
       "      <td>155.0</td>\n",
       "      <td>17.0</td>\n",
       "      <td>797.0</td>\n",
       "      <td>80.0</td>\n",
       "      <td>521.0</td>\n",
       "      <td>0</td>\n",
       "      <td>0</td>\n",
       "      <td>1</td>\n",
       "    </tr>\n",
       "    <tr>\n",
       "      <th>1</th>\n",
       "      <td>Andy Rautins</td>\n",
       "      <td>171.0</td>\n",
       "      <td>8.0</td>\n",
       "      <td>297.0</td>\n",
       "      <td>0.438</td>\n",
       "      <td>130.0</td>\n",
       "      <td>0.273</td>\n",
       "      <td>81.0</td>\n",
       "      <td>0.815</td>\n",
       "      <td>66.0</td>\n",
       "      <td>...</td>\n",
       "      <td>56.0</td>\n",
       "      <td>4.9</td>\n",
       "      <td>3.0</td>\n",
       "      <td>0.0</td>\n",
       "      <td>8.0</td>\n",
       "      <td>1.0</td>\n",
       "      <td>1.0</td>\n",
       "      <td>0</td>\n",
       "      <td>0</td>\n",
       "      <td>1</td>\n",
       "    </tr>\n",
       "    <tr>\n",
       "      <th>2</th>\n",
       "      <td>Patrick Patterson</td>\n",
       "      <td>36.0</td>\n",
       "      <td>51.0</td>\n",
       "      <td>374.0</td>\n",
       "      <td>0.575</td>\n",
       "      <td>215.0</td>\n",
       "      <td>0.348</td>\n",
       "      <td>130.0</td>\n",
       "      <td>0.692</td>\n",
       "      <td>90.0</td>\n",
       "      <td>...</td>\n",
       "      <td>305.0</td>\n",
       "      <td>7.0</td>\n",
       "      <td>41.0</td>\n",
       "      <td>37.0</td>\n",
       "      <td>328.0</td>\n",
       "      <td>17.0</td>\n",
       "      <td>200.0</td>\n",
       "      <td>0</td>\n",
       "      <td>1</td>\n",
       "      <td>0</td>\n",
       "    </tr>\n",
       "    <tr>\n",
       "      <th>3</th>\n",
       "      <td>Gani Lawal</td>\n",
       "      <td>15.0</td>\n",
       "      <td>49.0</td>\n",
       "      <td>325.0</td>\n",
       "      <td>0.529</td>\n",
       "      <td>172.0</td>\n",
       "      <td>0.683</td>\n",
       "      <td>222.0</td>\n",
       "      <td>0.572</td>\n",
       "      <td>127.0</td>\n",
       "      <td>...</td>\n",
       "      <td>324.0</td>\n",
       "      <td>4.1</td>\n",
       "      <td>0.0</td>\n",
       "      <td>0.0</td>\n",
       "      <td>0.0</td>\n",
       "      <td>0.0</td>\n",
       "      <td>0.0</td>\n",
       "      <td>0</td>\n",
       "      <td>1</td>\n",
       "      <td>0</td>\n",
       "    </tr>\n",
       "    <tr>\n",
       "      <th>4</th>\n",
       "      <td>Cole Aldrich</td>\n",
       "      <td>31.0</td>\n",
       "      <td>125.0</td>\n",
       "      <td>265.0</td>\n",
       "      <td>0.562</td>\n",
       "      <td>149.0</td>\n",
       "      <td>0.600</td>\n",
       "      <td>159.0</td>\n",
       "      <td>0.679</td>\n",
       "      <td>108.0</td>\n",
       "      <td>...</td>\n",
       "      <td>265.0</td>\n",
       "      <td>5.9</td>\n",
       "      <td>4.0</td>\n",
       "      <td>7.0</td>\n",
       "      <td>18.0</td>\n",
       "      <td>5.0</td>\n",
       "      <td>35.0</td>\n",
       "      <td>1</td>\n",
       "      <td>0</td>\n",
       "      <td>0</td>\n",
       "    </tr>\n",
       "  </tbody>\n",
       "</table>\n",
       "<p>5 rows × 30 columns</p>\n",
       "</div>"
      ],
      "text/plain": [
       "                name  NCAAB_assists  NCAAB_blocks  NCAAB_field_goal_attempts  \\\n",
       "0      Landry Fields           89.0          25.0                      506.0   \n",
       "1       Andy Rautins          171.0           8.0                      297.0   \n",
       "2  Patrick Patterson           36.0          51.0                      374.0   \n",
       "3         Gani Lawal           15.0          49.0                      325.0   \n",
       "4       Cole Aldrich           31.0         125.0                      265.0   \n",
       "\n",
       "   NCAAB_field_goal_percentage  NCAAB_field_goals  \\\n",
       "0                        0.490              248.0   \n",
       "1                        0.438              130.0   \n",
       "2                        0.575              215.0   \n",
       "3                        0.529              172.0   \n",
       "4                        0.562              149.0   \n",
       "\n",
       "   NCAAB_free_throw_attempt_rate  NCAAB_free_throw_attempts  \\\n",
       "0                          0.508                      257.0   \n",
       "1                          0.273                       81.0   \n",
       "2                          0.348                      130.0   \n",
       "3                          0.683                      222.0   \n",
       "4                          0.600                      159.0   \n",
       "\n",
       "   NCAAB_free_throw_percentage  NCAAB_free_throws  ...  \\\n",
       "0                        0.696              179.0  ...   \n",
       "1                        0.815               66.0  ...   \n",
       "2                        0.692               90.0  ...   \n",
       "3                        0.572              127.0  ...   \n",
       "4                        0.679              108.0  ...   \n",
       "\n",
       "   NCAAB_two_point_attempts  NCAAB_win_shares  NBA_assists  NBA_blocks  \\\n",
       "0                     420.0               6.0        155.0        17.0   \n",
       "1                      56.0               4.9          3.0         0.0   \n",
       "2                     305.0               7.0         41.0        37.0   \n",
       "3                     324.0               4.1          0.0         0.0   \n",
       "4                     265.0               5.9          4.0         7.0   \n",
       "\n",
       "   NBA_points  NBA_steals  NBA_total_rebounds  Center  Forward  Guard  \n",
       "0       797.0        80.0               521.0       0        0      1  \n",
       "1         8.0         1.0                 1.0       0        0      1  \n",
       "2       328.0        17.0               200.0       0        1      0  \n",
       "3         0.0         0.0                 0.0       0        1      0  \n",
       "4        18.0         5.0                35.0       1        0      0  \n",
       "\n",
       "[5 rows x 30 columns]"
      ]
     },
     "execution_count": 2,
     "metadata": {},
     "output_type": "execute_result"
    }
   ],
   "source": [
    "orig = pd.read_csv(\"data/for_modeling.csv\")\n",
    "orig.head()"
   ]
  },
  {
   "cell_type": "code",
   "execution_count": 3,
   "metadata": {},
   "outputs": [],
   "source": [
    "clean_data = orig.copy(deep=True)"
   ]
  },
  {
   "cell_type": "code",
   "execution_count": 4,
   "metadata": {},
   "outputs": [],
   "source": [
    "clean_data.set_index('name', inplace=True)"
   ]
  },
  {
   "cell_type": "code",
   "execution_count": 5,
   "metadata": {},
   "outputs": [],
   "source": [
    "from sklearn.preprocessing import StandardScaler"
   ]
  },
  {
   "cell_type": "code",
   "execution_count": 6,
   "metadata": {},
   "outputs": [
    {
     "data": {
      "text/plain": [
       "['NBA_assists', 'NBA_blocks', 'NBA_points', 'NBA_steals', 'NBA_total_rebounds']"
      ]
     },
     "execution_count": 6,
     "metadata": {},
     "output_type": "execute_result"
    }
   ],
   "source": [
    "nba_col = ['NBA_assists', 'NBA_blocks', 'NBA_points', 'NBA_steals', 'NBA_total_rebounds']\n",
    "nba_col"
   ]
  },
  {
   "cell_type": "code",
   "execution_count": 7,
   "metadata": {},
   "outputs": [],
   "source": [
    "no_nba = clean_data.drop(columns=nba_col)\n",
    "\n",
    "sc_objs = {}\n",
    "for col in clean_data.columns:\n",
    "    sc = StandardScaler()\n",
    "    if col in nba_col:\n",
    "        sc.fit_transform(clean_data[[col]])\n",
    "        sc_objs[col] = sc\n",
    "    clean_data[col] = sc.fit_transform(clean_data[[col]])"
   ]
  },
  {
   "cell_type": "code",
   "execution_count": 8,
   "metadata": {},
   "outputs": [],
   "source": [
    "train, test = train_test_split(clean_data, train_size=0.8)"
   ]
  },
  {
   "cell_type": "code",
   "execution_count": 9,
   "metadata": {},
   "outputs": [],
   "source": [
    "train_x = train.drop(columns=nba_col)\n",
    "train_y = train[nba_col]"
   ]
  },
  {
   "cell_type": "code",
   "execution_count": 10,
   "metadata": {},
   "outputs": [],
   "source": [
    "test_x = test.drop(columns=nba_col)\n",
    "test_y = test[nba_col]"
   ]
  },
  {
   "cell_type": "code",
   "execution_count": 11,
   "metadata": {
    "scrolled": true
   },
   "outputs": [
    {
     "data": {
      "text/plain": [
       "['Julian Washburn',\n",
       " 'Rodney Purvis',\n",
       " 'Rondae Hollis-Jefferson',\n",
       " 'Jamaal Franklin',\n",
       " 'Damian Lillard',\n",
       " 'John Henson',\n",
       " 'Trey McKinney-Jones',\n",
       " 'Nerlens Noel',\n",
       " 'Brad Wanamaker',\n",
       " 'Reggie Jackson',\n",
       " 'Kyle Singler',\n",
       " 'Robert Sacre',\n",
       " 'Andrew Harrison',\n",
       " 'Sim Bhullar',\n",
       " 'Maurice Ndour',\n",
       " 'Diamond Stone',\n",
       " 'JaKarr Sampson',\n",
       " 'Jahlil Okafor',\n",
       " 'Stanley Johnson',\n",
       " 'Royce White',\n",
       " 'Pat Connaughton',\n",
       " 'Elfrid Payton',\n",
       " 'Erik McCree',\n",
       " 'Tyler Cavanaugh',\n",
       " 'Trey Thompkins',\n",
       " 'Jacob Pullen',\n",
       " 'Edmond Sumner',\n",
       " 'Patrick Patterson',\n",
       " 'Dominique Jones',\n",
       " 'Grant Jerrett',\n",
       " 'Ben Bentil',\n",
       " 'Chris Boucher',\n",
       " 'Xavier Silas',\n",
       " 'Damion Lee',\n",
       " 'Gian Clavell',\n",
       " 'Ben Moore',\n",
       " 'Donovan Mitchell',\n",
       " 'Kris Joseph',\n",
       " 'Jarred Vanderbilt',\n",
       " 'Jae Crowder',\n",
       " 'Jared Cunningham',\n",
       " 'Jonathan Gibson',\n",
       " 'Melvin Frazier',\n",
       " 'Jaylen Adams',\n",
       " 'Omari Spellman',\n",
       " 'Hassan Whiteside',\n",
       " 'Andrew Goudelock',\n",
       " 'Briante Weber',\n",
       " 'Ed Davis',\n",
       " 'Henry Sims',\n",
       " 'Jonah Bolden',\n",
       " 'Landry Fields',\n",
       " 'Ryan Broekhoff',\n",
       " 'Cameron Bairstow',\n",
       " 'Sam Dekker',\n",
       " 'Markel Brown',\n",
       " 'Mitch McGary',\n",
       " 'David Stockton',\n",
       " 'Nate Wolters',\n",
       " 'Jerrelle Benimon',\n",
       " 'Alize Johnson',\n",
       " 'Vander Blue',\n",
       " 'Josh Hart',\n",
       " 'Tyler Lydon',\n",
       " 'Buddy Hield',\n",
       " 'Lance Stephenson',\n",
       " 'Jamil Wilson',\n",
       " 'Marcus Georges-Hunt',\n",
       " 'Jerome Jordan',\n",
       " 'Lance Thomas',\n",
       " 'Hollis Thompson',\n",
       " 'Coty Clarke',\n",
       " 'Spencer Dinwiddie',\n",
       " 'Ryan Reid',\n",
       " 'Festus Ezeli',\n",
       " 'Joel Bolomboy',\n",
       " 'Courtney Fortson',\n",
       " 'Jared Sullinger',\n",
       " 'Jimmy Butler',\n",
       " 'Drew Gordon',\n",
       " 'Patrick McCaw',\n",
       " 'Chris Babb',\n",
       " 'Jerome Dyson',\n",
       " 'Steven Adams',\n",
       " 'Austin Rivers',\n",
       " 'Mason Plumlee',\n",
       " 'Sindarius Thornwell',\n",
       " 'Kyle Collinsworth',\n",
       " 'Willie Reed',\n",
       " 'Al-Farouq Aminu',\n",
       " 'Marshall Plumlee',\n",
       " 'Noah Vonleh',\n",
       " 'Jerian Grant',\n",
       " 'Zach Lofton',\n",
       " 'Myke Henry',\n",
       " 'Jamal Murray',\n",
       " 'Greg Monroe',\n",
       " 'Okaro White',\n",
       " 'Tim Frazier',\n",
       " 'Deyonta Davis',\n",
       " 'Deng Adel',\n",
       " 'Yante Maten',\n",
       " 'Perry Jones',\n",
       " 'Skal Labissière',\n",
       " 'Greivis Vásquez']"
      ]
     },
     "execution_count": 11,
     "metadata": {},
     "output_type": "execute_result"
    }
   ],
   "source": [
    "list(test_y.index)"
   ]
  },
  {
   "cell_type": "code",
   "execution_count": 12,
   "metadata": {},
   "outputs": [],
   "source": [
    "from sklearn.linear_model import LinearRegression"
   ]
  },
  {
   "cell_type": "code",
   "execution_count": 13,
   "metadata": {},
   "outputs": [],
   "source": [
    "linear_model = LinearRegression().fit(train_x, train_y.NBA_points.values)"
   ]
  },
  {
   "cell_type": "code",
   "execution_count": 42,
   "metadata": {},
   "outputs": [],
   "source": [
    "name = 'Jared Sullinger'"
   ]
  },
  {
   "cell_type": "code",
   "execution_count": 43,
   "metadata": {},
   "outputs": [],
   "source": [
    "pred_points = linear_model.predict(test_x.loc[name].values.reshape(1, -1))"
   ]
  },
  {
   "cell_type": "code",
   "execution_count": 44,
   "metadata": {},
   "outputs": [
    {
     "data": {
      "text/html": [
       "<div>\n",
       "<style scoped>\n",
       "    .dataframe tbody tr th:only-of-type {\n",
       "        vertical-align: middle;\n",
       "    }\n",
       "\n",
       "    .dataframe tbody tr th {\n",
       "        vertical-align: top;\n",
       "    }\n",
       "\n",
       "    .dataframe thead th {\n",
       "        text-align: right;\n",
       "    }\n",
       "</style>\n",
       "<table border=\"1\" class=\"dataframe\">\n",
       "  <thead>\n",
       "    <tr style=\"text-align: right;\">\n",
       "      <th></th>\n",
       "      <th>name</th>\n",
       "      <th>NCAAB_assists</th>\n",
       "      <th>NCAAB_blocks</th>\n",
       "      <th>NCAAB_field_goal_attempts</th>\n",
       "      <th>NCAAB_field_goal_percentage</th>\n",
       "      <th>NCAAB_field_goals</th>\n",
       "      <th>NCAAB_free_throw_attempt_rate</th>\n",
       "      <th>NCAAB_free_throw_attempts</th>\n",
       "      <th>NCAAB_free_throw_percentage</th>\n",
       "      <th>NCAAB_free_throws</th>\n",
       "      <th>...</th>\n",
       "      <th>NCAAB_two_point_attempts</th>\n",
       "      <th>NCAAB_win_shares</th>\n",
       "      <th>NBA_assists</th>\n",
       "      <th>NBA_blocks</th>\n",
       "      <th>NBA_points</th>\n",
       "      <th>NBA_steals</th>\n",
       "      <th>NBA_total_rebounds</th>\n",
       "      <th>Center</th>\n",
       "      <th>Forward</th>\n",
       "      <th>Guard</th>\n",
       "    </tr>\n",
       "  </thead>\n",
       "  <tbody>\n",
       "    <tr>\n",
       "      <th>133</th>\n",
       "      <td>Jared Sullinger</td>\n",
       "      <td>46.0</td>\n",
       "      <td>39.0</td>\n",
       "      <td>439.0</td>\n",
       "      <td>0.519</td>\n",
       "      <td>228.0</td>\n",
       "      <td>0.519</td>\n",
       "      <td>228.0</td>\n",
       "      <td>0.768</td>\n",
       "      <td>175.0</td>\n",
       "      <td>...</td>\n",
       "      <td>399.0</td>\n",
       "      <td>7.9</td>\n",
       "      <td>35.0</td>\n",
       "      <td>22.0</td>\n",
       "      <td>270.0</td>\n",
       "      <td>22.0</td>\n",
       "      <td>264.0</td>\n",
       "      <td>0</td>\n",
       "      <td>1</td>\n",
       "      <td>0</td>\n",
       "    </tr>\n",
       "  </tbody>\n",
       "</table>\n",
       "<p>1 rows × 30 columns</p>\n",
       "</div>"
      ],
      "text/plain": [
       "                name  NCAAB_assists  NCAAB_blocks  NCAAB_field_goal_attempts  \\\n",
       "133  Jared Sullinger           46.0          39.0                      439.0   \n",
       "\n",
       "     NCAAB_field_goal_percentage  NCAAB_field_goals  \\\n",
       "133                        0.519              228.0   \n",
       "\n",
       "     NCAAB_free_throw_attempt_rate  NCAAB_free_throw_attempts  \\\n",
       "133                          0.519                      228.0   \n",
       "\n",
       "     NCAAB_free_throw_percentage  NCAAB_free_throws  ...  \\\n",
       "133                        0.768              175.0  ...   \n",
       "\n",
       "     NCAAB_two_point_attempts  NCAAB_win_shares  NBA_assists  NBA_blocks  \\\n",
       "133                     399.0               7.9         35.0        22.0   \n",
       "\n",
       "     NBA_points  NBA_steals  NBA_total_rebounds  Center  Forward  Guard  \n",
       "133       270.0        22.0               264.0       0        1      0  \n",
       "\n",
       "[1 rows x 30 columns]"
      ]
     },
     "execution_count": 44,
     "metadata": {},
     "output_type": "execute_result"
    }
   ],
   "source": [
    "orig_person = orig[orig['name'] == name]\n",
    "orig_person"
   ]
  },
  {
   "cell_type": "code",
   "execution_count": 46,
   "metadata": {},
   "outputs": [
    {
     "name": "stdout",
     "output_type": "stream",
     "text": [
      "We predict Jared Sullinger should get around 4.33798945989708 points. They actually got 6.0\n"
     ]
    }
   ],
   "source": [
    "print(\"We predict\", name, \"should get around\", (pred_points * np.std(orig['NBA_points']) + np.mean(orig['NBA_points']))[0] / 82, \"points. They actually got\", float(orig_person.NBA_points / 45))"
   ]
  },
  {
   "cell_type": "code",
   "execution_count": 33,
   "metadata": {},
   "outputs": [
    {
     "data": {
      "text/plain": [
       "78    109.0\n",
       "Name: NBA_points, dtype: float64"
      ]
     },
     "execution_count": 33,
     "metadata": {},
     "output_type": "execute_result"
    }
   ],
   "source": [
    "orig[orig['name'] == name].NBA_points"
   ]
  },
  {
   "cell_type": "code",
   "execution_count": null,
   "metadata": {},
   "outputs": [],
   "source": [
    "sc2.inverse_transform(test_y['NBA_points'])"
   ]
  },
  {
   "cell_type": "code",
   "execution_count": null,
   "metadata": {},
   "outputs": [],
   "source": [
    "for col in nba_cols:\n",
    "    pred_stat = train_y[col]\n",
    "    col_name = col[4:]\n",
    "    reg = LinearRegression().fit(train_x.values, train_y.NBAPTS.values)"
   ]
  },
  {
   "cell_type": "code",
   "execution_count": null,
   "metadata": {},
   "outputs": [],
   "source": [
    "clean_data.tail()"
   ]
  },
  {
   "cell_type": "code",
   "execution_count": null,
   "metadata": {},
   "outputs": [],
   "source": [
    "reg = LinearRegression().fit(train_x.values, train_y.NBAPTS.values)"
   ]
  },
  {
   "cell_type": "code",
   "execution_count": null,
   "metadata": {},
   "outputs": [],
   "source": []
  }
 ],
 "metadata": {
  "kernelspec": {
   "display_name": "Python 3",
   "language": "python",
   "name": "python3"
  },
  "language_info": {
   "codemirror_mode": {
    "name": "ipython",
    "version": 3
   },
   "file_extension": ".py",
   "mimetype": "text/x-python",
   "name": "python",
   "nbconvert_exporter": "python",
   "pygments_lexer": "ipython3",
   "version": "3.6.5"
  }
 },
 "nbformat": 4,
 "nbformat_minor": 4
}
