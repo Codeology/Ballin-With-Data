{
 "cells": [
  {
   "cell_type": "markdown",
   "metadata": {},
   "source": [
    "# Testing Environment"
   ]
  },
  {
   "cell_type": "markdown",
   "metadata": {},
   "source": [
    "# From last notebook:"
   ]
  },
  {
   "cell_type": "markdown",
   "metadata": {},
   "source": [
    "# END"
   ]
  },
  {
   "cell_type": "code",
   "execution_count": 1,
   "metadata": {},
   "outputs": [],
   "source": [
    "# Standard imports\n",
    "# If any of these don't work, try doing `pip install _____`, or try looking up the error message.\n",
    "import numpy as np\n",
    "import pandas as pd\n",
    "import json\n",
    "import time\n",
    "import os.path\n",
    "from os import path\n",
    "import math\n",
    "import datetime\n",
    "import unidecode\n",
    "import requests\n",
    "from bs4 import BeautifulSoup\n",
    "import matplotlib.pyplot as plt\n",
    "import seaborn as sns\n",
    "import sklearn\n",
    "from sklearn.model_selection import train_test_split"
   ]
  },
  {
   "cell_type": "code",
   "execution_count": 2,
   "metadata": {},
   "outputs": [
    {
     "data": {
      "text/html": [
       "<div>\n",
       "<style scoped>\n",
       "    .dataframe tbody tr th:only-of-type {\n",
       "        vertical-align: middle;\n",
       "    }\n",
       "\n",
       "    .dataframe tbody tr th {\n",
       "        vertical-align: top;\n",
       "    }\n",
       "\n",
       "    .dataframe thead th {\n",
       "        text-align: right;\n",
       "    }\n",
       "</style>\n",
       "<table border=\"1\" class=\"dataframe\">\n",
       "  <thead>\n",
       "    <tr style=\"text-align: right;\">\n",
       "      <th></th>\n",
       "      <th>name</th>\n",
       "      <th>NCAAB_assists</th>\n",
       "      <th>NCAAB_blocks</th>\n",
       "      <th>NCAAB_field_goal_attempts</th>\n",
       "      <th>NCAAB_field_goal_percentage</th>\n",
       "      <th>NCAAB_field_goals</th>\n",
       "      <th>NCAAB_free_throw_attempt_rate</th>\n",
       "      <th>NCAAB_free_throw_attempts</th>\n",
       "      <th>NCAAB_free_throw_percentage</th>\n",
       "      <th>NCAAB_free_throws</th>\n",
       "      <th>...</th>\n",
       "      <th>NCAAB_two_point_percentage</th>\n",
       "      <th>NCAAB_win_shares</th>\n",
       "      <th>NBA_assists</th>\n",
       "      <th>NBA_blocks</th>\n",
       "      <th>NBA_points</th>\n",
       "      <th>NBA_steals</th>\n",
       "      <th>NBA_total_rebounds</th>\n",
       "      <th>Center</th>\n",
       "      <th>Forward</th>\n",
       "      <th>Guard</th>\n",
       "    </tr>\n",
       "  </thead>\n",
       "  <tbody>\n",
       "    <tr>\n",
       "      <th>0</th>\n",
       "      <td>Landry Fields</td>\n",
       "      <td>89.0</td>\n",
       "      <td>25.0</td>\n",
       "      <td>506.0</td>\n",
       "      <td>0.490</td>\n",
       "      <td>248.0</td>\n",
       "      <td>0.508</td>\n",
       "      <td>257.0</td>\n",
       "      <td>0.696</td>\n",
       "      <td>179.0</td>\n",
       "      <td>...</td>\n",
       "      <td>0.521</td>\n",
       "      <td>6.0</td>\n",
       "      <td>155.0</td>\n",
       "      <td>17.0</td>\n",
       "      <td>797.0</td>\n",
       "      <td>80.0</td>\n",
       "      <td>521.0</td>\n",
       "      <td>0</td>\n",
       "      <td>0</td>\n",
       "      <td>1</td>\n",
       "    </tr>\n",
       "    <tr>\n",
       "      <th>1</th>\n",
       "      <td>Andy Rautins</td>\n",
       "      <td>171.0</td>\n",
       "      <td>8.0</td>\n",
       "      <td>297.0</td>\n",
       "      <td>0.438</td>\n",
       "      <td>130.0</td>\n",
       "      <td>0.273</td>\n",
       "      <td>81.0</td>\n",
       "      <td>0.815</td>\n",
       "      <td>66.0</td>\n",
       "      <td>...</td>\n",
       "      <td>0.571</td>\n",
       "      <td>4.9</td>\n",
       "      <td>3.0</td>\n",
       "      <td>0.0</td>\n",
       "      <td>8.0</td>\n",
       "      <td>1.0</td>\n",
       "      <td>1.0</td>\n",
       "      <td>0</td>\n",
       "      <td>0</td>\n",
       "      <td>1</td>\n",
       "    </tr>\n",
       "    <tr>\n",
       "      <th>2</th>\n",
       "      <td>Patrick Patterson</td>\n",
       "      <td>36.0</td>\n",
       "      <td>51.0</td>\n",
       "      <td>374.0</td>\n",
       "      <td>0.575</td>\n",
       "      <td>215.0</td>\n",
       "      <td>0.348</td>\n",
       "      <td>130.0</td>\n",
       "      <td>0.692</td>\n",
       "      <td>90.0</td>\n",
       "      <td>...</td>\n",
       "      <td>0.626</td>\n",
       "      <td>7.0</td>\n",
       "      <td>41.0</td>\n",
       "      <td>37.0</td>\n",
       "      <td>328.0</td>\n",
       "      <td>17.0</td>\n",
       "      <td>200.0</td>\n",
       "      <td>0</td>\n",
       "      <td>1</td>\n",
       "      <td>0</td>\n",
       "    </tr>\n",
       "    <tr>\n",
       "      <th>3</th>\n",
       "      <td>Gani Lawal</td>\n",
       "      <td>15.0</td>\n",
       "      <td>49.0</td>\n",
       "      <td>325.0</td>\n",
       "      <td>0.529</td>\n",
       "      <td>172.0</td>\n",
       "      <td>0.683</td>\n",
       "      <td>222.0</td>\n",
       "      <td>0.572</td>\n",
       "      <td>127.0</td>\n",
       "      <td>...</td>\n",
       "      <td>0.531</td>\n",
       "      <td>4.1</td>\n",
       "      <td>0.0</td>\n",
       "      <td>0.0</td>\n",
       "      <td>0.0</td>\n",
       "      <td>0.0</td>\n",
       "      <td>0.0</td>\n",
       "      <td>0</td>\n",
       "      <td>1</td>\n",
       "      <td>0</td>\n",
       "    </tr>\n",
       "    <tr>\n",
       "      <th>4</th>\n",
       "      <td>Cole Aldrich</td>\n",
       "      <td>31.0</td>\n",
       "      <td>125.0</td>\n",
       "      <td>265.0</td>\n",
       "      <td>0.562</td>\n",
       "      <td>149.0</td>\n",
       "      <td>0.600</td>\n",
       "      <td>159.0</td>\n",
       "      <td>0.679</td>\n",
       "      <td>108.0</td>\n",
       "      <td>...</td>\n",
       "      <td>0.562</td>\n",
       "      <td>5.9</td>\n",
       "      <td>4.0</td>\n",
       "      <td>7.0</td>\n",
       "      <td>18.0</td>\n",
       "      <td>5.0</td>\n",
       "      <td>35.0</td>\n",
       "      <td>1</td>\n",
       "      <td>0</td>\n",
       "      <td>0</td>\n",
       "    </tr>\n",
       "  </tbody>\n",
       "</table>\n",
       "<p>5 rows × 33 columns</p>\n",
       "</div>"
      ],
      "text/plain": [
       "                name  NCAAB_assists  NCAAB_blocks  NCAAB_field_goal_attempts  \\\n",
       "0      Landry Fields           89.0          25.0                      506.0   \n",
       "1       Andy Rautins          171.0           8.0                      297.0   \n",
       "2  Patrick Patterson           36.0          51.0                      374.0   \n",
       "3         Gani Lawal           15.0          49.0                      325.0   \n",
       "4       Cole Aldrich           31.0         125.0                      265.0   \n",
       "\n",
       "   NCAAB_field_goal_percentage  NCAAB_field_goals  \\\n",
       "0                        0.490              248.0   \n",
       "1                        0.438              130.0   \n",
       "2                        0.575              215.0   \n",
       "3                        0.529              172.0   \n",
       "4                        0.562              149.0   \n",
       "\n",
       "   NCAAB_free_throw_attempt_rate  NCAAB_free_throw_attempts  \\\n",
       "0                          0.508                      257.0   \n",
       "1                          0.273                       81.0   \n",
       "2                          0.348                      130.0   \n",
       "3                          0.683                      222.0   \n",
       "4                          0.600                      159.0   \n",
       "\n",
       "   NCAAB_free_throw_percentage  NCAAB_free_throws  ...  \\\n",
       "0                        0.696              179.0  ...   \n",
       "1                        0.815               66.0  ...   \n",
       "2                        0.692               90.0  ...   \n",
       "3                        0.572              127.0  ...   \n",
       "4                        0.679              108.0  ...   \n",
       "\n",
       "   NCAAB_two_point_percentage  NCAAB_win_shares  NBA_assists  NBA_blocks  \\\n",
       "0                       0.521               6.0        155.0        17.0   \n",
       "1                       0.571               4.9          3.0         0.0   \n",
       "2                       0.626               7.0         41.0        37.0   \n",
       "3                       0.531               4.1          0.0         0.0   \n",
       "4                       0.562               5.9          4.0         7.0   \n",
       "\n",
       "   NBA_points  NBA_steals  NBA_total_rebounds  Center  Forward  Guard  \n",
       "0       797.0        80.0               521.0       0        0      1  \n",
       "1         8.0         1.0                 1.0       0        0      1  \n",
       "2       328.0        17.0               200.0       0        1      0  \n",
       "3         0.0         0.0                 0.0       0        1      0  \n",
       "4        18.0         5.0                35.0       1        0      0  \n",
       "\n",
       "[5 rows x 33 columns]"
      ]
     },
     "execution_count": 2,
     "metadata": {},
     "output_type": "execute_result"
    }
   ],
   "source": [
    "orig = pd.read_csv(\"data/player_data_final.csv\")\n",
    "orig.head()"
   ]
  },
  {
   "cell_type": "markdown",
   "metadata": {},
   "source": [
    "# SUSA"
   ]
  },
  {
   "cell_type": "code",
   "execution_count": 3,
   "metadata": {},
   "outputs": [
    {
     "data": {
      "text/html": [
       "<div>\n",
       "<style scoped>\n",
       "    .dataframe tbody tr th:only-of-type {\n",
       "        vertical-align: middle;\n",
       "    }\n",
       "\n",
       "    .dataframe tbody tr th {\n",
       "        vertical-align: top;\n",
       "    }\n",
       "\n",
       "    .dataframe thead th {\n",
       "        text-align: right;\n",
       "    }\n",
       "</style>\n",
       "<table border=\"1\" class=\"dataframe\">\n",
       "  <thead>\n",
       "    <tr style=\"text-align: right;\">\n",
       "      <th></th>\n",
       "      <th>mpg</th>\n",
       "      <th>cylinders</th>\n",
       "      <th>displacement</th>\n",
       "      <th>horsepower</th>\n",
       "      <th>weight</th>\n",
       "      <th>acceleration</th>\n",
       "      <th>model_year</th>\n",
       "      <th>origin</th>\n",
       "    </tr>\n",
       "    <tr>\n",
       "      <th>name</th>\n",
       "      <th></th>\n",
       "      <th></th>\n",
       "      <th></th>\n",
       "      <th></th>\n",
       "      <th></th>\n",
       "      <th></th>\n",
       "      <th></th>\n",
       "      <th></th>\n",
       "    </tr>\n",
       "  </thead>\n",
       "  <tbody>\n",
       "    <tr>\n",
       "      <th>plymouth satellite sebring</th>\n",
       "      <td>18</td>\n",
       "      <td>6</td>\n",
       "      <td>225</td>\n",
       "      <td>105</td>\n",
       "      <td>3613</td>\n",
       "      <td>16</td>\n",
       "      <td>74</td>\n",
       "      <td>1</td>\n",
       "    </tr>\n",
       "    <tr>\n",
       "      <th>vw rabbit</th>\n",
       "      <td>29</td>\n",
       "      <td>4</td>\n",
       "      <td>90</td>\n",
       "      <td>70</td>\n",
       "      <td>1937</td>\n",
       "      <td>14</td>\n",
       "      <td>76</td>\n",
       "      <td>2</td>\n",
       "    </tr>\n",
       "    <tr>\n",
       "      <th>dodge coronet custom</th>\n",
       "      <td>15</td>\n",
       "      <td>8</td>\n",
       "      <td>318</td>\n",
       "      <td>150</td>\n",
       "      <td>3777</td>\n",
       "      <td>12</td>\n",
       "      <td>73</td>\n",
       "      <td>1</td>\n",
       "    </tr>\n",
       "    <tr>\n",
       "      <th>plymouth reliant</th>\n",
       "      <td>27</td>\n",
       "      <td>4</td>\n",
       "      <td>135</td>\n",
       "      <td>84</td>\n",
       "      <td>2490</td>\n",
       "      <td>15</td>\n",
       "      <td>81</td>\n",
       "      <td>1</td>\n",
       "    </tr>\n",
       "    <tr>\n",
       "      <th>vw rabbit c (diesel)</th>\n",
       "      <td>44</td>\n",
       "      <td>4</td>\n",
       "      <td>90</td>\n",
       "      <td>48</td>\n",
       "      <td>2085</td>\n",
       "      <td>21</td>\n",
       "      <td>80</td>\n",
       "      <td>2</td>\n",
       "    </tr>\n",
       "  </tbody>\n",
       "</table>\n",
       "</div>"
      ],
      "text/plain": [
       "                            mpg  cylinders  displacement  horsepower  weight  \\\n",
       "name                                                                           \n",
       "plymouth satellite sebring   18          6           225         105    3613   \n",
       "vw rabbit                    29          4            90          70    1937   \n",
       "dodge coronet custom         15          8           318         150    3777   \n",
       "plymouth reliant             27          4           135          84    2490   \n",
       "vw rabbit c (diesel)         44          4            90          48    2085   \n",
       "\n",
       "                            acceleration  model_year  origin  \n",
       "name                                                          \n",
       "plymouth satellite sebring            16          74       1  \n",
       "vw rabbit                             14          76       2  \n",
       "dodge coronet custom                  12          73       1  \n",
       "plymouth reliant                      15          81       1  \n",
       "vw rabbit c (diesel)                  21          80       2  "
      ]
     },
     "execution_count": 3,
     "metadata": {},
     "output_type": "execute_result"
    }
   ],
   "source": [
    "# Load data\n",
    "mpg = pd.read_csv(\"./data/mpg.csv\", index_col=\"name\") \n",
    "\n",
    "# Remove rows that have missing horsepower\n",
    "mpg = mpg.loc[mpg[\"horsepower\"] != '?'].astype(int) \n",
    "\n",
    "# Train, test split\n",
    "mpg_train, mpg_test = train_test_split(mpg, \n",
    "                                       test_size = .2, \n",
    "                                       random_state = 0) \n",
    "\n",
    "# Train, validation split\n",
    "mpg_train, mpg_validation = train_test_split(mpg_train, \n",
    "                                             test_size = .25, \n",
    "                                             random_state = 0)\n",
    "\n",
    "# Notice that the splitting above creates a 60/20/20 split\n",
    "mpg_train.head()"
   ]
  },
  {
   "cell_type": "code",
   "execution_count": 4,
   "metadata": {},
   "outputs": [
    {
     "name": "stdout",
     "output_type": "stream",
     "text": [
      "(234, 8)\n",
      "(234,)\n"
     ]
    }
   ],
   "source": [
    "mpg_train_with_intercept = mpg_train.copy()\n",
    "\n",
    "# Add intercept term to training set\n",
    "mpg_train_with_intercept.insert(1, \"intercept\", np.ones(mpg_train.shape[0]))\n",
    "\n",
    "# Obtain our data matrix X and response vector y\n",
    "X_train = np.asmatrix(mpg_train_with_intercept.iloc[:, 1:])\n",
    "y_train = np.array(mpg_train.iloc[:, 0])\n",
    "\n",
    "print(X_train.shape)\n",
    "print(y_train.shape)"
   ]
  },
  {
   "cell_type": "code",
   "execution_count": 5,
   "metadata": {},
   "outputs": [],
   "source": [
    "beta_hat_ols = np.linalg.inv(np.transpose(X_train) @ X_train) @ np.transpose(X_train) @ y_train"
   ]
  },
  {
   "cell_type": "code",
   "execution_count": 6,
   "metadata": {},
   "outputs": [
    {
     "data": {
      "text/plain": [
       "array([-1.44002965e+01, -1.89305414e-01,  2.00332299e-02, -6.73219101e-03,\n",
       "       -7.87176662e-03,  2.35769833e-01,  7.10375016e-01,  8.97463586e-01])"
      ]
     },
     "execution_count": 6,
     "metadata": {},
     "output_type": "execute_result"
    }
   ],
   "source": [
    "beta_hat_ols = beta_hat_ols.reshape(8, 1)\n",
    "beta_hat_ols = np.asarray(beta_hat_ols).flatten()\n",
    "beta_hat_ols"
   ]
  },
  {
   "cell_type": "code",
   "execution_count": 7,
   "metadata": {},
   "outputs": [
    {
     "data": {
      "text/plain": [
       "(234, 8)"
      ]
     },
     "execution_count": 7,
     "metadata": {},
     "output_type": "execute_result"
    }
   ],
   "source": [
    "mpg_train.shape"
   ]
  },
  {
   "cell_type": "code",
   "execution_count": 8,
   "metadata": {},
   "outputs": [
    {
     "data": {
      "text/plain": [
       "(234, 7)"
      ]
     },
     "execution_count": 8,
     "metadata": {},
     "output_type": "execute_result"
    }
   ],
   "source": [
    "mpg_train.iloc[:, 1:].shape"
   ]
  },
  {
   "cell_type": "code",
   "execution_count": 9,
   "metadata": {},
   "outputs": [],
   "source": [
    "from sklearn.linear_model import LinearRegression\n",
    "\n",
    "# Initialize a linear model\n",
    "# I set the fit intercept to true so that the coefficients match\n",
    "linear_model = LinearRegression(fit_intercept=True)\n",
    "\n",
    "# Fit linear model\n",
    "X_train = np.asmatrix(mpg_train.iloc[:, 1:])"
   ]
  },
  {
   "cell_type": "code",
   "execution_count": 10,
   "metadata": {},
   "outputs": [
    {
     "data": {
      "text/plain": [
       "array([-1.44002965e+01, -1.89305414e-01,  2.00332299e-02, -6.73219101e-03,\n",
       "       -7.87176662e-03,  2.35769833e-01,  7.10375016e-01,  8.97463586e-01])"
      ]
     },
     "execution_count": 10,
     "metadata": {},
     "output_type": "execute_result"
    }
   ],
   "source": [
    "linear_model = linear_model.fit(X_train, y_train)\n",
    "\n",
    "beta_hat_sklearn = np.append(np.array(linear_model.intercept_),linear_model.coef_)\n",
    "beta_hat_sklearn"
   ]
  },
  {
   "cell_type": "markdown",
   "metadata": {},
   "source": [
    "# Work-Stuff 3/14"
   ]
  },
  {
   "cell_type": "code",
   "execution_count": 11,
   "metadata": {},
   "outputs": [],
   "source": [
    "def normalize_and_return(df):\n",
    "    \"\"\"\n",
    "    Normalize the columns and return the different parameters to denormalize.\n",
    "    \"\"\"\n",
    "    sc_objs = {}\n",
    "    for col in df.columns:\n",
    "        sc = StandardScaler()\n",
    "        if col in nba_col:\n",
    "            sc.fit_transform(clean_data[[col]])\n",
    "            sc_objs[col] = sc\n",
    "        clean_data[col] = sc.fit_transform(clean_data[[col]])\n",
    "    return sc_objs"
   ]
  },
  {
   "cell_type": "code",
   "execution_count": 12,
   "metadata": {},
   "outputs": [],
   "source": [
    "# Takes advantage of Pandas's apply method\n",
    "class Denormalize():\n",
    "    \"\"\"\n",
    "    Stores variables to denormalize the different normalized columns later.\n",
    "    \"\"\"\n",
    "    def __init__(self):\n",
    "        self.means = []\n",
    "        self.stds = []\n",
    "        \n",
    "    def add_col(self, col):\n",
    "        self.means.append((col.name, np.mean(col)))\n",
    "        self.stds.append((col.name, np.std(col)))\n",
    "    \n",
    "    # These are needed because the .apply method calls the function on the first column twice.\n",
    "    def real_vals(self):\n",
    "        self.means.pop(0)\n",
    "        self.stds.pop(0)\n",
    "        return self.means, self.stds"
   ]
  },
  {
   "cell_type": "code",
   "execution_count": 13,
   "metadata": {},
   "outputs": [],
   "source": [
    "def normalize_and_return(col, obj):\n",
    "    \"\"\"\n",
    "    Calls normalize on the dataframe but also returns the different parameters to un-normalize later.\n",
    "    \"\"\"\n",
    "    \n",
    "    def normalize(col):\n",
    "        \"\"\"\n",
    "        Normalizes a column to have a mean of 0 and an standard deviation of 1.\n",
    "        \"\"\"\n",
    "        return (col - col.mean()) / col.std()\n",
    "    \n",
    "    obj.add_col(col)\n",
    "    return normalize(col)"
   ]
  },
  {
   "cell_type": "code",
   "execution_count": 14,
   "metadata": {},
   "outputs": [],
   "source": [
    "NBA_cols = ['NBA_assists', 'NBA_blocks', 'NBA_points', 'NBA_steals', 'NBA_total_rebounds']"
   ]
  },
  {
   "cell_type": "code",
   "execution_count": 15,
   "metadata": {},
   "outputs": [],
   "source": [
    "denorm_feats = Denormalize()"
   ]
  },
  {
   "cell_type": "code",
   "execution_count": 16,
   "metadata": {
    "scrolled": true
   },
   "outputs": [],
   "source": [
    "orig_X_train = orig.drop(columns=NBA_cols).set_index('name')\n",
    "X_train = orig_X_train.apply(lambda x: normalize_and_return(x, denorm_feats))"
   ]
  },
  {
   "cell_type": "code",
   "execution_count": 17,
   "metadata": {},
   "outputs": [],
   "source": [
    "feat_means, feat_stds = denorm_feats.real_vals()"
   ]
  },
  {
   "cell_type": "code",
   "execution_count": 18,
   "metadata": {},
   "outputs": [],
   "source": [
    "orig_y_train = orig[NBA_cols]\n",
    "denorm_y = Denormalize()\n",
    "y_train = orig_y_train.apply(lambda x: normalize_and_return(x, denorm_y))\n",
    "y_means, y_stds = denorm_y.real_vals()"
   ]
  },
  {
   "cell_type": "code",
   "execution_count": 19,
   "metadata": {},
   "outputs": [],
   "source": [
    "# Let's see how our data looks, see if we can guess how good Linear Regression is going to be!"
   ]
  },
  {
   "cell_type": "code",
   "execution_count": 20,
   "metadata": {},
   "outputs": [
    {
     "data": {
      "image/png": "[encoded data removed]",
      "text/plain": [
       "<Figure size 432x288 with 1 Axes>"
      ]
     },
     "metadata": {
      "needs_background": "light"
     },
     "output_type": "display_data"
    }
   ],
   "source": [
    "plt.scatter(X_train['NCAAB_assists'], y_train['NBA_assists']);"
   ]
  },
  {
   "cell_type": "code",
   "execution_count": 21,
   "metadata": {},
   "outputs": [
    {
     "data": {
      "image/png": "[encoded data removed]",
      "text/plain": [
       "<Figure size 432x288 with 1 Axes>"
      ]
     },
     "metadata": {
      "needs_background": "light"
     },
     "output_type": "display_data"
    }
   ],
   "source": [
    "plt.hist(X_train['NCAAB_assists']);"
   ]
  },
  {
   "cell_type": "markdown",
   "metadata": {},
   "source": [
    "### Analytical Solution"
   ]
  },
  {
   "cell_type": "code",
   "execution_count": 22,
   "metadata": {},
   "outputs": [],
   "source": [
    "curr_pred = 'NBA_points'"
   ]
  },
  {
   "cell_type": "code",
   "execution_count": 23,
   "metadata": {},
   "outputs": [],
   "source": [
    "old_X_train = X_train.copy(deep=True)"
   ]
  },
  {
   "cell_type": "code",
   "execution_count": 24,
   "metadata": {},
   "outputs": [],
   "source": [
    "X_train.insert(0, \"intercept\", np.ones(X_train.shape[0]))"
   ]
  },
  {
   "cell_type": "code",
   "execution_count": 25,
   "metadata": {},
   "outputs": [],
   "source": [
    "weights = np.linalg.inv(X_train.T @ X_train) @ X_train.T @ y_train[curr_pred].values"
   ]
  },
  {
   "cell_type": "code",
   "execution_count": 26,
   "metadata": {},
   "outputs": [],
   "source": [
    "preds = X_train @ weights.values"
   ]
  },
  {
   "cell_type": "code",
   "execution_count": 31,
   "metadata": {},
   "outputs": [],
   "source": [
    "y_mean = [tup[1] for tup in y_means if tup[0] == curr_pred]\n",
    "y_std = [tup[1] for tup in y_stds if tup[0] == curr_pred]"
   ]
  },
  {
   "cell_type": "code",
   "execution_count": 33,
   "metadata": {},
   "outputs": [],
   "source": [
    "raw_preds = preds * y_std + y_mean"
   ]
  },
  {
   "cell_type": "code",
   "execution_count": 38,
   "metadata": {},
   "outputs": [
    {
     "data": {
      "text/plain": [
       "['Landry Fields',\n",
       " 'Andy Rautins',\n",
       " 'Patrick Patterson',\n",
       " 'Gani Lawal',\n",
       " 'Cole Aldrich',\n",
       " 'Jeremy Lin',\n",
       " 'Ekpe Udoh',\n",
       " 'Dexter Pittman',\n",
       " 'Derrick Caracter',\n",
       " 'Devin Ebanks',\n",
       " 'Lazar Hayward',\n",
       " 'Dominique Jones',\n",
       " 'Xavier Henry',\n",
       " 'Greivis Vásquez',\n",
       " 'Paul George',\n",
       " 'Lance Stephenson',\n",
       " 'Jeremy Evans',\n",
       " 'Derrick Favors',\n",
       " 'Gordon Hayward',\n",
       " 'DeMarcus Cousins',\n",
       " 'Hassan Whiteside',\n",
       " 'Solomon Alabi',\n",
       " 'Ed Davis',\n",
       " 'Craig Brackins',\n",
       " 'Evan Turner',\n",
       " 'Al-Farouq Aminu',\n",
       " 'Eric Bledsoe',\n",
       " 'Willie Warren',\n",
       " 'Trevor Booker',\n",
       " 'Jordan Crawford',\n",
       " 'John Wall',\n",
       " 'Greg Monroe',\n",
       " 'Avery Bradley',\n",
       " 'Luke Harangody',\n",
       " 'Luke Babbitt',\n",
       " 'Armon Johnson',\n",
       " 'Manny Harris',\n",
       " 'Samardo Samuels',\n",
       " 'Quincy Pondexter',\n",
       " 'Damion James',\n",
       " 'Ben Uzoh',\n",
       " 'Sherron Collins',\n",
       " 'Larry Sanders',\n",
       " 'Kenneth Faried',\n",
       " 'Julyan Stone',\n",
       " 'Cory Joseph',\n",
       " 'Kawhi Leonard',\n",
       " 'Malcolm Thomas',\n",
       " 'Reggie Jackson',\n",
       " 'Ryan Reid',\n",
       " 'Alec Burks',\n",
       " 'Tobias Harris',\n",
       " 'Darington Hobson',\n",
       " 'Jon Leuer',\n",
       " 'Jimmer Fredette',\n",
       " 'Tyler Honeycutt',\n",
       " 'Isaiah Thomas',\n",
       " 'Norris Cole',\n",
       " 'Markieff Morris',\n",
       " 'Courtney Fortson',\n",
       " 'Marcus Morris',\n",
       " 'Chandler Parsons',\n",
       " 'Greg Smith',\n",
       " 'Malcolm Lee',\n",
       " 'Josh Harrellson',\n",
       " 'Jerome Jordan',\n",
       " 'Iman Shumpert',\n",
       " 'Keith Benson',\n",
       " 'Charles Jenkins',\n",
       " 'Klay Thompson',\n",
       " 'Chris Wright',\n",
       " 'Travis Leslie',\n",
       " 'Trey Thompkins',\n",
       " 'Andrew Goudelock',\n",
       " 'Darius Morris',\n",
       " 'Nolan Smith',\n",
       " 'Elliot Williams',\n",
       " 'Donald Sloan',\n",
       " 'Jimmy Butler',\n",
       " 'Josh Selby',\n",
       " 'Justin Harper',\n",
       " 'DeAndre Liggins',\n",
       " 'Daniel Orton',\n",
       " 'Shelvin Mack',\n",
       " 'Chris Singleton',\n",
       " 'Edwin Ubiles',\n",
       " 'Lavoy Allen',\n",
       " 'Xavier Silas',\n",
       " 'Nikola Vučević',\n",
       " 'MarShon Brooks',\n",
       " 'Dennis Horner',\n",
       " 'Jerry Smith',\n",
       " 'Jordan Williams',\n",
       " 'Kyrie Irving',\n",
       " 'Mychel Thompson',\n",
       " 'Tristan Thompson',\n",
       " 'JaJuan Johnson',\n",
       " 'Brandon Knight',\n",
       " 'Vernon Macklin',\n",
       " 'Jerome Dyson',\n",
       " 'Jeff Foote',\n",
       " 'Lance Thomas',\n",
       " 'Cory Higgins',\n",
       " 'Kemba Walker',\n",
       " 'Quincy Miller',\n",
       " 'Terrence Jones',\n",
       " 'Scott Machado',\n",
       " 'Perry Jones',\n",
       " 'Jeremy Lamb',\n",
       " 'Jarvis Varnado',\n",
       " 'Darius Johnson-Odom',\n",
       " 'Robert Sacre',\n",
       " 'Harrison Barnes',\n",
       " 'Kent Bazemore',\n",
       " 'Festus Ezeli',\n",
       " 'Draymond Green',\n",
       " 'Jae Crowder',\n",
       " 'Jared Cunningham',\n",
       " 'Maalik Wayns',\n",
       " 'John Henson',\n",
       " 'Doron Lamb',\n",
       " 'Kevin Murphy',\n",
       " 'John Jenkins',\n",
       " 'Will Barton',\n",
       " 'Meyers Leonard',\n",
       " 'Damian Lillard',\n",
       " 'Quincy Acy',\n",
       " 'Terrence Ross',\n",
       " 'Kris Joseph',\n",
       " 'Tyshawn Taylor',\n",
       " 'Dion Waiters',\n",
       " 'Tyler Zeller',\n",
       " 'Fab Melo',\n",
       " 'Jared Sullinger',\n",
       " 'Diante Garrett',\n",
       " 'Kendall Marshall',\n",
       " 'Andre Drummond',\n",
       " 'Kim English',\n",
       " 'Khris Middleton',\n",
       " 'Kyle Singler',\n",
       " 'Maurice Harkless',\n",
       " 'DeQuan Jones',\n",
       " 'Andrew Nicholson',\n",
       " 'Darius Miller',\n",
       " 'Austin Rivers',\n",
       " 'Henry Sims',\n",
       " 'Ben Hansbrough',\n",
       " 'Orlando Johnson',\n",
       " 'Miles Plumlee',\n",
       " 'Michael Kidd-Gilchrist',\n",
       " 'Tony Wroten',\n",
       " 'Bradley Beal',\n",
       " 'Marquis Teague',\n",
       " 'Justin Holiday',\n",
       " 'Arnett Moultrie',\n",
       " 'Isaiah Canaan',\n",
       " 'Robert Covington',\n",
       " 'Troy Daniels',\n",
       " 'Gorgui Dieng',\n",
       " 'Robbie Hummel',\n",
       " 'Shabazz Muhammad',\n",
       " 'Allen Crabbe',\n",
       " 'CJ McCollum',\n",
       " 'Steven Adams',\n",
       " 'Andre Roberson',\n",
       " 'Archie Goodwin',\n",
       " 'Alex Len',\n",
       " 'Shane Larkin',\n",
       " 'Dewayne Dedmon',\n",
       " 'Elias Harris',\n",
       " 'Dwight Buycks',\n",
       " 'Kentavious Caldwell-Pope',\n",
       " 'Peyton Siva',\n",
       " 'Mike Muscala',\n",
       " 'James Nunnally',\n",
       " 'Otto Porter',\n",
       " 'Ben McLemore',\n",
       " 'Royce White',\n",
       " 'Arinze Onuaku',\n",
       " 'James Southerland',\n",
       " 'Jeff Withey',\n",
       " 'Lorenzo Brown',\n",
       " 'Michael Carter-Williams',\n",
       " 'Brandon Davies',\n",
       " 'Adonis Thomas',\n",
       " 'Hollis Thompson',\n",
       " 'Casper Ware',\n",
       " 'Jorge Gutiérrez',\n",
       " 'Mason Plumlee',\n",
       " 'Anthony Bennett',\n",
       " 'Seth Curry',\n",
       " 'Matthew Dellavedova',\n",
       " 'Carrick Felix',\n",
       " 'Scotty Hopson',\n",
       " 'Cody Zeller',\n",
       " 'Solomon Hill',\n",
       " 'Victor Oladipo',\n",
       " 'Chris Babb',\n",
       " 'Vander Blue',\n",
       " 'Kelly Olynyk',\n",
       " 'Phil Pressey',\n",
       " 'Jamaal Franklin',\n",
       " 'Nate Wolters',\n",
       " 'Trey Burke',\n",
       " 'Ian Clark',\n",
       " 'Erik Murphy',\n",
       " 'Tony Snell',\n",
       " 'James Michael McAdoo',\n",
       " 'Dwight Powell',\n",
       " 'Grant Jerrett',\n",
       " 'Mitch McGary',\n",
       " 'Tarik Black',\n",
       " 'Nick Johnson',\n",
       " 'JaMychal Green',\n",
       " 'Will Cherry',\n",
       " 'Joe Harris',\n",
       " 'Tim Frazier',\n",
       " 'Adreian Payne',\n",
       " 'Tyler Ennis',\n",
       " 'Erick Green',\n",
       " 'Gary Harris',\n",
       " 'Marcus Smart',\n",
       " 'James Young',\n",
       " 'Sim Bhullar',\n",
       " 'Eric Moreland',\n",
       " 'Nik Stauskas',\n",
       " 'David Stockton',\n",
       " 'David Wear',\n",
       " 'Cameron Bairstow',\n",
       " 'Doug McDermott',\n",
       " 'Russ Smith',\n",
       " 'Spencer Dinwiddie',\n",
       " 'Jabari Brown',\n",
       " 'Jordan Clarkson',\n",
       " 'Julius Randle',\n",
       " 'Jordan Adams',\n",
       " 'Kalin Lucas',\n",
       " 'Jarnell Stokes',\n",
       " 'Markel Brown',\n",
       " 'Cory Jefferson',\n",
       " 'Jabari Parker',\n",
       " 'Sean Kilpatrick',\n",
       " 'Zach LaVine',\n",
       " 'Andrew Wiggins',\n",
       " 'Shayne Whittington',\n",
       " 'Aaron Gordon',\n",
       " 'Elfrid Payton',\n",
       " 'Jerrelle Benimon',\n",
       " 'Patrick Christopher',\n",
       " 'Jack Cooley',\n",
       " 'Bryce Cotton',\n",
       " 'Rodney Hood',\n",
       " 'Elijah Millsap',\n",
       " 'Andre Dawkins',\n",
       " 'James Ennis',\n",
       " 'Shabazz Napier',\n",
       " 'Noah Vonleh',\n",
       " 'Drew Gordon',\n",
       " 'Jerami Grant',\n",
       " 'Nerlens Noel',\n",
       " 'JaKarr Sampson',\n",
       " 'Cleanthony Early',\n",
       " 'Langston Galloway',\n",
       " 'Travis Wear',\n",
       " 'Kevon Looney',\n",
       " 'Josh Huestis',\n",
       " 'Cameron Payne',\n",
       " 'Willie Cauley-Stein',\n",
       " 'Duje Dukan',\n",
       " 'Sam Dekker',\n",
       " 'Montrezl Harrell',\n",
       " 'Coty Clarke',\n",
       " 'John Holland',\n",
       " 'Jordan Mickey',\n",
       " 'Terry Rozier',\n",
       " 'Cliff Alexander',\n",
       " 'Pat Connaughton',\n",
       " 'Branden Dawson',\n",
       " 'Alex Stepheson',\n",
       " 'Jordan McRae',\n",
       " 'Jarell Eddie',\n",
       " 'Jonathon Simmons',\n",
       " 'Aaron Harrison',\n",
       " 'Frank Kaminsky',\n",
       " 'Lamar Patterson',\n",
       " 'Norman Powell',\n",
       " 'Delon Wright',\n",
       " 'Tyus Jones',\n",
       " 'Karl-Anthony Towns',\n",
       " 'Justin Anderson',\n",
       " 'Rakeem Christmas',\n",
       " 'Myles Turner',\n",
       " 'Keith Appling',\n",
       " 'Darrun Hilliard',\n",
       " 'Stanley Johnson',\n",
       " 'Bobby Portis',\n",
       " 'Devin Booker',\n",
       " 'Briante Weber',\n",
       " 'Justise Winslow',\n",
       " 'Jarell Martin',\n",
       " 'Xavier Munford',\n",
       " 'Rashad Vaughn',\n",
       " 'Rondae Hollis-Jefferson',\n",
       " 'Chris McCullough',\n",
       " 'Willie Reed',\n",
       " 'Jerian Grant',\n",
       " 'Trey Lyles',\n",
       " 'Richaun Holmes',\n",
       " 'Jahlil Okafor',\n",
       " 'Christian Wood',\n",
       " 'Damian Jones',\n",
       " 'Patrick McCaw',\n",
       " 'Chinanu Onuaku',\n",
       " 'Isaiah Taylor',\n",
       " 'Kyle Wiltjer',\n",
       " 'Malik Beasley',\n",
       " 'Jamal Murray',\n",
       " 'Danuel House',\n",
       " 'Daniel Ochefu',\n",
       " 'Brice Johnson',\n",
       " 'Diamond Stone',\n",
       " 'Jaylen Brown',\n",
       " 'Jake Layman',\n",
       " 'Tim Quarterman',\n",
       " 'Marquese Chriss',\n",
       " 'Tyler Ulis',\n",
       " 'Pascal Siakam',\n",
       " 'Semaj Christon',\n",
       " 'Domantas Sabonis',\n",
       " 'Caris LeVert',\n",
       " 'Isaiah Whitehead',\n",
       " 'Kris Dunn',\n",
       " 'Bryn Forbes',\n",
       " 'Dejounte Murray',\n",
       " 'Georges Niang',\n",
       " 'Treveon Graham',\n",
       " 'Mike Tobey',\n",
       " 'Brandon Ingram',\n",
       " 'David Nwaba',\n",
       " 'Quinn Cook',\n",
       " 'Cheick Diallo',\n",
       " 'Buddy Hield',\n",
       " 'Wayne Selden',\n",
       " 'Ron Baker',\n",
       " 'Maurice Ndour',\n",
       " 'Marshall Plumlee',\n",
       " 'Chasson Randle',\n",
       " 'Malcolm Brogdon',\n",
       " 'Rodney McGruder',\n",
       " 'Okaro White',\n",
       " 'Malcolm Delaney',\n",
       " 'Taurean Prince',\n",
       " 'Denzel Valentine',\n",
       " 'Skal Labissière',\n",
       " 'Malachi Richardson',\n",
       " 'Joel Embiid',\n",
       " 'Shawn Long',\n",
       " 'Alex Poythress',\n",
       " 'Henry Ellenson',\n",
       " 'Michael Gbinije',\n",
       " 'Patricio Garino',\n",
       " 'Marcus Georges-Hunt',\n",
       " 'Joel Bolomboy',\n",
       " 'Wade Baldwin',\n",
       " 'Deyonta Davis',\n",
       " 'Andrew Harrison',\n",
       " 'Ben Bentil',\n",
       " 'Dorian Finney-Smith',\n",
       " 'Jonathan Gibson',\n",
       " 'Pierre Jackson',\n",
       " 'Jarrod Uthoff',\n",
       " 'Jordan Bell',\n",
       " 'Chris Boucher',\n",
       " 'Charles Cooke',\n",
       " 'Jalen Jones',\n",
       " 'OG Anunoby',\n",
       " 'Nigel Hayes',\n",
       " 'Alfonzo McKinnie',\n",
       " 'Malcolm Miller',\n",
       " 'London Perrantes',\n",
       " 'Torrey Craig',\n",
       " 'Tyler Lydon',\n",
       " 'Monte Morris',\n",
       " 'Markelle Fultz',\n",
       " 'Jacob Pullen',\n",
       " 'Ben Simmons',\n",
       " 'Justin Patton',\n",
       " 'Jawun Evans',\n",
       " 'Sindarius Thornwell',\n",
       " 'Tyrone Wallace',\n",
       " 'Jamil Wilson',\n",
       " 'Dwayne Bacon',\n",
       " 'Mangok Mathiang',\n",
       " 'Malik Monk',\n",
       " 'Marcus Paige',\n",
       " 'Lonzo Ball',\n",
       " 'Thomas Bryant',\n",
       " 'Alex Caruso',\n",
       " 'Josh Hart',\n",
       " 'Kyle Kuzma',\n",
       " 'PJ Dozier',\n",
       " 'Daniel Hamilton',\n",
       " 'Dakari Johnson',\n",
       " 'Devin Robinson',\n",
       " 'Jarrett Allen',\n",
       " 'Milton Doyle',\n",
       " 'Jacob Wiley',\n",
       " 'Zach Collins',\n",
       " 'Caleb Swanigan',\n",
       " 'Ike Anigbogu',\n",
       " 'Trey McKinney-Jones',\n",
       " 'Ben Moore',\n",
       " 'Edmond Sumner',\n",
       " 'Damyean Dotson',\n",
       " 'Isaiah Hicks',\n",
       " 'Tony Bradley',\n",
       " 'Erik McCree',\n",
       " 'Donovan Mitchell',\n",
       " 'Kadeem Allen',\n",
       " 'Jabari Bird',\n",
       " 'Abdel Nader',\n",
       " 'Semi Ojeleye',\n",
       " 'Jayson Tatum',\n",
       " 'Josh Gray',\n",
       " 'Shaquille Harrison',\n",
       " 'Alec Peters',\n",
       " 'Davon Reed',\n",
       " 'Reggie Hearn',\n",
       " 'Luke Kennard',\n",
       " 'Derrick Walton',\n",
       " 'Jamel Artis',\n",
       " 'Khem Birch',\n",
       " 'Jonathan Isaac',\n",
       " 'Wesley Iwundu',\n",
       " 'Rodney Purvis',\n",
       " 'Tyler Cavanaugh',\n",
       " 'Antonius Cleveland',\n",
       " 'John Collins',\n",
       " 'Tyler Dorsey',\n",
       " 'Damion Lee',\n",
       " 'Ryan Arcidiacono',\n",
       " 'Antonio Blakeney',\n",
       " 'Lauri Markkanen',\n",
       " 'Matt Costello',\n",
       " 'Brandon Paul',\n",
       " 'Derrick White',\n",
       " 'Gian Clavell',\n",
       " 'Kyle Collinsworth',\n",
       " 'Johnathan Motley',\n",
       " 'Jameel Warney',\n",
       " 'Dillon Brooks',\n",
       " 'Myke Henry',\n",
       " 'Vince Hunter',\n",
       " 'Omari Johnson',\n",
       " 'Ivan Rabb',\n",
       " 'Xavier Rathan-Mayes',\n",
       " 'Kobi Simmons',\n",
       " 'Bonzie Colson',\n",
       " 'Donte DiVincenzo',\n",
       " 'Trevon Duval',\n",
       " 'Marcus Derrickson',\n",
       " 'Jonah Bolden',\n",
       " 'Landry Shamet',\n",
       " 'Zhaire Smith',\n",
       " 'Shai Gilgeous-Alexander',\n",
       " 'Deonte Burton',\n",
       " 'Hamidou Diallo',\n",
       " 'Donte Grantham',\n",
       " 'Jordan Loyd',\n",
       " 'Harry Giles',\n",
       " 'Chris Chiozza',\n",
       " 'Gary Clark',\n",
       " 'Jaylen Adams',\n",
       " 'Kevin Huerter',\n",
       " 'Isaac Humphries',\n",
       " 'Jordan Sibert',\n",
       " 'Omari Spellman',\n",
       " 'Trae Young',\n",
       " 'Keita Bates-Diop',\n",
       " 'Josh Okogie',\n",
       " 'Cameron Reynolds',\n",
       " 'Jared Terrell',\n",
       " 'Brad Wanamaker',\n",
       " 'Tahjere McCall',\n",
       " 'Theo Pinson',\n",
       " 'Jemerrio Jones',\n",
       " 'Sviatoslav Mykhailiuk',\n",
       " 'Moritz Wagner',\n",
       " 'Grayson Allen',\n",
       " 'Drew Eubanks',\n",
       " 'Chimezie Metu',\n",
       " 'Miles Bridges',\n",
       " 'Joe Chealey',\n",
       " 'DeVaughn Akoon-Purcell',\n",
       " 'Brandon Goodwin',\n",
       " 'Jarred Vanderbilt',\n",
       " 'Thomas Welsh',\n",
       " 'Kostas Antetokounmpo',\n",
       " 'Ryan Broekhoff',\n",
       " 'Jalen Brunson',\n",
       " 'Daryl Macon',\n",
       " 'Aaron Holiday',\n",
       " 'Alize Johnson',\n",
       " 'Deandre Ayton',\n",
       " 'George King',\n",
       " 'Mohamed Bamba',\n",
       " 'Isaiah Briscoe',\n",
       " 'Troy Caupain',\n",
       " 'Melvin Frazier',\n",
       " 'Amile Jefferson',\n",
       " 'Zach Lofton',\n",
       " 'Khyri Thomas',\n",
       " 'Yante Maten',\n",
       " 'Rawle Alkins',\n",
       " 'Chandler Hutchison',\n",
       " 'Brandon Sampson',\n",
       " 'Billy Garrett',\n",
       " 'Kevin Knox',\n",
       " 'Allonzo Trier',\n",
       " 'Deng Adel',\n",
       " 'Jaron Blossomgame',\n",
       " 'Collin Sexton',\n",
       " 'Jevon Carter',\n",
       " 'Dusty Hannahs',\n",
       " 'Julian Washburn']"
      ]
     },
     "execution_count": 38,
     "metadata": {},
     "output_type": "execute_result"
    }
   ],
   "source": [
    "list(raw_preds.index)"
   ]
  },
  {
   "cell_type": "code",
   "execution_count": 54,
   "metadata": {},
   "outputs": [],
   "source": [
    "import time"
   ]
  },
  {
   "cell_type": "code",
   "execution_count": 61,
   "metadata": {},
   "outputs": [
    {
     "name": "stdout",
     "output_type": "stream",
     "text": [
      "Who would you like to search for today? Kemba Walker\n",
      "Calculating...\n",
      "Kemba Walker is projected to get 6.82 pts. per game over 82 games.\n",
      "Who would you like to search for today? Joel Embiid\n",
      "Calculating...\n",
      "Joel Embiid is projected to get 3.67 pts. per game over 82 games.\n",
      "Who would you like to search for today? Trae Young\n",
      "Calculating...\n",
      "Trae Young is projected to get 8.52 pts. per game over 82 games.\n"
     ]
    },
    {
     "ename": "KeyboardInterrupt",
     "evalue": "",
     "output_type": "error",
     "traceback": [
      "\u001b[0;31m---------------------------------------------------------------------------\u001b[0m",
      "\u001b[0;31mKeyboardInterrupt\u001b[0m                         Traceback (most recent call last)",
      "\u001b[0;32m/Library/Frameworks/Python.framework/Versions/3.6/lib/python3.6/site-packages/ipykernel/kernelbase.py\u001b[0m in \u001b[0;36m_input_request\u001b[0;34m(self, prompt, ident, parent, password)\u001b[0m\n\u001b[1;32m    883\u001b[0m             \u001b[0;32mtry\u001b[0m\u001b[0;34m:\u001b[0m\u001b[0;34m\u001b[0m\u001b[0m\n\u001b[0;32m--> 884\u001b[0;31m                 \u001b[0mident\u001b[0m\u001b[0;34m,\u001b[0m \u001b[0mreply\u001b[0m \u001b[0;34m=\u001b[0m \u001b[0mself\u001b[0m\u001b[0;34m.\u001b[0m\u001b[0msession\u001b[0m\u001b[0;34m.\u001b[0m\u001b[0mrecv\u001b[0m\u001b[0;34m(\u001b[0m\u001b[0mself\u001b[0m\u001b[0;34m.\u001b[0m\u001b[0mstdin_socket\u001b[0m\u001b[0;34m,\u001b[0m \u001b[0;36m0\u001b[0m\u001b[0;34m)\u001b[0m\u001b[0;34m\u001b[0m\u001b[0m\n\u001b[0m\u001b[1;32m    885\u001b[0m             \u001b[0;32mexcept\u001b[0m \u001b[0mException\u001b[0m\u001b[0;34m:\u001b[0m\u001b[0;34m\u001b[0m\u001b[0m\n",
      "\u001b[0;32m/Library/Frameworks/Python.framework/Versions/3.6/lib/python3.6/site-packages/jupyter_client/session.py\u001b[0m in \u001b[0;36mrecv\u001b[0;34m(self, socket, mode, content, copy)\u001b[0m\n\u001b[1;32m    802\u001b[0m         \u001b[0;32mtry\u001b[0m\u001b[0;34m:\u001b[0m\u001b[0;34m\u001b[0m\u001b[0m\n\u001b[0;32m--> 803\u001b[0;31m             \u001b[0mmsg_list\u001b[0m \u001b[0;34m=\u001b[0m \u001b[0msocket\u001b[0m\u001b[0;34m.\u001b[0m\u001b[0mrecv_multipart\u001b[0m\u001b[0;34m(\u001b[0m\u001b[0mmode\u001b[0m\u001b[0;34m,\u001b[0m \u001b[0mcopy\u001b[0m\u001b[0;34m=\u001b[0m\u001b[0mcopy\u001b[0m\u001b[0;34m)\u001b[0m\u001b[0;34m\u001b[0m\u001b[0m\n\u001b[0m\u001b[1;32m    804\u001b[0m         \u001b[0;32mexcept\u001b[0m \u001b[0mzmq\u001b[0m\u001b[0;34m.\u001b[0m\u001b[0mZMQError\u001b[0m \u001b[0;32mas\u001b[0m \u001b[0me\u001b[0m\u001b[0;34m:\u001b[0m\u001b[0;34m\u001b[0m\u001b[0m\n",
      "\u001b[0;32m/Library/Frameworks/Python.framework/Versions/3.6/lib/python3.6/site-packages/zmq/sugar/socket.py\u001b[0m in \u001b[0;36mrecv_multipart\u001b[0;34m(self, flags, copy, track)\u001b[0m\n\u001b[1;32m    474\u001b[0m         \"\"\"\n\u001b[0;32m--> 475\u001b[0;31m         \u001b[0mparts\u001b[0m \u001b[0;34m=\u001b[0m \u001b[0;34m[\u001b[0m\u001b[0mself\u001b[0m\u001b[0;34m.\u001b[0m\u001b[0mrecv\u001b[0m\u001b[0;34m(\u001b[0m\u001b[0mflags\u001b[0m\u001b[0;34m,\u001b[0m \u001b[0mcopy\u001b[0m\u001b[0;34m=\u001b[0m\u001b[0mcopy\u001b[0m\u001b[0;34m,\u001b[0m \u001b[0mtrack\u001b[0m\u001b[0;34m=\u001b[0m\u001b[0mtrack\u001b[0m\u001b[0;34m)\u001b[0m\u001b[0;34m]\u001b[0m\u001b[0;34m\u001b[0m\u001b[0m\n\u001b[0m\u001b[1;32m    476\u001b[0m         \u001b[0;31m# have first part already, only loop while more to receive\u001b[0m\u001b[0;34m\u001b[0m\u001b[0;34m\u001b[0m\u001b[0m\n",
      "\u001b[0;32mzmq/backend/cython/socket.pyx\u001b[0m in \u001b[0;36mzmq.backend.cython.socket.Socket.recv\u001b[0;34m()\u001b[0m\n",
      "\u001b[0;32mzmq/backend/cython/socket.pyx\u001b[0m in \u001b[0;36mzmq.backend.cython.socket.Socket.recv\u001b[0;34m()\u001b[0m\n",
      "\u001b[0;32mzmq/backend/cython/socket.pyx\u001b[0m in \u001b[0;36mzmq.backend.cython.socket._recv_copy\u001b[0;34m()\u001b[0m\n",
      "\u001b[0;32m/Library/Frameworks/Python.framework/Versions/3.6/lib/python3.6/site-packages/zmq/backend/cython/checkrc.pxd\u001b[0m in \u001b[0;36mzmq.backend.cython.checkrc._check_rc\u001b[0;34m()\u001b[0m\n",
      "\u001b[0;31mKeyboardInterrupt\u001b[0m: ",
      "\nDuring handling of the above exception, another exception occurred:\n",
      "\u001b[0;31mKeyboardInterrupt\u001b[0m                         Traceback (most recent call last)",
      "\u001b[0;32m<ipython-input-61-fa75b0a83e83>\u001b[0m in \u001b[0;36m<module>\u001b[0;34m\u001b[0m\n\u001b[1;32m      1\u001b[0m \u001b[0;32mwhile\u001b[0m \u001b[0;32mTrue\u001b[0m\u001b[0;34m:\u001b[0m\u001b[0;34m\u001b[0m\u001b[0m\n\u001b[0;32m----> 2\u001b[0;31m     \u001b[0mname\u001b[0m \u001b[0;34m=\u001b[0m \u001b[0minput\u001b[0m\u001b[0;34m(\u001b[0m\u001b[0;34m\"Who would you like to search for today? \"\u001b[0m\u001b[0;34m)\u001b[0m\u001b[0;34m\u001b[0m\u001b[0m\n\u001b[0m\u001b[1;32m      3\u001b[0m     \u001b[0mprint\u001b[0m\u001b[0;34m(\u001b[0m\u001b[0;34m\"Calculating...\"\u001b[0m\u001b[0;34m)\u001b[0m\u001b[0;34m\u001b[0m\u001b[0m\n\u001b[1;32m      4\u001b[0m     \u001b[0mtime\u001b[0m\u001b[0;34m.\u001b[0m\u001b[0msleep\u001b[0m\u001b[0;34m(\u001b[0m\u001b[0;36m1\u001b[0m\u001b[0;34m)\u001b[0m\u001b[0;34m\u001b[0m\u001b[0m\n\u001b[1;32m      5\u001b[0m     \u001b[0;32mtry\u001b[0m\u001b[0;34m:\u001b[0m\u001b[0;34m\u001b[0m\u001b[0m\n",
      "\u001b[0;32m/Library/Frameworks/Python.framework/Versions/3.6/lib/python3.6/site-packages/ipykernel/kernelbase.py\u001b[0m in \u001b[0;36mraw_input\u001b[0;34m(self, prompt)\u001b[0m\n\u001b[1;32m    857\u001b[0m             \u001b[0mself\u001b[0m\u001b[0;34m.\u001b[0m\u001b[0m_parent_ident\u001b[0m\u001b[0;34m,\u001b[0m\u001b[0;34m\u001b[0m\u001b[0m\n\u001b[1;32m    858\u001b[0m             \u001b[0mself\u001b[0m\u001b[0;34m.\u001b[0m\u001b[0m_parent_header\u001b[0m\u001b[0;34m,\u001b[0m\u001b[0;34m\u001b[0m\u001b[0m\n\u001b[0;32m--> 859\u001b[0;31m             \u001b[0mpassword\u001b[0m\u001b[0;34m=\u001b[0m\u001b[0;32mFalse\u001b[0m\u001b[0;34m,\u001b[0m\u001b[0;34m\u001b[0m\u001b[0m\n\u001b[0m\u001b[1;32m    860\u001b[0m         )\n\u001b[1;32m    861\u001b[0m \u001b[0;34m\u001b[0m\u001b[0m\n",
      "\u001b[0;32m/Library/Frameworks/Python.framework/Versions/3.6/lib/python3.6/site-packages/ipykernel/kernelbase.py\u001b[0m in \u001b[0;36m_input_request\u001b[0;34m(self, prompt, ident, parent, password)\u001b[0m\n\u001b[1;32m    887\u001b[0m             \u001b[0;32mexcept\u001b[0m \u001b[0mKeyboardInterrupt\u001b[0m\u001b[0;34m:\u001b[0m\u001b[0;34m\u001b[0m\u001b[0m\n\u001b[1;32m    888\u001b[0m                 \u001b[0;31m# re-raise KeyboardInterrupt, to truncate traceback\u001b[0m\u001b[0;34m\u001b[0m\u001b[0;34m\u001b[0m\u001b[0m\n\u001b[0;32m--> 889\u001b[0;31m                 \u001b[0;32mraise\u001b[0m \u001b[0mKeyboardInterrupt\u001b[0m\u001b[0;34m\u001b[0m\u001b[0m\n\u001b[0m\u001b[1;32m    890\u001b[0m             \u001b[0;32melse\u001b[0m\u001b[0;34m:\u001b[0m\u001b[0;34m\u001b[0m\u001b[0m\n\u001b[1;32m    891\u001b[0m                 \u001b[0;32mbreak\u001b[0m\u001b[0;34m\u001b[0m\u001b[0m\n",
      "\u001b[0;31mKeyboardInterrupt\u001b[0m: "
     ]
    }
   ],
   "source": [
    "while True:\n",
    "    name = input(\"Who would you like to search for today? \")\n",
    "    print(\"Calculating...\")\n",
    "    time.sleep(1)\n",
    "    try:\n",
    "        print(\"{} is projected to get\".format(name), round(raw_preds[name] / 82, 2), \"pts. per game over 82 games.\")\n",
    "    except KeyError:\n",
    "        print(\"Sorry! I can't find {} at the time. Please try correct capitalization/spelling, or try a different, more recent player.\".format(name))"
   ]
  },
  {
   "cell_type": "code",
   "execution_count": 43,
   "metadata": {},
   "outputs": [],
   "source": [
    "name = 'Kemba Walker'"
   ]
  },
  {
   "cell_type": "code",
   "execution_count": 48,
   "metadata": {},
   "outputs": [
    {
     "data": {
      "text/plain": [
       "('Trae Young', 699.0208880157741)"
      ]
     },
     "execution_count": 48,
     "metadata": {},
     "output_type": "execute_result"
    }
   ],
   "source": [
    "raw_preds.index[np.argmax(raw_preds)], raw_preds[np.argmax(raw_preds)]"
   ]
  },
  {
   "cell_type": "code",
   "execution_count": 50,
   "metadata": {},
   "outputs": [
    {
     "data": {
      "text/plain": [
       "8.524644975802122"
      ]
     },
     "execution_count": 50,
     "metadata": {},
     "output_type": "execute_result"
    }
   ],
   "source": [
    "raw_preds[np.argmax(raw_preds)] / 82"
   ]
  },
  {
   "cell_type": "code",
   "execution_count": null,
   "metadata": {
    "scrolled": true
   },
   "outputs": [],
   "source": [
    "for i in range(len(X_train.columns)):\n",
    "    print((i, X_train.columns[i], weights[i]))"
   ]
  },
  {
   "cell_type": "markdown",
   "metadata": {},
   "source": [
    "## Prove Analytical = Sklearn"
   ]
  },
  {
   "cell_type": "code",
   "execution_count": null,
   "metadata": {},
   "outputs": [],
   "source": [
    "from sklearn.linear_model import LinearRegression"
   ]
  },
  {
   "cell_type": "code",
   "execution_count": null,
   "metadata": {},
   "outputs": [],
   "source": [
    "linear_model = LinearRegression(fit_intercept=True).fit(old_X_train, y_train.NBA_points.values)"
   ]
  },
  {
   "cell_type": "code",
   "execution_count": null,
   "metadata": {
    "scrolled": true
   },
   "outputs": [],
   "source": [
    "pd.Series(np.append(linear_model.intercept_, linear_model.coef_))"
   ]
  },
  {
   "cell_type": "code",
   "execution_count": null,
   "metadata": {},
   "outputs": [],
   "source": [
    "linear_model.score(old_X_train, y_train.NBA_points.values)"
   ]
  },
  {
   "cell_type": "code",
   "execution_count": null,
   "metadata": {
    "scrolled": true
   },
   "outputs": [],
   "source": [
    "weights"
   ]
  },
  {
   "cell_type": "code",
   "execution_count": null,
   "metadata": {},
   "outputs": [],
   "source": [
    "name = 'Jared Sullinger'"
   ]
  },
  {
   "cell_type": "code",
   "execution_count": null,
   "metadata": {},
   "outputs": [],
   "source": [
    "pred_points = linear_model.predict(test_x.loc[name].values.reshape(1, -1))"
   ]
  },
  {
   "cell_type": "code",
   "execution_count": null,
   "metadata": {},
   "outputs": [],
   "source": [
    "orig_person = orig[orig['name'] == name]\n",
    "orig_person"
   ]
  },
  {
   "cell_type": "code",
   "execution_count": null,
   "metadata": {},
   "outputs": [],
   "source": [
    "print(\"We predict\", name, \"should get around\", (pred_points * np.std(orig['NBA_points']) + np.mean(orig['NBA_points']))[0] / 82, \"points. They actually got\", float(orig_person.NBA_points / 45))"
   ]
  },
  {
   "cell_type": "code",
   "execution_count": null,
   "metadata": {},
   "outputs": [],
   "source": [
    "orig[orig['name'] == name].NBA_points"
   ]
  },
  {
   "cell_type": "code",
   "execution_count": null,
   "metadata": {},
   "outputs": [],
   "source": [
    "sc2.inverse_transform(test_y['NBA_points'])"
   ]
  },
  {
   "cell_type": "code",
   "execution_count": null,
   "metadata": {},
   "outputs": [],
   "source": [
    "for col in nba_cols:\n",
    "    pred_stat = train_y[col]\n",
    "    col_name = col[4:]\n",
    "    reg = LinearRegression().fit(train_x.values, train_y.NBAPTS.values)"
   ]
  },
  {
   "cell_type": "code",
   "execution_count": null,
   "metadata": {},
   "outputs": [],
   "source": [
    "clean_data.tail()"
   ]
  },
  {
   "cell_type": "code",
   "execution_count": null,
   "metadata": {},
   "outputs": [],
   "source": [
    "reg = LinearRegression().fit(train_x.values, train_y.NBAPTS.values)"
   ]
  },
  {
   "cell_type": "code",
   "execution_count": null,
   "metadata": {},
   "outputs": [],
   "source": [
    "weights"
   ]
  },
  {
   "cell_type": "markdown",
   "metadata": {},
   "source": [
    "# Subset of Feature Selection"
   ]
  },
  {
   "cell_type": "code",
   "execution_count": null,
   "metadata": {},
   "outputs": [],
   "source": [
    "from sklearn.decomposition import PCA"
   ]
  },
  {
   "cell_type": "code",
   "execution_count": null,
   "metadata": {},
   "outputs": [],
   "source": [
    "clean_reduce.head()"
   ]
  },
  {
   "cell_type": "code",
   "execution_count": null,
   "metadata": {},
   "outputs": [],
   "source": [
    "clean_reduce.columns"
   ]
  },
  {
   "cell_type": "code",
   "execution_count": null,
   "metadata": {},
   "outputs": [],
   "source": [
    "clean_data = clean_reduce.to_csv(\"data/clean_player_data.csv\")"
   ]
  },
  {
   "cell_type": "code",
   "execution_count": null,
   "metadata": {},
   "outputs": [],
   "source": [
    "train = clean_reduce.iloc[:, 5:]\n",
    "train.head()"
   ]
  },
  {
   "cell_type": "code",
   "execution_count": null,
   "metadata": {},
   "outputs": [],
   "source": [
    "pca = PCA(n_components=7)\n",
    "pca_fitted = pca.fit_transform(train.values)"
   ]
  },
  {
   "cell_type": "code",
   "execution_count": null,
   "metadata": {},
   "outputs": [],
   "source": [
    "print(\"Ratios:\", list(pca.explained_variance_ratio_))\n",
    "print(\"Total explained by components:\", sum(pca.explained_variance_ratio_))"
   ]
  },
  {
   "cell_type": "code",
   "execution_count": null,
   "metadata": {},
   "outputs": [],
   "source": [
    "from sklearn.cluster import KMeans"
   ]
  },
  {
   "cell_type": "code",
   "execution_count": null,
   "metadata": {},
   "outputs": [],
   "source": [
    "k_means_cluster = KMeans(n_clusters=120, max_iter=10000, n_init=100).fit(train.values)\n",
    "k_means_cluster"
   ]
  },
  {
   "cell_type": "code",
   "execution_count": null,
   "metadata": {},
   "outputs": [],
   "source": [
    "def plot_cluster(data, labels):\n",
    "    plt.figure(figsize=(18, 9))\n",
    "    plt.scatter(data[:, 0], data[:, 1], color=plt.cm.Set1(np.true_divide(np.array(labels), max(labels))))"
   ]
  },
  {
   "cell_type": "code",
   "execution_count": null,
   "metadata": {},
   "outputs": [],
   "source": [
    "# plot_cluster(pca_fitted, k_means_cluster.labels_)"
   ]
  },
  {
   "cell_type": "code",
   "execution_count": null,
   "metadata": {},
   "outputs": [],
   "source": [
    "# Let's test how it did!\n",
    "player = 'Trae Young'"
   ]
  },
  {
   "cell_type": "code",
   "execution_count": null,
   "metadata": {},
   "outputs": [],
   "source": [
    "train['label'] = k_means_cluster.labels_\n",
    "train.head()"
   ]
  },
  {
   "cell_type": "code",
   "execution_count": null,
   "metadata": {},
   "outputs": [],
   "source": [
    "player_label = train.loc[player].label\n",
    "player_label"
   ]
  },
  {
   "cell_type": "code",
   "execution_count": null,
   "metadata": {},
   "outputs": [],
   "source": [
    "similar = train[train.label == player_label]\n",
    "similar.drop(index=player, inplace=True) # Don't want to take player's actual results in prediction\n",
    "similar"
   ]
  },
  {
   "cell_type": "markdown",
   "metadata": {},
   "source": [
    "# inverse_transform"
   ]
  },
  {
   "cell_type": "code",
   "execution_count": null,
   "metadata": {},
   "outputs": [],
   "source": [
    "nba_data = clean_data.iloc[:, nba_important]\n",
    "nba_data['NBA_games_played'] = clean_data['NBA_games_played'] # Adding number of games played, but not in the modelling training component yet\n",
    "nba_data['Guard'] = clean_data['Guard'] # Adding positions for curiousity\n",
    "nba_data['Forward'] = clean_data['Forward'] # Adding positions for curiousity\n",
    "nba_data['Center'] = clean_data['Center'] # Adding positions for curiousity\n",
    "similar_nba = nba_data.loc[similar.index]\n",
    "similar_nba"
   ]
  },
  {
   "cell_type": "code",
   "execution_count": null,
   "metadata": {},
   "outputs": [],
   "source": [
    "avg = similar_nba.mean()\n",
    "avg_stats = avg[:5] / avg[5]\n",
    "season_stats = pd.concat((avg_stats, pd.Series({'NBA_games_played': avg[5]}))).round(2)\n",
    "season_stats"
   ]
  },
  {
   "cell_type": "code",
   "execution_count": null,
   "metadata": {},
   "outputs": [],
   "source": [
    "print \"We predict that\", player, \"will average\", str(season_stats['NBA_points']), \"points,\", str(season_stats['NBA_total_rebounds']), \"rebounds,\", str(season_stats['NBA_assists']), \"assists,\", str(season_stats['NBA_steals']), \"steals,\", str(season_stats['NBA_blocks']), \"blocks per game, and play in\", int(season_stats['NBA_games_played']), \"games in his rookie season.\"\n"
   ]
  },
  {
   "cell_type": "markdown",
   "metadata": {},
   "source": [
    "### Boom"
   ]
  },
  {
   "cell_type": "markdown",
   "metadata": {},
   "source": [
    "Now that we've been able to select which features might be useful for our"
   ]
  },
  {
   "cell_type": "markdown",
   "metadata": {},
   "source": [
    "# Original In Notebook"
   ]
  },
  {
   "cell_type": "code",
   "execution_count": null,
   "metadata": {},
   "outputs": [],
   "source": [
    "clean_data = orig.copy(deep=True)"
   ]
  },
  {
   "cell_type": "code",
   "execution_count": null,
   "metadata": {},
   "outputs": [],
   "source": [
    "clean_data.set_index('name', inplace=True)"
   ]
  },
  {
   "cell_type": "code",
   "execution_count": null,
   "metadata": {},
   "outputs": [],
   "source": [
    "from sklearn.preprocessing import StandardScaler"
   ]
  },
  {
   "cell_type": "code",
   "execution_count": null,
   "metadata": {},
   "outputs": [],
   "source": [
    "nba_col = ['NBA_assists', 'NBA_blocks', 'NBA_points', 'NBA_steals', 'NBA_total_rebounds']\n",
    "nba_col"
   ]
  },
  {
   "cell_type": "code",
   "execution_count": null,
   "metadata": {},
   "outputs": [],
   "source": [
    "no_nba = clean_data.drop(columns=nba_col)\n",
    "\n",
    "sc_objs = {}\n",
    "for col in clean_data.columns:\n",
    "    sc = StandardScaler()\n",
    "    if col in nba_col:\n",
    "        sc.fit_transform(clean_data[[col]])\n",
    "        sc_objs[col] = sc\n",
    "    clean_data[col] = sc.fit_transform(clean_data[[col]])"
   ]
  },
  {
   "cell_type": "code",
   "execution_count": null,
   "metadata": {},
   "outputs": [],
   "source": [
    "train, test = train_test_split(clean_data, train_size=0.8)"
   ]
  },
  {
   "cell_type": "code",
   "execution_count": null,
   "metadata": {},
   "outputs": [],
   "source": [
    "train_x = train.drop(columns=nba_col)\n",
    "train_y = train[nba_col]"
   ]
  },
  {
   "cell_type": "code",
   "execution_count": null,
   "metadata": {},
   "outputs": [],
   "source": [
    "test_x = test.drop(columns=nba_col)\n",
    "test_y = test[nba_col]"
   ]
  },
  {
   "cell_type": "code",
   "execution_count": null,
   "metadata": {
    "scrolled": true
   },
   "outputs": [],
   "source": [
    "list(test_y.index)"
   ]
  },
  {
   "cell_type": "code",
   "execution_count": null,
   "metadata": {},
   "outputs": [],
   "source": [
    "from sklearn.linear_model import LinearRegression"
   ]
  },
  {
   "cell_type": "code",
   "execution_count": null,
   "metadata": {},
   "outputs": [],
   "source": [
    "linear_model = LinearRegression().fit(train_x, train_y.NBA_points.values)"
   ]
  },
  {
   "cell_type": "code",
   "execution_count": null,
   "metadata": {},
   "outputs": [],
   "source": [
    "name = 'Jared Sullinger'"
   ]
  },
  {
   "cell_type": "code",
   "execution_count": null,
   "metadata": {},
   "outputs": [],
   "source": [
    "pred_points = linear_model.predict(test_x.loc[name].values.reshape(1, -1))"
   ]
  },
  {
   "cell_type": "code",
   "execution_count": null,
   "metadata": {},
   "outputs": [],
   "source": [
    "orig_person = orig[orig['name'] == name]\n",
    "orig_person"
   ]
  },
  {
   "cell_type": "code",
   "execution_count": null,
   "metadata": {},
   "outputs": [],
   "source": [
    "print(\"We predict\", name, \"should get around\", (pred_points * np.std(orig['NBA_points']) + np.mean(orig['NBA_points']))[0] / 82, \"points. They actually got\", float(orig_person.NBA_points / 45))"
   ]
  },
  {
   "cell_type": "code",
   "execution_count": null,
   "metadata": {},
   "outputs": [],
   "source": [
    "orig[orig['name'] == name].NBA_points"
   ]
  },
  {
   "cell_type": "code",
   "execution_count": null,
   "metadata": {},
   "outputs": [],
   "source": [
    "sc2.inverse_transform(test_y['NBA_points'])"
   ]
  },
  {
   "cell_type": "code",
   "execution_count": null,
   "metadata": {},
   "outputs": [],
   "source": [
    "for col in nba_cols:\n",
    "    pred_stat = train_y[col]\n",
    "    col_name = col[4:]\n",
    "    reg = LinearRegression().fit(train_x.values, train_y.NBAPTS.values)"
   ]
  },
  {
   "cell_type": "code",
   "execution_count": null,
   "metadata": {},
   "outputs": [],
   "source": [
    "clean_data.tail()"
   ]
  },
  {
   "cell_type": "code",
   "execution_count": null,
   "metadata": {},
   "outputs": [],
   "source": [
    "reg = LinearRegression().fit(train_x.values, train_y.NBAPTS.values)"
   ]
  },
  {
   "cell_type": "code",
   "execution_count": null,
   "metadata": {},
   "outputs": [],
   "source": []
  }
 ],
 "metadata": {
  "kernelspec": {
   "display_name": "Python 3",
   "language": "python",
   "name": "python3"
  },
  "language_info": {
   "codemirror_mode": {
    "name": "ipython",
    "version": 3
   },
   "file_extension": ".py",
   "mimetype": "text/x-python",
   "name": "python",
   "nbconvert_exporter": "python",
   "pygments_lexer": "ipython3",
   "version": "3.6.5"
  }
 },
 "nbformat": 4,
 "nbformat_minor": 4
}
